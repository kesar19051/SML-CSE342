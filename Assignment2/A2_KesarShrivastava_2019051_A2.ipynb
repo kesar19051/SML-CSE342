{
  "nbformat": 4,
  "nbformat_minor": 0,
  "metadata": {
    "colab": {
      "name": "SML2.ipynb",
      "provenance": [],
      "toc_visible": true
    },
    "kernelspec": {
      "name": "python3",
      "display_name": "Python 3"
    },
    "language_info": {
      "name": "python"
    }
  },
  "cells": [
    {
      "cell_type": "code",
      "execution_count": 793,
      "metadata": {
        "id": "SfFZspxaKv59"
      },
      "outputs": [],
      "source": [
        "from scipy.stats import bernoulli\n",
        "import matplotlib.pyplot as plt\n",
        "import numpy as np\n",
        "import seaborn as sns\n",
        "from sklearn.model_selection import train_test_split\n",
        "import pandas as pd\n",
        "from mpl_toolkits import mplot3d\n",
        "from math import *\n",
        "import sympy as sp\n",
        "sp.init_printing(use_unicode=True)"
      ]
    },
    {
      "cell_type": "markdown",
      "source": [
        "# Question 1"
      ],
      "metadata": {
        "id": "hak2yD39V2NF"
      }
    },
    {
      "cell_type": "markdown",
      "source": [
        "# (a)"
      ],
      "metadata": {
        "id": "yWvzfX3nV5Ff"
      }
    },
    {
      "cell_type": "code",
      "source": [
        "#uij = mean of i-th class and j-th dimension\n",
        "u11 = 0.5\n",
        "u12 = 0.8\n",
        "u21 = 0.9\n",
        "u22 = 0.2"
      ],
      "metadata": {
        "id": "7QX9qKnCPhYX"
      },
      "execution_count": 794,
      "outputs": []
    },
    {
      "cell_type": "code",
      "source": [
        "rv11 = bernoulli.rvs(u11,size = 100)\n",
        "rv12 = bernoulli.rvs(u12,size = 100)\n",
        "rv21 = bernoulli.rvs(u21,size = 100)\n",
        "rv22 = bernoulli.rvs(u22,size = 100)"
      ],
      "metadata": {
        "id": "Q_9oB-gMO8CP"
      },
      "execution_count": 795,
      "outputs": []
    },
    {
      "cell_type": "code",
      "source": [
        "data1 = {}\n",
        "data2 = {}\n",
        "\n",
        "c1 = [1]*100\n",
        "c2 = [2]*100\n",
        "\n",
        "data1['f1'] = list(rv11)\n",
        "data1['f2'] = list(rv12)\n",
        "data1['class'] = c1\n",
        "data2['f1'] = list(rv21)\n",
        "data2['f2'] = list(rv22)\n",
        "data2['class']= c2\n",
        "\n",
        "df1 = pd.DataFrame(data1)\n",
        "df2 = pd.DataFrame(data2)"
      ],
      "metadata": {
        "id": "TB6qIwNCTtQe"
      },
      "execution_count": 796,
      "outputs": []
    },
    {
      "cell_type": "code",
      "source": [
        "print('Data generation')\n",
        "print(df1)\n",
        "print(df2)"
      ],
      "metadata": {
        "colab": {
          "base_uri": "https://localhost:8080/"
        },
        "id": "R6gR_yjXV-b8",
        "outputId": "15695afc-004e-4115-9dd7-b3864dc1ac64"
      },
      "execution_count": 797,
      "outputs": [
        {
          "output_type": "stream",
          "name": "stdout",
          "text": [
            "Data generation\n",
            "    f1  f2  class\n",
            "0    0   1      1\n",
            "1    1   1      1\n",
            "2    0   1      1\n",
            "3    1   1      1\n",
            "4    1   1      1\n",
            "..  ..  ..    ...\n",
            "95   0   0      1\n",
            "96   0   1      1\n",
            "97   1   0      1\n",
            "98   1   1      1\n",
            "99   0   1      1\n",
            "\n",
            "[100 rows x 3 columns]\n",
            "    f1  f2  class\n",
            "0    1   1      2\n",
            "1    0   0      2\n",
            "2    0   0      2\n",
            "3    1   0      2\n",
            "4    0   0      2\n",
            "..  ..  ..    ...\n",
            "95   1   0      2\n",
            "96   1   0      2\n",
            "97   1   0      2\n",
            "98   1   0      2\n",
            "99   1   0      2\n",
            "\n",
            "[100 rows x 3 columns]\n"
          ]
        }
      ]
    },
    {
      "cell_type": "code",
      "source": [
        "def computeMLE(xi, n):\n",
        "  return sum(xi[:n])/n"
      ],
      "metadata": {
        "id": "HkoP9RaTYab4"
      },
      "execution_count": 798,
      "outputs": []
    },
    {
      "cell_type": "code",
      "source": [
        "def plotN_MLE(l,s):\n",
        "\n",
        "  x = []\n",
        "  y = []\n",
        "\n",
        "  for i in range(1,51):\n",
        "    x.append(i)\n",
        "    y.append(computeMLE(l,i))\n",
        "\n",
        "  plt.plot(x, y)\n",
        "  plt.xlabel(\"n\")  \n",
        "  plt.ylabel(\"MLE\")  \n",
        "  plt.title(s)  \n",
        "  plt.show()"
      ],
      "metadata": {
        "id": "GU8IEtmMbVPF"
      },
      "execution_count": 799,
      "outputs": []
    },
    {
      "cell_type": "markdown",
      "source": [
        "# (b)"
      ],
      "metadata": {
        "id": "kx_lRYmnXjMS"
      }
    },
    {
      "cell_type": "code",
      "source": [
        "# split a dataset into train and test sets\n",
        "features1 = df1.loc[ : , df1.columns != 'class']\n",
        "labels1 = pd.DataFrame(df1['class'])\n",
        "\n",
        "# split into train test sets\n",
        "X_train1, X_test1, y_train1, y_test1 = train_test_split(features1, labels1, test_size=0.50, random_state = 0)"
      ],
      "metadata": {
        "id": "vdfyMMxBSwhi"
      },
      "execution_count": 800,
      "outputs": []
    },
    {
      "cell_type": "code",
      "source": [
        "u11_mle = computeMLE(X_train1['f1'].tolist(),50)\n",
        "u12_mle = computeMLE(X_train1['f2'].tolist(),50)\n",
        "u1_mle = np.array([u11_mle,u12_mle])\n",
        "print('The MLE for class 1 is')\n",
        "print(u1_mle)"
      ],
      "metadata": {
        "colab": {
          "base_uri": "https://localhost:8080/"
        },
        "id": "Dk_gHw2tZXAA",
        "outputId": "dec3fb4e-58fa-4e28-a9bc-7d08cec4801c"
      },
      "execution_count": 801,
      "outputs": [
        {
          "output_type": "stream",
          "name": "stdout",
          "text": [
            "The MLE for class 1 is\n",
            "[0.5  0.82]\n"
          ]
        }
      ]
    },
    {
      "cell_type": "code",
      "source": [
        "plotN_MLE(X_train1['f1'].tolist(),'Class 1 Dimension 1')\n",
        "plotN_MLE(X_train1['f2'].tolist(),'Class 1 Dimension 2')"
      ],
      "metadata": {
        "colab": {
          "base_uri": "https://localhost:8080/",
          "height": 573
        },
        "id": "vIQVdKD7eCqS",
        "outputId": "f6697e16-b294-4a1d-da6b-ed6831e5116c"
      },
      "execution_count": 802,
      "outputs": [
        {
          "output_type": "display_data",
          "data": {
            "image/png": "[encoded data removed]",
            "text/plain": [
              "<Figure size 432x288 with 1 Axes>"
            ]
          },
          "metadata": {
            "needs_background": "light"
          }
        },
        {
          "output_type": "display_data",
          "data": {
            "image/png": "[encoded data removed]",
            "text/plain": [
              "<Figure size 432x288 with 1 Axes>"
            ]
          },
          "metadata": {
            "needs_background": "light"
          }
        }
      ]
    },
    {
      "cell_type": "markdown",
      "source": [
        "# (c)"
      ],
      "metadata": {
        "id": "8v27t4Y-fXxM"
      }
    },
    {
      "cell_type": "code",
      "source": [
        "# split a dataset into train and test sets\n",
        "features2 = df2.loc[ : , df2.columns != 'class']\n",
        "labels2 = pd.DataFrame(df2['class'])\n",
        "\n",
        "# split into train test sets\n",
        "X_train2, X_test2, y_train2, y_test2 = train_test_split(features2, labels2, test_size=0.50, random_state = 0)"
      ],
      "metadata": {
        "id": "y4lU6BKYevot"
      },
      "execution_count": 803,
      "outputs": []
    },
    {
      "cell_type": "code",
      "source": [
        "u21_mle = computeMLE(X_train2['f1'].tolist(),50)\n",
        "u22_mle = computeMLE(X_train2['f2'].tolist(),50)\n",
        "u2_mle = np.array([u21_mle,u22_mle])\n",
        "print('The MLE for class 2 is')\n",
        "print(u2_mle)"
      ],
      "metadata": {
        "colab": {
          "base_uri": "https://localhost:8080/"
        },
        "outputId": "c03775a1-5cc9-4231-d1f8-8156675d4d35",
        "id": "onUbd_zqevou"
      },
      "execution_count": 804,
      "outputs": [
        {
          "output_type": "stream",
          "name": "stdout",
          "text": [
            "The MLE for class 2 is\n",
            "[0.9  0.26]\n"
          ]
        }
      ]
    },
    {
      "cell_type": "code",
      "source": [
        "plotN_MLE(X_train2['f1'].tolist(),'Class 2 Dimension 1')\n",
        "plotN_MLE(X_train2['f2'].tolist(),'Class 2 Dimension 2')"
      ],
      "metadata": {
        "colab": {
          "base_uri": "https://localhost:8080/",
          "height": 573
        },
        "outputId": "42c87071-7f0d-4247-adbc-c51096e66e5d",
        "id": "lkvJLNPIevow"
      },
      "execution_count": 805,
      "outputs": [
        {
          "output_type": "display_data",
          "data": {
            "image/png": "[encoded data removed]",
            "text/plain": [
              "<Figure size 432x288 with 1 Axes>"
            ]
          },
          "metadata": {
            "needs_background": "light"
          }
        },
        {
          "output_type": "display_data",
          "data": {
            "image/png": "[encoded data removed]",
            "text/plain": [
              "<Figure size 432x288 with 1 Axes>"
            ]
          },
          "metadata": {
            "needs_background": "light"
          }
        }
      ]
    },
    {
      "cell_type": "markdown",
      "source": [
        "Yes, the final answer matches the theoretically calculated values."
      ],
      "metadata": {
        "id": "GE2DqlkFFlyB"
      }
    },
    {
      "cell_type": "markdown",
      "source": [
        "# (d)"
      ],
      "metadata": {
        "id": "c4HzREkgfahP"
      }
    },
    {
      "cell_type": "code",
      "source": [
        "fig = plt.figure(figsize=(12,10))\n",
        "ax = plt.axes(projection ='3d')\n",
        "\n",
        "z = []\n",
        "for i in range(0,50):\n",
        "  z.append(i+1)\n",
        "\n",
        "x = X_train1['f1'].tolist()\n",
        "y = X_train1['f2'].tolist()\n",
        "\n",
        "# plotting\n",
        "ax.scatter3D(x, y, z, label='Class 1')\n",
        "\n",
        "x = X_train2['f2'].tolist()\n",
        "y = X_train2['f2'].tolist()\n",
        "\n",
        "ax.scatter3D(x, y, z, label='Class 2')\n",
        "\n",
        "ax.set_xlabel('D1')\n",
        "ax.set_ylabel('D2')\n",
        "ax.set_zlabel('n')\n",
        "ax.set_title('Training samples')\n",
        "plt.legend()\n",
        "plt.show()\n"
      ],
      "metadata": {
        "colab": {
          "base_uri": "https://localhost:8080/",
          "height": 575
        },
        "id": "ZtwpTJK9fckY",
        "outputId": "762706fc-dce8-4825-8afa-13c4e0600125"
      },
      "execution_count": 806,
      "outputs": [
        {
          "output_type": "display_data",
          "data": {
            "image/png": "[encoded data removed]",
            "text/plain": [
              "<Figure size 864x720 with 1 Axes>"
            ]
          },
          "metadata": {
            "needs_background": "light"
          }
        }
      ]
    },
    {
      "cell_type": "markdown",
      "source": [
        "# (e)"
      ],
      "metadata": {
        "id": "6-JsxIYZYuyT"
      }
    },
    {
      "cell_type": "code",
      "source": [
        "def discriminant(mu11, mu12, mu21, mu22, x1, x2):\n",
        "  d1 = np.log(pow(mu11, x1)*pow(1-mu11, 1-x1)*pow(mu12, x2)*pow(1-mu12, 1-x2))\n",
        "  d2 = np.log(pow(mu21, x1)*pow(1-mu21, 1-x1)*pow(mu22, x2)*pow(1-mu22, 1-x2))\n",
        "  if d1>=d2:\n",
        "    return 1\n",
        "  else:\n",
        "    return 2"
      ],
      "metadata": {
        "id": "mFpCoqdzYw1Z"
      },
      "execution_count": 807,
      "outputs": []
    },
    {
      "cell_type": "code",
      "source": [
        "X_test1_f1 = X_test1['f1'].tolist()\n",
        "X_test1_f2 = X_test1['f2'].tolist()\n",
        "pred1 = []\n",
        "for i in range(50):\n",
        "  d = discriminant(u11_mle, u12_mle, u21_mle, u22_mle, X_test1_f1[i], X_test1_f2[i])\n",
        "  pred1.append(d)"
      ],
      "metadata": {
        "id": "fbQNCMIYjtz4"
      },
      "execution_count": 808,
      "outputs": []
    },
    {
      "cell_type": "code",
      "source": [
        "X_test2_f1 = X_test2['f1'].tolist()\n",
        "X_test2_f2 = X_test2['f2'].tolist()\n",
        "pred2 = []\n",
        "for i in range(50):\n",
        "  d = discriminant(u11_mle, u12_mle, u21_mle, u22_mle, X_test2_f1[i], X_test2_f2[i])\n",
        "  pred2.append(d)"
      ],
      "metadata": {
        "id": "j-0SqEytnfmZ"
      },
      "execution_count": 809,
      "outputs": []
    },
    {
      "cell_type": "code",
      "source": [
        "num1 = 0\n",
        "num2 = 0\n",
        "\n",
        "for i in range(50):\n",
        "  if pred1[i]==1:\n",
        "    num1 += 1\n",
        "  if pred2[i]==2:\n",
        "    num2 += 1\n",
        "\n",
        "print('Number of samples correctly classified in class 1')\n",
        "print(num1)\n",
        "print('Number of samples correctly classified in class 2')\n",
        "print(num2)"
      ],
      "metadata": {
        "colab": {
          "base_uri": "https://localhost:8080/"
        },
        "id": "Xb8gc1S5no3O",
        "outputId": "f9d4f600-3361-4266-be29-aec89746c7a8"
      },
      "execution_count": 810,
      "outputs": [
        {
          "output_type": "stream",
          "name": "stdout",
          "text": [
            "Number of samples correctly classified in class 1\n",
            "48\n",
            "Number of samples correctly classified in class 2\n",
            "40\n"
          ]
        }
      ]
    },
    {
      "cell_type": "markdown",
      "source": [
        "# Question 3"
      ],
      "metadata": {
        "id": "tA5MavXjT0t_"
      }
    },
    {
      "cell_type": "markdown",
      "source": [
        "# (c)"
      ],
      "metadata": {
        "id": "pfds_u7NT3A4"
      }
    },
    {
      "cell_type": "code",
      "source": [
        "X = np.array([[2,4],[6,8]])\n",
        "mu = np.array([[3],[7]])\n",
        "\n",
        "print('X')\n",
        "print(X)\n",
        "\n",
        "print()\n",
        "\n",
        "print('Mean')\n",
        "print(mu)"
      ],
      "metadata": {
        "colab": {
          "base_uri": "https://localhost:8080/"
        },
        "id": "B1bDTDDwUshf",
        "outputId": "11e5b2ad-a74d-47d5-f9b4-1c460e1aa85f"
      },
      "execution_count": 647,
      "outputs": [
        {
          "output_type": "stream",
          "name": "stdout",
          "text": [
            "X\n",
            "[[2 4]\n",
            " [6 8]]\n",
            "\n",
            "Mean\n",
            "[[3]\n",
            " [7]]\n"
          ]
        }
      ]
    },
    {
      "cell_type": "code",
      "source": [
        "Xc = np.array([[-1,1],[-1,1]])\n",
        "print('Centralised X')\n",
        "print(Xc)"
      ],
      "metadata": {
        "colab": {
          "base_uri": "https://localhost:8080/"
        },
        "id": "DfkTmYiLU14S",
        "outputId": "a4928adc-7561-4eae-b68d-3bda582d246a"
      },
      "execution_count": 648,
      "outputs": [
        {
          "output_type": "stream",
          "name": "stdout",
          "text": [
            "Centralised X\n",
            "[[-1  1]\n",
            " [-1  1]]\n"
          ]
        }
      ]
    },
    {
      "cell_type": "code",
      "source": [
        "S = 0.5*(np.dot(Xc,np.transpose(Xc)))\n",
        "print('The covariance')\n",
        "print(S)"
      ],
      "metadata": {
        "colab": {
          "base_uri": "https://localhost:8080/"
        },
        "id": "vbJ5BY4qVk4v",
        "outputId": "2f951570-7700-4870-c5cb-33139f7a95ae"
      },
      "execution_count": 649,
      "outputs": [
        {
          "output_type": "stream",
          "name": "stdout",
          "text": [
            "The covariance\n",
            "[[1. 1.]\n",
            " [1. 1.]]\n"
          ]
        }
      ]
    },
    {
      "cell_type": "code",
      "source": [
        "e1, e2 = np.linalg.eig(S)\n",
        "\n",
        "print('Eigenvalue 1')\n",
        "print(e1[0])\n",
        "print('Eigenvalue 2')\n",
        "print(e1[1])\n",
        "\n",
        "print()\n",
        "print('The eigenvectors are')\n",
        "\n",
        "print('       1           2')\n",
        "print(e2)"
      ],
      "metadata": {
        "colab": {
          "base_uri": "https://localhost:8080/"
        },
        "id": "sS31w5bJWUC3",
        "outputId": "8885add6-397e-4739-a5c4-570d1ae6b129"
      },
      "execution_count": 650,
      "outputs": [
        {
          "output_type": "stream",
          "name": "stdout",
          "text": [
            "Eigenvalue 1\n",
            "2.0\n",
            "Eigenvalue 2\n",
            "0.0\n",
            "\n",
            "The eigenvectors are\n",
            "       1           2\n",
            "[[ 0.70710678 -0.70710678]\n",
            " [ 0.70710678  0.70710678]]\n"
          ]
        }
      ]
    },
    {
      "cell_type": "code",
      "source": [
        "U = e2"
      ],
      "metadata": {
        "id": "rEu214cKj7O4"
      },
      "execution_count": 651,
      "outputs": []
    },
    {
      "cell_type": "code",
      "source": [
        "print('U')\n",
        "print(U)"
      ],
      "metadata": {
        "colab": {
          "base_uri": "https://localhost:8080/"
        },
        "id": "4HZkqpF2jVOM",
        "outputId": "376d448a-355e-4a53-883a-2cbb04db8acf"
      },
      "execution_count": 652,
      "outputs": [
        {
          "output_type": "stream",
          "name": "stdout",
          "text": [
            "U\n",
            "[[ 0.70710678 -0.70710678]\n",
            " [ 0.70710678  0.70710678]]\n"
          ]
        }
      ]
    },
    {
      "cell_type": "code",
      "source": [
        "U1 = U[:,:1]"
      ],
      "metadata": {
        "id": "EY2tl_nJwX76"
      },
      "execution_count": 653,
      "outputs": []
    },
    {
      "cell_type": "code",
      "source": [
        "Y = np.dot(np.transpose(U1),Xc)\n",
        "print('Y')\n",
        "print(Y)"
      ],
      "metadata": {
        "colab": {
          "base_uri": "https://localhost:8080/"
        },
        "id": "Q6TRM61Ekz5c",
        "outputId": "5b567a35-1ca2-4be7-b93d-2c5c40749840"
      },
      "execution_count": 654,
      "outputs": [
        {
          "output_type": "stream",
          "name": "stdout",
          "text": [
            "Y\n",
            "[[-1.41421356  1.41421356]]\n"
          ]
        }
      ]
    },
    {
      "cell_type": "code",
      "source": [
        "X_ = np.dot(U1,Y)\n",
        "print(X_)\n",
        "print()\n",
        "\n",
        "X_[0][0] += 3\n",
        "X_[0][1] += 3\n",
        "X_[1][0] += 7\n",
        "X_[1][1] += 7\n",
        "\n",
        "print('After adding mean')\n",
        "print(X_)"
      ],
      "metadata": {
        "colab": {
          "base_uri": "https://localhost:8080/"
        },
        "id": "arucJs6umOW7",
        "outputId": "70d9a7ca-f458-4c02-f396-23b70aa5e314"
      },
      "execution_count": 655,
      "outputs": [
        {
          "output_type": "stream",
          "name": "stdout",
          "text": [
            "[[-1.  1.]\n",
            " [-1.  1.]]\n",
            "\n",
            "After adding mean\n",
            "[[2. 4.]\n",
            " [6. 8.]]\n"
          ]
        }
      ]
    },
    {
      "cell_type": "code",
      "source": [
        "mse = 0\n",
        "for i in range(2):\n",
        "  for j in range(2):\n",
        "    mse += pow(X_[i][j]-X[i][j],2)\n",
        "mse /= 4\n",
        "print('MSE = ',mse)"
      ],
      "metadata": {
        "colab": {
          "base_uri": "https://localhost:8080/"
        },
        "id": "6gFEPsX7nwtV",
        "outputId": "a7df4a1a-97f3-475b-bc73-3de5681f7695"
      },
      "execution_count": 656,
      "outputs": [
        {
          "output_type": "stream",
          "name": "stdout",
          "text": [
            "MSE =  0.0\n"
          ]
        }
      ]
    },
    {
      "cell_type": "code",
      "source": [
        "Y = np.dot(np.transpose(U),Xc)\n",
        "print('Y')\n",
        "print(Y)"
      ],
      "metadata": {
        "colab": {
          "base_uri": "https://localhost:8080/"
        },
        "outputId": "f60db919-e2ff-44e9-c217-fd8ee003f7cd",
        "id": "3T9wDuOsyeXW"
      },
      "execution_count": 657,
      "outputs": [
        {
          "output_type": "stream",
          "name": "stdout",
          "text": [
            "Y\n",
            "[[-1.41421356  1.41421356]\n",
            " [ 0.          0.        ]]\n"
          ]
        }
      ]
    },
    {
      "cell_type": "code",
      "source": [
        "X_ = np.dot(U,Y)\n",
        "print(X_)\n",
        "print()\n",
        "\n",
        "X_[0][0] += 3\n",
        "X_[0][1] += 3\n",
        "X_[1][0] += 7\n",
        "X_[1][1] += 7\n",
        "\n",
        "print('After adding mean')\n",
        "print(X_)"
      ],
      "metadata": {
        "colab": {
          "base_uri": "https://localhost:8080/"
        },
        "outputId": "eccdc360-8d11-4b70-a11d-14813c2d2f9d",
        "id": "Nl60-qM0yeXX"
      },
      "execution_count": 658,
      "outputs": [
        {
          "output_type": "stream",
          "name": "stdout",
          "text": [
            "[[-1.  1.]\n",
            " [-1.  1.]]\n",
            "\n",
            "After adding mean\n",
            "[[2. 4.]\n",
            " [6. 8.]]\n"
          ]
        }
      ]
    },
    {
      "cell_type": "code",
      "source": [
        "mse = 0\n",
        "for i in range(2):\n",
        "  for j in range(2):\n",
        "    mse += pow(X_[i][j]-X[i][j],2)\n",
        "mse /= 4\n",
        "print('MSE = ',mse)"
      ],
      "metadata": {
        "colab": {
          "base_uri": "https://localhost:8080/"
        },
        "outputId": "66e79121-973f-454b-f964-e186b7cf1b26",
        "id": "wNIgtROzyeXX"
      },
      "execution_count": 659,
      "outputs": [
        {
          "output_type": "stream",
          "name": "stdout",
          "text": [
            "MSE =  0.0\n"
          ]
        }
      ]
    },
    {
      "cell_type": "markdown",
      "source": [
        "# (d)"
      ],
      "metadata": {
        "id": "lXzieMZ0o6lJ"
      }
    },
    {
      "cell_type": "code",
      "source": [
        "d = 3\n",
        "N = 100\n",
        "mu = np.array([66, 60, 60])\n",
        "sigma = np.array([[630, 450, 225], [450, 450, 0], [225, 0, 900]])\n",
        "X = np.random.multivariate_normal(mu, sigma, N)\n",
        "X = X.T\n",
        "X"
      ],
      "metadata": {
        "id": "yFNIRTctwVjB",
        "colab": {
          "base_uri": "https://localhost:8080/"
        },
        "outputId": "34f3f846-f59e-4131-9fcf-8e16eac09389"
      },
      "execution_count": 660,
      "outputs": [
        {
          "output_type": "execute_result",
          "data": {
            "text/plain": [
              "array([[ 73.93441804,  85.16765732,  76.15230126,  39.55590336,\n",
              "        155.46924046,  55.96264678,  42.26586235,  82.89807274,\n",
              "         90.86061282,  39.69170461,  26.47381514,  26.290533  ,\n",
              "         94.99844614,  61.60707603,  68.23593562,  79.33503196,\n",
              "         65.30929018,  77.08814893,  43.71792524,  68.87485038,\n",
              "         71.4297815 , 105.62479094,  84.56360601,  68.5834683 ,\n",
              "         55.18736812, 113.0887919 ,  63.06716382, 118.61414722,\n",
              "         56.40626526,  26.13190353,  62.97946591,  86.18318866,\n",
              "        105.27107568,  59.26194741,  85.87994391,  46.32227538,\n",
              "         48.17425298,  89.42472603,  81.95061371,  66.87706867,\n",
              "         50.34426544,  58.02801974,  52.3095601 , 114.85469019,\n",
              "         16.14127456,  95.12820121,  38.56003034,  52.19849096,\n",
              "        101.45913139,  92.07499279, 108.40359435,  71.98278121,\n",
              "         89.02037731,  65.41691158,  74.44871527, 115.29492758,\n",
              "         69.52942534,  69.57295801,  56.43511375,  47.9129376 ,\n",
              "         99.47870316,  36.90114858,  66.53081897,  65.70840545,\n",
              "         45.52046565,  89.09208564,  70.86515788,  61.85837122,\n",
              "         77.02499342,  56.87897257,  23.49725078,  80.3532551 ,\n",
              "         59.53303542,  69.69087714,  83.96356958,  30.07228742,\n",
              "         43.85333969,  66.45547598,  17.35668667,  57.71490242,\n",
              "         88.3023107 ,  27.15360981,  63.96114487,  70.62357172,\n",
              "         47.63308035,  46.59182833,  71.03602093,  99.91714145,\n",
              "         85.60235539, 102.1992505 ,  93.57229079,  68.57138672,\n",
              "         19.93739997,  59.55964721, 100.00038907,  70.53677114,\n",
              "         52.5702523 ,  71.36013449,  86.35582711,  76.68810588],\n",
              "       [ 51.05979569,  89.11362854,  71.14304686,  46.11102813,\n",
              "        133.38622076,  48.96899996,  51.98214551,  55.70316443,\n",
              "         83.02370521,  33.99282241,  54.93959421,  53.09837222,\n",
              "         64.72886699,  55.99867553,  84.33459934,  73.03120582,\n",
              "         55.08422339,  68.71672453,  57.23948405,  48.92555838,\n",
              "         70.47697782,  92.49407378,  74.56965464,  60.52094164,\n",
              "         52.13940254,  91.74803799,  48.67503073,  86.96119205,\n",
              "         41.73162698,  28.87994206,  51.47209946,  63.06051001,\n",
              "         94.84815246,  54.98237734,  93.34074716,  38.46818007,\n",
              "         38.10021532,  46.70792755,  70.7477943 ,  58.4914676 ,\n",
              "         56.0296373 ,  53.09754954,  41.14936834,  95.09712861,\n",
              "         24.61286034,  92.59483659,  22.63944414,  50.23678792,\n",
              "         91.09997399,  82.19346041,  86.99734629,  65.77777524,\n",
              "         61.56251803,  63.30042334,  75.37317151,  93.09438439,\n",
              "         60.99999511,  74.78050355,  62.22805444,  36.03596583,\n",
              "         85.05150249,  45.41699424,  65.76283575,  75.07451683,\n",
              "         48.19564136,  86.56279227,  62.15930097,  82.48796634,\n",
              "         54.83237622,  53.56495296,  27.76071069,  72.88983807,\n",
              "         44.83296473,  70.86959218,  74.58483111,  16.55788719,\n",
              "         35.60974173,  51.79228278,  31.81728939,  55.60371558,\n",
              "         85.12317858,  17.84638241,  37.34308565,  97.34983531,\n",
              "         46.38867479,  54.40339468,  57.4684644 ,  75.08477097,\n",
              "         65.06217895,  88.84561061,  90.38303081,  64.83553616,\n",
              "         52.47818327,  51.24455184,  90.60989995,  68.41656885,\n",
              "         56.23090639,  83.79807113,  86.12891786,  77.53929678],\n",
              "       [ 46.62992373,  49.40610753,  68.16984377,  33.1536912 ,\n",
              "         34.19610924,  54.14470308,  54.17953832, 124.38797326,\n",
              "         74.68130256, 104.09851642,   5.02778078, -27.73709228,\n",
              "         84.00464807,  59.19726575,  70.87500557, 103.23737665,\n",
              "         59.53557013, 111.78348   ,  73.86371898,  55.16238803,\n",
              "         18.36425856, 101.42517613,  85.30075702,  48.08508593,\n",
              "         68.19748816,  92.79182292,  63.33772373, 124.98953083,\n",
              "         72.65814871,  37.36044246,  84.61536695, 162.47223337,\n",
              "         25.80059617,  43.7184026 ,  21.98269886,  51.20774049,\n",
              "         60.93217797, 116.67657767,  72.74235745,  36.42055379,\n",
              "         43.68122928,  55.83165001,  -5.56476719,  99.57100259,\n",
              "         89.50994596,  42.32721174,  43.50813831,  34.4844263 ,\n",
              "        135.73877984,  93.1031558 ,  23.5726129 ,  67.74980687,\n",
              "         69.05462109,  69.20818788,  56.59688342,  98.19882676,\n",
              "         27.80237592,  59.81143114,  65.52541633,  62.85557107,\n",
              "         56.72834896,  33.8753222 ,  55.88922932,  28.07335559,\n",
              "         21.37049191,  37.76870154,  39.25587567,  66.42027458,\n",
              "         67.37323728,  31.28993122,  56.37624025,  82.99375367,\n",
              "         60.17290266,  54.52840714,  76.6835861 ,  92.85237611,\n",
              "         40.226633  ,  36.85023768,  -6.72640873,  30.2915487 ,\n",
              "         33.91646718,  53.40357177,  60.86860461,  32.58424059,\n",
              "          4.64010801,  46.18570779,  69.65230879, 101.20198007,\n",
              "        112.64113644,  50.87254993,  74.33890827,  78.39575891,\n",
              "         -9.22292172,  28.78671405,  54.85158766,  41.02258684,\n",
              "         60.95694943,  25.94096054,  57.83647539,  61.29750888]])"
            ]
          },
          "metadata": {},
          "execution_count": 660
        }
      ]
    },
    {
      "cell_type": "markdown",
      "source": [
        "# (e)"
      ],
      "metadata": {
        "id": "HdYJJ7zbyep8"
      }
    },
    {
      "cell_type": "code",
      "source": [
        "Xc = np.empty((d,N))\n",
        "for i in range(d):\n",
        "  for j in range(N):\n",
        "    Xc[i][j] = X[i][j]-mu[i]\n",
        "\n",
        "print('Xc = ', Xc)\n",
        "\n",
        "S = np.cov(Xc)\n",
        "print('S = ', S)\n",
        "\n",
        "eigenValues, eigenVectors = np.linalg.eig(S)\n",
        "\n",
        "idx = eigenValues.argsort()[::-1]   \n",
        "eigenValues = eigenValues[idx]\n",
        "eigenVectors = eigenVectors[:,idx]\n",
        "\n",
        "print('Eigenvalues = ',eigenValues)\n",
        "print('U = ', eigenVectors)"
      ],
      "metadata": {
        "colab": {
          "base_uri": "https://localhost:8080/"
        },
        "id": "gs3B_s3gyeED",
        "outputId": "42fae0d8-c09f-4172-f04f-82675ad393f8"
      },
      "execution_count": 661,
      "outputs": [
        {
          "output_type": "stream",
          "name": "stdout",
          "text": [
            "Xc =  [[  7.93441804  19.16765732  10.15230126 -26.44409664  89.46924046\n",
            "  -10.03735322 -23.73413765  16.89807274  24.86061282 -26.30829539\n",
            "  -39.52618486 -39.709467    28.99844614  -4.39292397   2.23593562\n",
            "   13.33503196  -0.69070982  11.08814893 -22.28207476   2.87485038\n",
            "    5.4297815   39.62479094  18.56360601   2.5834683  -10.81263188\n",
            "   47.0887919   -2.93283618  52.61414722  -9.59373474 -39.86809647\n",
            "   -3.02053409  20.18318866  39.27107568  -6.73805259  19.87994391\n",
            "  -19.67772462 -17.82574702  23.42472603  15.95061371   0.87706867\n",
            "  -15.65573456  -7.97198026 -13.6904399   48.85469019 -49.85872544\n",
            "   29.12820121 -27.43996966 -13.80150904  35.45913139  26.07499279\n",
            "   42.40359435   5.98278121  23.02037731  -0.58308842   8.44871527\n",
            "   49.29492758   3.52942534   3.57295801  -9.56488625 -18.0870624\n",
            "   33.47870316 -29.09885142   0.53081897  -0.29159455 -20.47953435\n",
            "   23.09208564   4.86515788  -4.14162878  11.02499342  -9.12102743\n",
            "  -42.50274922  14.3532551   -6.46696458   3.69087714  17.96356958\n",
            "  -35.92771258 -22.14666031   0.45547598 -48.64331333  -8.28509758\n",
            "   22.3023107  -38.84639019  -2.03885513   4.62357172 -18.36691965\n",
            "  -19.40817167   5.03602093  33.91714145  19.60235539  36.1992505\n",
            "   27.57229079   2.57138672 -46.06260003  -6.44035279  34.00038907\n",
            "    4.53677114 -13.4297477    5.36013449  20.35582711  10.68810588]\n",
            " [ -8.94020431  29.11362854  11.14304686 -13.88897187  73.38622076\n",
            "  -11.03100004  -8.01785449  -4.29683557  23.02370521 -26.00717759\n",
            "   -5.06040579  -6.90162778   4.72886699  -4.00132447  24.33459934\n",
            "   13.03120582  -4.91577661   8.71672453  -2.76051595 -11.07444162\n",
            "   10.47697782  32.49407378  14.56965464   0.52094164  -7.86059746\n",
            "   31.74803799 -11.32496927  26.96119205 -18.26837302 -31.12005794\n",
            "   -8.52790054   3.06051001  34.84815246  -5.01762266  33.34074716\n",
            "  -21.53181993 -21.89978468 -13.29207245  10.7477943   -1.5085324\n",
            "   -3.9703627   -6.90245046 -18.85063166  35.09712861 -35.38713966\n",
            "   32.59483659 -37.36055586  -9.76321208  31.09997399  22.19346041\n",
            "   26.99734629   5.77777524   1.56251803   3.30042334  15.37317151\n",
            "   33.09438439   0.99999511  14.78050355   2.22805444 -23.96403417\n",
            "   25.05150249 -14.58300576   5.76283575  15.07451683 -11.80435864\n",
            "   26.56279227   2.15930097  22.48796634  -5.16762378  -6.43504704\n",
            "  -32.23928931  12.88983807 -15.16703527  10.86959218  14.58483111\n",
            "  -43.44211281 -24.39025827  -8.20771722 -28.18271061  -4.39628442\n",
            "   25.12317858 -42.15361759 -22.65691435  37.34983531 -13.61132521\n",
            "   -5.59660532  -2.5315356   15.08477097   5.06217895  28.84561061\n",
            "   30.38303081   4.83553616  -7.52181673  -8.75544816  30.60989995\n",
            "    8.41656885  -3.76909361  23.79807113  26.12891786  17.53929678]\n",
            " [-13.37007627 -10.59389247   8.16984377 -26.8463088  -25.80389076\n",
            "   -5.85529692  -5.82046168  64.38797326  14.68130256  44.09851642\n",
            "  -54.97221922 -87.73709228  24.00464807  -0.80273425  10.87500557\n",
            "   43.23737665  -0.46442987  51.78348     13.86371898  -4.83761197\n",
            "  -41.63574144  41.42517613  25.30075702 -11.91491407   8.19748816\n",
            "   32.79182292   3.33772373  64.98953083  12.65814871 -22.63955754\n",
            "   24.61536695 102.47223337 -34.19940383 -16.2815974  -38.01730114\n",
            "   -8.79225951   0.93217797  56.67657767  12.74235745 -23.57944621\n",
            "  -16.31877072  -4.16834999 -65.56476719  39.57100259  29.50994596\n",
            "  -17.67278826 -16.49186169 -25.5155737   75.73877984  33.1031558\n",
            "  -36.4273871    7.74980687   9.05462109   9.20818788  -3.40311658\n",
            "   38.19882676 -32.19762408  -0.18856886   5.52541633   2.85557107\n",
            "   -3.27165104 -26.1246778   -4.11077068 -31.92664441 -38.62950809\n",
            "  -22.23129846 -20.74412433   6.42027458   7.37323728 -28.71006878\n",
            "   -3.62375975  22.99375367   0.17290266  -5.47159286  16.6835861\n",
            "   32.85237611 -19.773367   -23.14976232 -66.72640873 -29.7084513\n",
            "  -26.08353282  -6.59642823   0.86860461 -27.41575941 -55.35989199\n",
            "  -13.81429221   9.65230879  41.20198007  52.64113644  -9.12745007\n",
            "   14.33890827  18.39575891 -69.22292172 -31.21328595  -5.14841234\n",
            "  -18.97741316   0.95694943 -34.05903946  -2.16352461   1.29750888]]\n",
            "S =  [[ 633.78324329  446.48011747  325.78672786]\n",
            " [ 446.48011747  436.18168933   91.82821894]\n",
            " [ 325.78672786   91.82821894 1031.03031042]]\n",
            "Eigenvalues =  [1331.27693385  712.16296797   57.55534121]\n",
            "U =  [[-0.57455106 -0.48779674  0.65722555]\n",
            " [-0.36190297 -0.56881985 -0.73855955]\n",
            " [-0.73410988  0.66219205 -0.15028096]]\n"
          ]
        }
      ]
    },
    {
      "cell_type": "markdown",
      "source": [
        "# (f)"
      ],
      "metadata": {
        "id": "b4NT8klC1O_K"
      }
    },
    {
      "cell_type": "code",
      "source": [
        "def computeMSE(X1, X2, ro, col):\n",
        "  mse = np.square(np.subtract(X1, X2))\n",
        "  mse = np.mean(mse)\n",
        "  return mse"
      ],
      "metadata": {
        "id": "RJF0Gmzz2Kqv"
      },
      "execution_count": 662,
      "outputs": []
    },
    {
      "cell_type": "code",
      "source": [
        "def computeY(U,xc,p):\n",
        "  U = U[:,:p]\n",
        "  # print('UUUU = ', U)\n",
        "  Y = np.dot(np.transpose(U),xc)\n",
        "  return Y"
      ],
      "metadata": {
        "id": "Gkqy3uzw3bgc"
      },
      "execution_count": 663,
      "outputs": []
    },
    {
      "cell_type": "code",
      "source": [
        "def computeFinalX(u,y,mean,p,d,N):\n",
        "  u = u[:,:p]\n",
        "  x = np.dot(u,y)\n",
        "  # print(x)\n",
        "  for i in range(d):\n",
        "    for j in range(N):\n",
        "      x[i][j] += mean[i]\n",
        "  return x"
      ],
      "metadata": {
        "id": "ljg-ACPX52sP"
      },
      "execution_count": 664,
      "outputs": []
    },
    {
      "cell_type": "code",
      "source": [
        "Y = computeY(eigenVectors,Xc,d)\n",
        "print(Y)\n",
        "X_ = computeFinalX(eigenVectors,Y,mu,d,d,N)\n",
        "print(X_)\n",
        "mse = computeMSE(X_,X,d,N)\n",
        "print(mse)"
      ],
      "metadata": {
        "colab": {
          "base_uri": "https://localhost:8080/"
        },
        "id": "IScqlT0g6fij",
        "outputId": "28a8b304-dcf0-47d0-9195-d7065d87bd72"
      },
      "execution_count": 665,
      "outputs": [
        {
          "output_type": "stream",
          "name": "stdout",
          "text": [
            "[[ 8.49186336e+00 -1.37720252e+01 -1.58632802e+01  3.99280845e+01\n",
            "  -5.90204467e+01  1.40575549e+01  2.08110177e+01 -5.54216156e+01\n",
            "  -3.33937280e+01 -7.84562308e+00  6.48968367e+01  8.97215026e+01\n",
            "  -3.59945283e+01  4.56134547e+00 -1.80748720e+01 -4.41186744e+01\n",
            "   2.51682477e+00 -4.75400807e+01  3.62373539e+00  5.90746375e+00\n",
            "   2.36538733e+01 -6.49367986e+01 -3.45120766e+01  7.07399142e+00\n",
            "   3.03932556e+00 -6.26174258e+01  3.33334815e+00 -8.76963064e+01\n",
            "   2.83099679e+00  5.07886213e+01 -1.32486606e+01 -8.79297595e+01\n",
            "  -1.00687675e+01  1.76397294e+01  4.42071837e+00  2.55527717e+01\n",
            "   1.74830778e+01 -5.02550965e+01 -2.24083912e+01  1.73519262e+01\n",
            "   2.24116758e+01  1.01383539e+01  6.28197000e+01 -6.98207331e+01\n",
            "   1.97895513e+01 -1.55580384e+01  4.13933984e+01  3.01942419e+01\n",
            "  -8.72288413e+01 -4.73146478e+01 -7.39174482e+00 -1.12176171e+01\n",
            "  -2.04389489e+01 -7.61924069e+00 -7.91955319e+00 -6.83415451e+01\n",
            "   2.12468578e+01 -7.26352466e+00  6.32913250e-01  1.69682930e+01\n",
            "  -2.58996861e+01  4.11747932e+01  6.27187418e-01  1.81496888e+01\n",
            "   4.43968743e+01 -6.56051967e+00  1.16517277e+01 -1.04720716e+01\n",
            "  -9.87700960e+00  2.86457039e+01  3.87477319e+01 -2.97914904e+01\n",
            "   9.07766689e+00 -2.03758464e+00 -2.78468671e+01  1.22468808e+01\n",
            "   3.60671182e+01  1.97031724e+01  8.71319900e+01  2.81605077e+01\n",
            "  -2.75778985e+00  4.24172571e+01  8.73337972e+00  3.95268566e+00\n",
            "   5.61189561e+01  2.33176221e+01 -9.06313619e+00 -5.51931337e+01\n",
            "  -5.17389502e+01 -2.45370785e+01 -3.73637322e+01 -1.67318963e+01\n",
            "   8.00047145e+01  2.97829159e+01 -2.68332728e+01  8.27891867e+00\n",
            "   8.37761587e+00  1.33108140e+01 -1.95633301e+01 -1.34409002e+01]\n",
            " [-7.63857578e+00 -3.29255221e+01 -5.88064019e+00  3.02225493e+00\n",
            "  -1.02473475e+02  7.29350898e+00  1.22838864e+01  3.68385045e+01\n",
            "  -1.55014248e+01  5.68281868e+01 -1.42429630e+01 -3.48028734e+01\n",
            "  -9.39533925e-01  3.88732257e+00 -7.73134314e+00  1.47142533e+01\n",
            "   2.82557557e+00  2.39235998e+01  2.16198043e+01  1.69359144e+00\n",
            "  -3.61789997e+01 -1.03806960e+01 -5.88815245e-01 -9.44649074e+00\n",
            "   1.51739420e+01 -1.93141893e+01  1.00827094e+01  2.03447961e+00\n",
            "   2.34533313e+01  2.21574994e+01  2.26243461e+01  5.62701257e+01\n",
            "  -6.16251971e+01 -4.64062085e+00 -5.38370054e+01  1.60242923e+01\n",
            "   2.17696545e+01  3.36650688e+01 -5.45632841e+00 -1.51838699e+01\n",
            "  -9.10922760e-01  5.05470865e+00 -2.60157020e+01 -1.75914991e+01\n",
            "   6.39910831e+01 -4.44520118e+01  2.37157741e+01 -4.61037000e+00\n",
            "   1.51664863e+01 -3.42273090e+00 -6.01628879e+01 -1.07303397e+00\n",
            "  -6.12215826e+00  4.50467111e+00 -1.51193377e+01 -1.75756887e+01\n",
            "  -2.36114699e+01 -1.02751900e+01  7.05724553e+00  2.43449650e+01\n",
            "  -3.27470557e+01  5.18987424e+00 -6.25906681e+00 -2.95740157e+01\n",
            "  -8.87574941e+00 -4.10950769e+01 -1.73380556e+01 -6.51987393e+00\n",
            "   2.44399023e+00 -1.09019893e+01  3.66714256e+01  8.92813956e-01\n",
            "   1.18963698e+01 -1.16064830e+01 -6.01097417e+00  6.39907397e+01\n",
            "   1.15829655e+01 -1.08830557e+01 -4.42676217e+00 -1.31305628e+01\n",
            "  -4.24418654e+01  3.85588549e+01  1.44574327e+01 -4.16551890e+01\n",
            "  -1.99571647e+01  3.50298869e+00  5.37511524e+00  2.15843525e+00\n",
            "   2.24171090e+01 -4.01099574e+01 -2.12370338e+01  8.17666225e+00\n",
            "  -1.90911234e+01 -1.25473339e+01 -3.74060356e+01 -1.95672258e+01\n",
            "   9.32860677e+00 -3.87050966e+01 -2.62248222e+01 -1.43311234e+01]\n",
            " [ 1.38268434e+01 -7.31261410e+00 -2.78522392e+00 -3.08741398e+00\n",
            "   8.47920952e+00  2.43018514e+00 -8.80231400e+00  4.60302768e+00\n",
            "  -2.87166780e+00 -4.70980170e+00 -1.39789296e+01 -7.81559866e+00\n",
            "   1.19585282e+01  1.88710233e-01 -1.81373431e+01 -7.35795231e+00\n",
            "   3.24643660e+00 -6.93247647e+00 -1.46889963e+01  1.07955607e+01\n",
            "   2.08777821e+00 -4.18179892e+00 -2.36230355e+00  3.10375965e+00\n",
            "  -2.53274493e+00  2.57215365e+00  5.93503306e+00  4.90022670e+00\n",
            "   5.28475513e+00  1.83979006e-01  6.13969290e-01 -4.39508721e+00\n",
            "   5.21203748e+00  1.72420693e+00 -5.84524385e+00  4.29113717e+00\n",
            "   4.31867026e+00  1.66949050e+01  6.30330965e-01  5.23411475e+00\n",
            "  -4.90459889e+00  4.84905279e-01  1.47777433e+01  2.40462628e-01\n",
            "  -1.10677010e+01 -2.27354641e+00  1.20371592e+01  1.97451411e+00\n",
            "  -1.10466324e+01 -4.22881481e+00  1.34039201e+01 -1.49984285e+00\n",
            "   1.26148303e+01 -4.20459510e+00 -5.28986755e+00  2.21515567e+00\n",
            "   6.41976238e+00 -8.53970451e+00 -8.76220336e+00  5.38244893e+00\n",
            "   3.99269936e+00 -4.42804868e+00 -3.28955905e+00 -6.52710506e+00\n",
            "   1.06382821e+00 -1.10055453e+00  4.72018059e+00 -2.02955316e+01\n",
            "   9.95444807e+00  3.07266990e+00 -3.57867539e+00 -3.54211048e+00\n",
            "   6.92552048e+00 -4.77982617e+00 -1.47287483e+00  3.53489029e+00\n",
            "   6.42986788e+00  9.84020690e+00 -1.12730934e+00  2.26635463e+00\n",
            "   2.25431240e-02  6.59343451e+00  1.52629581e+01 -2.04262816e+01\n",
            "   6.30110312e+00 -6.54609483e+00  3.72893319e+00  4.95833705e+00\n",
            "   1.23348764e+00  3.85855287e+00 -6.47332866e+00 -4.64588268e+00\n",
            "  -1.43153208e+01  6.92441805e+00  5.12398608e-01 -3.82511582e-01\n",
            "  -6.18648446e+00 -8.93505034e+00 -5.59425575e+00 -6.12430984e+00]]\n",
            "[[ 73.93441804  85.16765732  76.15230126  39.55590336 155.46924046\n",
            "   55.96264678  42.26586235  82.89807274  90.86061282  39.69170461\n",
            "   26.47381514  26.290533    94.99844614  61.60707603  68.23593562\n",
            "   79.33503196  65.30929018  77.08814893  43.71792524  68.87485038\n",
            "   71.4297815  105.62479094  84.56360601  68.5834683   55.18736812\n",
            "  113.0887919   63.06716382 118.61414722  56.40626526  26.13190353\n",
            "   62.97946591  86.18318866 105.27107568  59.26194741  85.87994391\n",
            "   46.32227538  48.17425298  89.42472603  81.95061371  66.87706867\n",
            "   50.34426544  58.02801974  52.3095601  114.85469019  16.14127456\n",
            "   95.12820121  38.56003034  52.19849096 101.45913139  92.07499279\n",
            "  108.40359435  71.98278121  89.02037731  65.41691158  74.44871527\n",
            "  115.29492758  69.52942534  69.57295801  56.43511375  47.9129376\n",
            "   99.47870316  36.90114858  66.53081897  65.70840545  45.52046565\n",
            "   89.09208564  70.86515788  61.85837122  77.02499342  56.87897257\n",
            "   23.49725078  80.3532551   59.53303542  69.69087714  83.96356958\n",
            "   30.07228742  43.85333969  66.45547598  17.35668667  57.71490242\n",
            "   88.3023107   27.15360981  63.96114487  70.62357172  47.63308035\n",
            "   46.59182833  71.03602093  99.91714145  85.60235539 102.1992505\n",
            "   93.57229079  68.57138672  19.93739997  59.55964721 100.00038907\n",
            "   70.53677114  52.5702523   71.36013449  86.35582711  76.68810588]\n",
            " [ 51.05979569  89.11362854  71.14304686  46.11102813 133.38622076\n",
            "   48.96899996  51.98214551  55.70316443  83.02370521  33.99282241\n",
            "   54.93959421  53.09837222  64.72886699  55.99867553  84.33459934\n",
            "   73.03120582  55.08422339  68.71672453  57.23948405  48.92555838\n",
            "   70.47697782  92.49407378  74.56965464  60.52094164  52.13940254\n",
            "   91.74803799  48.67503073  86.96119205  41.73162698  28.87994206\n",
            "   51.47209946  63.06051001  94.84815246  54.98237734  93.34074716\n",
            "   38.46818007  38.10021532  46.70792755  70.7477943   58.4914676\n",
            "   56.0296373   53.09754954  41.14936834  95.09712861  24.61286034\n",
            "   92.59483659  22.63944414  50.23678792  91.09997399  82.19346041\n",
            "   86.99734629  65.77777524  61.56251803  63.30042334  75.37317151\n",
            "   93.09438439  60.99999511  74.78050355  62.22805444  36.03596583\n",
            "   85.05150249  45.41699424  65.76283575  75.07451683  48.19564136\n",
            "   86.56279227  62.15930097  82.48796634  54.83237622  53.56495296\n",
            "   27.76071069  72.88983807  44.83296473  70.86959218  74.58483111\n",
            "   16.55788719  35.60974173  51.79228278  31.81728939  55.60371558\n",
            "   85.12317858  17.84638241  37.34308565  97.34983531  46.38867479\n",
            "   54.40339468  57.4684644   75.08477097  65.06217895  88.84561061\n",
            "   90.38303081  64.83553616  52.47818327  51.24455184  90.60989995\n",
            "   68.41656885  56.23090639  83.79807113  86.12891786  77.53929678]\n",
            " [ 46.62992373  49.40610753  68.16984377  33.1536912   34.19610924\n",
            "   54.14470308  54.17953832 124.38797326  74.68130256 104.09851642\n",
            "    5.02778078 -27.73709228  84.00464807  59.19726575  70.87500557\n",
            "  103.23737665  59.53557013 111.78348     73.86371898  55.16238803\n",
            "   18.36425856 101.42517613  85.30075702  48.08508593  68.19748816\n",
            "   92.79182292  63.33772373 124.98953083  72.65814871  37.36044246\n",
            "   84.61536695 162.47223337  25.80059617  43.7184026   21.98269886\n",
            "   51.20774049  60.93217797 116.67657767  72.74235745  36.42055379\n",
            "   43.68122928  55.83165001  -5.56476719  99.57100259  89.50994596\n",
            "   42.32721174  43.50813831  34.4844263  135.73877984  93.1031558\n",
            "   23.5726129   67.74980687  69.05462109  69.20818788  56.59688342\n",
            "   98.19882676  27.80237592  59.81143114  65.52541633  62.85557107\n",
            "   56.72834896  33.8753222   55.88922932  28.07335559  21.37049191\n",
            "   37.76870154  39.25587567  66.42027458  67.37323728  31.28993122\n",
            "   56.37624025  82.99375367  60.17290266  54.52840714  76.6835861\n",
            "   92.85237611  40.226633    36.85023768  -6.72640873  30.2915487\n",
            "   33.91646718  53.40357177  60.86860461  32.58424059   4.64010801\n",
            "   46.18570779  69.65230879 101.20198007 112.64113644  50.87254993\n",
            "   74.33890827  78.39575891  -9.22292172  28.78671405  54.85158766\n",
            "   41.02258684  60.95694943  25.94096054  57.83647539  61.29750888]]\n",
            "1.0909420411936445e-28\n"
          ]
        }
      ]
    },
    {
      "cell_type": "markdown",
      "source": [
        "# (g)"
      ],
      "metadata": {
        "id": "PiyIwDx068QE"
      }
    },
    {
      "cell_type": "code",
      "source": [
        "x_axis = []\n",
        "y_axis = []\n",
        "\n",
        "for i in range(min(d,N)):\n",
        "  x_axis.append(i+1)\n",
        "  Y = computeY(eigenVectors,Xc,i+1)\n",
        "  X_ = computeFinalX(eigenVectors,Y,mu,i+1,d,N)\n",
        "  mse = computeMSE(X_,X,i+1,N)\n",
        "  y_axis.append(mse)\n",
        "\n",
        "plt.plot(x_axis, y_axis)\n",
        "plt.xlabel('No. of principal components')\n",
        "plt.ylabel('MSE')\n",
        "plt.show()"
      ],
      "metadata": {
        "colab": {
          "base_uri": "https://localhost:8080/",
          "height": 279
        },
        "id": "9jzKx0RB698X",
        "outputId": "3b5eccd1-2e8b-454d-8708-07f93e4d200b"
      },
      "execution_count": 666,
      "outputs": [
        {
          "output_type": "display_data",
          "data": {
            "image/png": "[encoded data removed]",
            "text/plain": [
              "<Figure size 432x288 with 1 Axes>"
            ]
          },
          "metadata": {
            "needs_background": "light"
          }
        }
      ]
    }
  ]
}