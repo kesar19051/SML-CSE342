{
  "nbformat": 4,
  "nbformat_minor": 0,
  "metadata": {
    "colab": {
      "name": "SML2.ipynb",
      "provenance": [],
      "toc_visible": true
    },
    "kernelspec": {
      "name": "python3",
      "display_name": "Python 3"
    },
    "language_info": {
      "name": "python"
    }
  },
  "cells": [
    {
      "cell_type": "code",
      "execution_count": 133,
      "metadata": {
        "id": "SfFZspxaKv59"
      },
      "outputs": [],
      "source": [
        "from scipy.stats import bernoulli\n",
        "import matplotlib.pyplot as plt\n",
        "import numpy as np\n",
        "import seaborn as sns\n",
        "from sklearn.model_selection import train_test_split\n",
        "import pandas as pd\n",
        "from mpl_toolkits import mplot3d\n",
        "from math import *\n",
        "import sympy as sp\n",
        "sp.init_printing(use_unicode=True)"
      ]
    },
    {
      "cell_type": "markdown",
      "source": [
        "# Question 1"
      ],
      "metadata": {
        "id": "hak2yD39V2NF"
      }
    },
    {
      "cell_type": "markdown",
      "source": [
        "# (a)"
      ],
      "metadata": {
        "id": "yWvzfX3nV5Ff"
      }
    },
    {
      "cell_type": "code",
      "source": [
        "#uij = mean of i-th class and j-th dimension\n",
        "u11 = 0.5\n",
        "u12 = 0.8\n",
        "u21 = 0.9\n",
        "u22 = 0.2"
      ],
      "metadata": {
        "id": "7QX9qKnCPhYX"
      },
      "execution_count": 134,
      "outputs": []
    },
    {
      "cell_type": "code",
      "source": [
        "rv11 = bernoulli.rvs(u11,size = 100)\n",
        "rv12 = bernoulli.rvs(u12,size = 100)\n",
        "rv21 = bernoulli.rvs(u21,size = 100)\n",
        "rv22 = bernoulli.rvs(u22,size = 100)"
      ],
      "metadata": {
        "id": "Q_9oB-gMO8CP"
      },
      "execution_count": 135,
      "outputs": []
    },
    {
      "cell_type": "code",
      "source": [
        "data1 = {}\n",
        "data2 = {}\n",
        "\n",
        "c1 = [1]*100\n",
        "c2 = [2]*100\n",
        "\n",
        "data1['f1'] = list(rv11)\n",
        "data1['f2'] = list(rv12)\n",
        "data1['class'] = c1\n",
        "data2['f1'] = list(rv21)\n",
        "data2['f2'] = list(rv22)\n",
        "data2['class']= c2\n",
        "\n",
        "df1 = pd.DataFrame(data1)\n",
        "df2 = pd.DataFrame(data2)"
      ],
      "metadata": {
        "id": "TB6qIwNCTtQe"
      },
      "execution_count": 136,
      "outputs": []
    },
    {
      "cell_type": "code",
      "source": [
        "print('Data generation')\n",
        "print(df1)\n",
        "print(df2)"
      ],
      "metadata": {
        "colab": {
          "base_uri": "https://localhost:8080/"
        },
        "id": "R6gR_yjXV-b8",
        "outputId": "adf98a3a-8b12-406c-e102-19b3e93e31be"
      },
      "execution_count": 137,
      "outputs": [
        {
          "output_type": "stream",
          "name": "stdout",
          "text": [
            "Data generation\n",
            "    f1  f2  class\n",
            "0    1   0      1\n",
            "1    1   1      1\n",
            "2    0   1      1\n",
            "3    1   0      1\n",
            "4    0   1      1\n",
            "..  ..  ..    ...\n",
            "95   0   1      1\n",
            "96   0   1      1\n",
            "97   0   1      1\n",
            "98   1   1      1\n",
            "99   0   1      1\n",
            "\n",
            "[100 rows x 3 columns]\n",
            "    f1  f2  class\n",
            "0    1   0      2\n",
            "1    1   0      2\n",
            "2    1   0      2\n",
            "3    1   0      2\n",
            "4    1   0      2\n",
            "..  ..  ..    ...\n",
            "95   1   0      2\n",
            "96   1   0      2\n",
            "97   1   0      2\n",
            "98   1   0      2\n",
            "99   1   1      2\n",
            "\n",
            "[100 rows x 3 columns]\n"
          ]
        }
      ]
    },
    {
      "cell_type": "code",
      "source": [
        "def computeMLE(xi, n):\n",
        "  return sum(xi[:n])/n"
      ],
      "metadata": {
        "id": "HkoP9RaTYab4"
      },
      "execution_count": 138,
      "outputs": []
    },
    {
      "cell_type": "code",
      "source": [
        "def plotN_MLE(l,s):\n",
        "\n",
        "  x = []\n",
        "  y = []\n",
        "\n",
        "  for i in range(1,51):\n",
        "    x.append(i)\n",
        "    y.append(computeMLE(l,i))\n",
        "\n",
        "  plt.plot(x, y)\n",
        "  plt.xlabel(\"n\")  \n",
        "  plt.ylabel(\"MLE\")  \n",
        "  plt.title(s)  \n",
        "  plt.show()"
      ],
      "metadata": {
        "id": "GU8IEtmMbVPF"
      },
      "execution_count": 139,
      "outputs": []
    },
    {
      "cell_type": "markdown",
      "source": [
        "# (b)"
      ],
      "metadata": {
        "id": "kx_lRYmnXjMS"
      }
    },
    {
      "cell_type": "code",
      "source": [
        "# split a dataset into train and test sets\n",
        "features1 = df1.loc[ : , df1.columns != 'class']\n",
        "labels1 = pd.DataFrame(df1['class'])\n",
        "\n",
        "# split into train test sets\n",
        "X_train1, X_test1, y_train1, y_test1 = train_test_split(features1, labels1, test_size=0.50, random_state = 0)"
      ],
      "metadata": {
        "id": "vdfyMMxBSwhi"
      },
      "execution_count": 140,
      "outputs": []
    },
    {
      "cell_type": "code",
      "source": [
        "u11_mle = computeMLE(X_train1['f1'].tolist(),50)\n",
        "u12_mle = computeMLE(X_train1['f2'].tolist(),50)\n",
        "u1_mle = np.array([u11_mle,u12_mle])\n",
        "print('The MLE for class 1 is')\n",
        "print(u1_mle)"
      ],
      "metadata": {
        "colab": {
          "base_uri": "https://localhost:8080/"
        },
        "id": "Dk_gHw2tZXAA",
        "outputId": "e49f1cdd-cd76-4cd7-d53c-906abce9ee45"
      },
      "execution_count": 141,
      "outputs": [
        {
          "output_type": "stream",
          "name": "stdout",
          "text": [
            "The MLE for class 1 is\n",
            "[0.54 0.72]\n"
          ]
        }
      ]
    },
    {
      "cell_type": "code",
      "source": [
        "plotN_MLE(X_train1['f1'].tolist(),'Class 1 Dimension 1')\n",
        "plotN_MLE(X_train1['f2'].tolist(),'Class 1 Dimension 2')"
      ],
      "metadata": {
        "colab": {
          "base_uri": "https://localhost:8080/",
          "height": 573
        },
        "id": "vIQVdKD7eCqS",
        "outputId": "3b4fcad3-a01a-495d-be4d-6e31f7bf13b3"
      },
      "execution_count": 142,
      "outputs": [
        {
          "output_type": "display_data",
          "data": {
            "image/png": "[encoded data removed]",
            "text/plain": [
              "<Figure size 432x288 with 1 Axes>"
            ]
          },
          "metadata": {
            "needs_background": "light"
          }
        },
        {
          "output_type": "display_data",
          "data": {
            "image/png": "[encoded data removed]",
            "text/plain": [
              "<Figure size 432x288 with 1 Axes>"
            ]
          },
          "metadata": {
            "needs_background": "light"
          }
        }
      ]
    },
    {
      "cell_type": "markdown",
      "source": [
        "# (c)"
      ],
      "metadata": {
        "id": "8v27t4Y-fXxM"
      }
    },
    {
      "cell_type": "code",
      "source": [
        "# split a dataset into train and test sets\n",
        "features2 = df2.loc[ : , df2.columns != 'class']\n",
        "labels2 = pd.DataFrame(df2['class'])\n",
        "\n",
        "# split into train test sets\n",
        "X_train2, X_test2, y_train2, y_test2 = train_test_split(features2, labels2, test_size=0.50, random_state = 0)"
      ],
      "metadata": {
        "id": "y4lU6BKYevot"
      },
      "execution_count": 143,
      "outputs": []
    },
    {
      "cell_type": "code",
      "source": [
        "u21_mle = computeMLE(X_train2['f1'].tolist(),50)\n",
        "u22_mle = computeMLE(X_train2['f2'].tolist(),50)\n",
        "u2_mle = np.array([u21_mle,u22_mle])\n",
        "print('The MLE for class 2 is')\n",
        "print(u2_mle)"
      ],
      "metadata": {
        "colab": {
          "base_uri": "https://localhost:8080/"
        },
        "outputId": "c02da7a0-71b9-4bc0-cd83-c8ac7d8ee709",
        "id": "onUbd_zqevou"
      },
      "execution_count": 144,
      "outputs": [
        {
          "output_type": "stream",
          "name": "stdout",
          "text": [
            "The MLE for class 2 is\n",
            "[0.82 0.2 ]\n"
          ]
        }
      ]
    },
    {
      "cell_type": "code",
      "source": [
        "plotN_MLE(X_train2['f1'].tolist(),'Class 2 Dimension 1')\n",
        "plotN_MLE(X_train2['f2'].tolist(),'Class 2 Dimension 2')"
      ],
      "metadata": {
        "colab": {
          "base_uri": "https://localhost:8080/",
          "height": 573
        },
        "outputId": "1f524419-c1cb-440a-9a7b-777ff2660194",
        "id": "lkvJLNPIevow"
      },
      "execution_count": 145,
      "outputs": [
        {
          "output_type": "display_data",
          "data": {
            "image/png": "[encoded data removed]",
            "text/plain": [
              "<Figure size 432x288 with 1 Axes>"
            ]
          },
          "metadata": {
            "needs_background": "light"
          }
        },
        {
          "output_type": "display_data",
          "data": {
            "image/png": "[encoded data removed]",
            "text/plain": [
              "<Figure size 432x288 with 1 Axes>"
            ]
          },
          "metadata": {
            "needs_background": "light"
          }
        }
      ]
    },
    {
      "cell_type": "markdown",
      "source": [
        "# (d)"
      ],
      "metadata": {
        "id": "c4HzREkgfahP"
      }
    },
    {
      "cell_type": "code",
      "source": [
        "fig = plt.figure(figsize=(12,10))\n",
        "ax = plt.axes(projection ='3d')\n",
        "\n",
        "z = []\n",
        "for i in range(0,50):\n",
        "  z.append(i+1)\n",
        "\n",
        "x = X_train1['f1'].tolist()\n",
        "y = X_train1['f2'].tolist()\n",
        "\n",
        "# plotting\n",
        "ax.scatter3D(x, y, z, label='Class 1')\n",
        "\n",
        "x = X_train2['f2'].tolist()\n",
        "y = X_train2['f2'].tolist()\n",
        "\n",
        "ax.scatter3D(x, y, z, label='Class 2')\n",
        "\n",
        "ax.set_xlabel('D1')\n",
        "ax.set_ylabel('D2')\n",
        "ax.set_zlabel('n')\n",
        "ax.set_title('Training samples')\n",
        "plt.legend()\n",
        "plt.show()\n"
      ],
      "metadata": {
        "colab": {
          "base_uri": "https://localhost:8080/",
          "height": 575
        },
        "id": "ZtwpTJK9fckY",
        "outputId": "7a766c67-28b5-4411-f8a9-bdcc36321833"
      },
      "execution_count": 146,
      "outputs": [
        {
          "output_type": "display_data",
          "data": {
            "image/png": "[encoded data removed]",
            "text/plain": [
              "<Figure size 864x720 with 1 Axes>"
            ]
          },
          "metadata": {
            "needs_background": "light"
          }
        }
      ]
    },
    {
      "cell_type": "markdown",
      "source": [
        "# (e)"
      ],
      "metadata": {
        "id": "6-JsxIYZYuyT"
      }
    },
    {
      "cell_type": "code",
      "source": [
        "def discriminant(mu11, mu12, mu21, mu22, x1, x2):\n",
        "  d1 = pow(mu11, x1)*pow(1-mu11, 1-x1)*pow(mu12, x2)*pow(1-mu12, 1-x2)\n",
        "  d2 = pow(mu21, x1)*pow(1-mu21, 1-x1)*pow(mu22, x2)*pow(1-mu22, 1-x2)\n",
        "  if d1>=d2:\n",
        "    return 1\n",
        "  else:\n",
        "    return 2"
      ],
      "metadata": {
        "id": "mFpCoqdzYw1Z"
      },
      "execution_count": 147,
      "outputs": []
    },
    {
      "cell_type": "code",
      "source": [
        "X_test1_f1 = X_test1['f1'].tolist()\n",
        "X_test1_f2 = X_test1['f2'].tolist()\n",
        "pred1 = []\n",
        "for i in range(50):\n",
        "  d = discriminant(u11, u12, u21, u22, X_test1_f1[i], X_test1_f2[i])\n",
        "  pred1.append(d)"
      ],
      "metadata": {
        "id": "fbQNCMIYjtz4"
      },
      "execution_count": 148,
      "outputs": []
    },
    {
      "cell_type": "code",
      "source": [
        "X_test2_f1 = X_test2['f1'].tolist()\n",
        "X_test2_f2 = X_test2['f2'].tolist()\n",
        "pred2 = []\n",
        "for i in range(50):\n",
        "  d = discriminant(u11, u12, u21, u22, X_test2_f1[i], X_test2_f2[i])\n",
        "  pred2.append(d)"
      ],
      "metadata": {
        "id": "j-0SqEytnfmZ"
      },
      "execution_count": 149,
      "outputs": []
    },
    {
      "cell_type": "code",
      "source": [
        "num1 = 0\n",
        "num2 = 0\n",
        "\n",
        "for i in range(50):\n",
        "  if pred1[i]==1:\n",
        "    num1 += 1\n",
        "  if pred2[i]==2:\n",
        "    num2 += 1\n",
        "\n",
        "print('Accuracy for class 1')\n",
        "print(num1/50)\n",
        "print('Accuracy for class 2')\n",
        "print(num2/50)"
      ],
      "metadata": {
        "colab": {
          "base_uri": "https://localhost:8080/"
        },
        "id": "Xb8gc1S5no3O",
        "outputId": "2b1da9f4-e82b-4141-8313-4378220baf3c"
      },
      "execution_count": 150,
      "outputs": [
        {
          "output_type": "stream",
          "name": "stdout",
          "text": [
            "Accuracy for class 1\n",
            "0.9\n",
            "Accuracy for class 2\n",
            "0.72\n"
          ]
        }
      ]
    },
    {
      "cell_type": "markdown",
      "source": [
        "# Question 2"
      ],
      "metadata": {
        "id": "tA5MavXjT0t_"
      }
    },
    {
      "cell_type": "markdown",
      "source": [
        "# (c)"
      ],
      "metadata": {
        "id": "pfds_u7NT3A4"
      }
    },
    {
      "cell_type": "code",
      "source": [
        "X = np.array([[2,4],[6,8]])\n",
        "mu = np.array([[3],[7]])\n",
        "\n",
        "print('X')\n",
        "print(X)\n",
        "\n",
        "print()\n",
        "\n",
        "print('Mean')\n",
        "print(mu)"
      ],
      "metadata": {
        "colab": {
          "base_uri": "https://localhost:8080/"
        },
        "id": "B1bDTDDwUshf",
        "outputId": "01d14e3c-4408-416c-bb2e-597d84a9ec65"
      },
      "execution_count": 151,
      "outputs": [
        {
          "output_type": "stream",
          "name": "stdout",
          "text": [
            "X\n",
            "[[2 4]\n",
            " [6 8]]\n",
            "\n",
            "Mean\n",
            "[[3]\n",
            " [7]]\n"
          ]
        }
      ]
    },
    {
      "cell_type": "code",
      "source": [
        "Xc = np.array([[-1,1],[-1,1]])\n",
        "print('Centralised X')\n",
        "print(Xc)"
      ],
      "metadata": {
        "colab": {
          "base_uri": "https://localhost:8080/"
        },
        "id": "DfkTmYiLU14S",
        "outputId": "55892272-ab37-4300-e43b-21a35bbdd3a1"
      },
      "execution_count": 152,
      "outputs": [
        {
          "output_type": "stream",
          "name": "stdout",
          "text": [
            "Centralised X\n",
            "[[-1  1]\n",
            " [-1  1]]\n"
          ]
        }
      ]
    },
    {
      "cell_type": "code",
      "source": [
        "S = 0.5*(np.dot(Xc,np.transpose(Xc)))\n",
        "print('The covariance')\n",
        "print(S)"
      ],
      "metadata": {
        "colab": {
          "base_uri": "https://localhost:8080/"
        },
        "id": "vbJ5BY4qVk4v",
        "outputId": "58980dbd-7aae-419a-e910-b9a9fd1ef1a5"
      },
      "execution_count": 153,
      "outputs": [
        {
          "output_type": "stream",
          "name": "stdout",
          "text": [
            "The covariance\n",
            "[[1. 1.]\n",
            " [1. 1.]]\n"
          ]
        }
      ]
    },
    {
      "cell_type": "code",
      "source": [
        "e1, e2 = np.linalg.eig(S)\n",
        "\n",
        "print('Eigenvalue 1')\n",
        "print(e1[0])\n",
        "print('Eigenvalue 2')\n",
        "print(e1[1])\n",
        "\n",
        "print()\n",
        "print('The eigenvectors are')\n",
        "\n",
        "print('       1           2')\n",
        "print(e2)"
      ],
      "metadata": {
        "colab": {
          "base_uri": "https://localhost:8080/"
        },
        "id": "sS31w5bJWUC3",
        "outputId": "2c6e4624-dcfb-4698-b0b2-4b068f302c06"
      },
      "execution_count": 154,
      "outputs": [
        {
          "output_type": "stream",
          "name": "stdout",
          "text": [
            "Eigenvalue 1\n",
            "2.0\n",
            "Eigenvalue 2\n",
            "0.0\n",
            "\n",
            "The eigenvectors are\n",
            "       1           2\n",
            "[[ 0.70710678 -0.70710678]\n",
            " [ 0.70710678  0.70710678]]\n"
          ]
        }
      ]
    },
    {
      "cell_type": "markdown",
      "source": [
        "The eigenvalues from the code is same as those computed from theory. But the eigenvectors are not same. This happens because the numpy and scipy libraries normalise the eigenvectors. However, sympy library solves this problem. As coded below, the eigenvectors now match."
      ],
      "metadata": {
        "id": "ZPiQ6W3Bh6jL"
      }
    },
    {
      "cell_type": "code",
      "source": [
        "S_ = sp.Matrix([[1, 1], [1, 1]])\n",
        "E = S_.eigenvects()\n",
        "print('Eigenvector 1')\n",
        "print(E[1][2][0])\n",
        "print()\n",
        "print('Eigenvector 2')\n",
        "print(E[0][2][0])"
      ],
      "metadata": {
        "colab": {
          "base_uri": "https://localhost:8080/"
        },
        "id": "wSPUUaJ3ay7L",
        "outputId": "197dd012-59c7-4945-a919-b8c8a2161a51"
      },
      "execution_count": 155,
      "outputs": [
        {
          "output_type": "stream",
          "name": "stdout",
          "text": [
            "Eigenvector 1\n",
            "Matrix([[1], [1]])\n",
            "\n",
            "Eigenvector 2\n",
            "Matrix([[-1], [1]])\n"
          ]
        }
      ]
    },
    {
      "cell_type": "code",
      "source": [
        "U = np.array([[int(E[1][2][0][0]),int(E[0][2][0][0])],[int(E[1][2][0][1]),int(E[0][2][0][1])]])"
      ],
      "metadata": {
        "id": "rEu214cKj7O4"
      },
      "execution_count": 156,
      "outputs": []
    },
    {
      "cell_type": "code",
      "source": [
        "print('U')\n",
        "print(U)"
      ],
      "metadata": {
        "colab": {
          "base_uri": "https://localhost:8080/"
        },
        "id": "4HZkqpF2jVOM",
        "outputId": "b8e67f3f-a9bd-4e0b-ec54-bb9529385ac0"
      },
      "execution_count": 157,
      "outputs": [
        {
          "output_type": "stream",
          "name": "stdout",
          "text": [
            "U\n",
            "[[ 1 -1]\n",
            " [ 1  1]]\n"
          ]
        }
      ]
    },
    {
      "cell_type": "code",
      "source": [
        "Y = np.dot(np.transpose(U),Xc)\n",
        "print('Y')\n",
        "print(Y)"
      ],
      "metadata": {
        "colab": {
          "base_uri": "https://localhost:8080/"
        },
        "id": "Q6TRM61Ekz5c",
        "outputId": "c9a7dfde-0fa6-4e17-f6d6-7f261e568639"
      },
      "execution_count": 158,
      "outputs": [
        {
          "output_type": "stream",
          "name": "stdout",
          "text": [
            "Y\n",
            "[[-2  2]\n",
            " [ 0  0]]\n"
          ]
        }
      ]
    },
    {
      "cell_type": "code",
      "source": [
        "X_ = np.dot(U,Y)\n",
        "print(X_)\n",
        "print()\n",
        "\n",
        "X_[0][0] += 3\n",
        "X_[0][1] += 3\n",
        "X_[1][0] += 7\n",
        "X_[1][1] += 7\n",
        "\n",
        "print('After adding mean')\n",
        "print(X_)"
      ],
      "metadata": {
        "colab": {
          "base_uri": "https://localhost:8080/"
        },
        "id": "arucJs6umOW7",
        "outputId": "f3e574d8-743a-4c7c-bae8-2af24b680fe7"
      },
      "execution_count": 159,
      "outputs": [
        {
          "output_type": "stream",
          "name": "stdout",
          "text": [
            "[[-2  2]\n",
            " [-2  2]]\n",
            "\n",
            "After adding mean\n",
            "[[1 5]\n",
            " [5 9]]\n"
          ]
        }
      ]
    },
    {
      "cell_type": "code",
      "source": [
        "mse = 0\n",
        "for i in range(2):\n",
        "  for j in range(2):\n",
        "    mse += pow(X_[i][j]-X[i][j],2)\n",
        "mse /= 4\n",
        "print('MSE = ',mse)"
      ],
      "metadata": {
        "colab": {
          "base_uri": "https://localhost:8080/"
        },
        "id": "6gFEPsX7nwtV",
        "outputId": "96a68ade-3c4e-46a3-ba30-885042431c9e"
      },
      "execution_count": 160,
      "outputs": [
        {
          "output_type": "stream",
          "name": "stdout",
          "text": [
            "MSE =  1.0\n"
          ]
        }
      ]
    },
    {
      "cell_type": "markdown",
      "source": [
        "# (d)"
      ],
      "metadata": {
        "id": "lXzieMZ0o6lJ"
      }
    },
    {
      "cell_type": "code",
      "source": [
        "d = 10\n",
        "N = 100\n",
        "mu = np.array([0]*d)\n",
        "sigma = np.array([0.1]*d)\n",
        "X = np.empty((d,N))\n",
        "for i in range(d):\n",
        "  xi = np.random.normal(mu[i], sigma[i], N)\n",
        "  X[i] = xi"
      ],
      "metadata": {
        "id": "yFNIRTctwVjB"
      },
      "execution_count": 194,
      "outputs": []
    },
    {
      "cell_type": "code",
      "source": [
        "print('X = ',X)"
      ],
      "metadata": {
        "colab": {
          "base_uri": "https://localhost:8080/"
        },
        "id": "-izIuoVTyQLQ",
        "outputId": "e849fff6-dac6-45e9-a41a-a28570c6ce9d"
      },
      "execution_count": 195,
      "outputs": [
        {
          "output_type": "stream",
          "name": "stdout",
          "text": [
            "X =  [[-5.01975050e-02 -1.99170934e-01 -2.77915397e-02 -7.55927814e-02\n",
            "  -7.41516670e-02  2.07375774e-02 -1.42659545e-01  1.70061899e-01\n",
            "  -1.61616431e-01 -7.34334828e-02  8.90503823e-02  1.07623896e-02\n",
            "   8.52217513e-02 -1.40993130e-01  4.07077940e-02 -1.39209011e-02\n",
            "   2.42670920e-01 -8.36254934e-02 -3.61724096e-02  6.05718163e-02\n",
            "  -2.60083545e-02 -2.73155695e-03  1.39864895e-01 -6.35054535e-02\n",
            "   1.55155331e-02  8.41795214e-02  1.29535072e-03 -6.85973376e-02\n",
            "   8.88607685e-02  1.14979736e-01  3.57869823e-02  4.02102176e-02\n",
            "   1.22555224e-01 -3.68109623e-02  9.85429107e-02 -7.41909394e-03\n",
            "   5.28650570e-02 -1.09805206e-02  9.59638887e-02 -1.62235006e-01\n",
            "   3.15853499e-02  5.40538497e-02  1.42632603e-01 -2.49217514e-02\n",
            "   8.88462702e-02 -1.19782507e-01  1.85059703e-01  4.06621722e-02\n",
            "  -3.52655079e-02  6.11406729e-02  1.89256792e-02 -2.93858191e-01\n",
            "  -4.83817892e-02 -6.84023645e-02 -1.36760752e-01 -5.82020099e-02\n",
            "  -2.15022125e-01  2.13520803e-02 -9.28200460e-02 -8.62172777e-02\n",
            "  -7.32508095e-03 -7.23836068e-02  1.14187593e-01  7.20676003e-02\n",
            "   2.00871543e-01 -3.90618082e-02  5.71830968e-02 -5.23374818e-02\n",
            "   3.01600085e-02 -1.43959985e-01 -7.51480670e-02  4.20078588e-02\n",
            "   7.31234860e-02 -3.69538479e-02 -4.11752711e-02 -9.17994201e-02\n",
            "  -6.89988435e-02 -1.29548717e-01 -1.53024100e-01 -1.68459661e-02\n",
            "  -2.03274558e-01  7.54497471e-02  1.75646186e-01 -6.92282051e-03\n",
            "  -1.04136564e-01 -4.82699366e-02 -2.50403591e-01 -6.99267400e-02\n",
            "  -9.89385182e-04 -4.59485138e-02 -1.18115572e-01  1.27306525e-02\n",
            "   8.91373647e-02 -1.31700923e-01  8.66259689e-02 -8.09383856e-02\n",
            "  -5.87658901e-02  6.23153112e-02 -4.57743652e-02  1.14345010e-01]\n",
            " [-1.03611723e-01 -3.44696637e-02  1.35128525e-01 -1.61224010e-01\n",
            "   1.31968854e-01  1.44045729e-02 -6.43142472e-02  3.03541300e-02\n",
            "   2.10194598e-01  5.72947944e-02  1.89580171e-02  1.06931432e-01\n",
            "  -3.70475155e-02 -9.02755504e-02 -8.96709039e-02  4.05451760e-02\n",
            "  -2.19426004e-01 -1.83950047e-02  5.69488012e-02 -2.11861288e-01\n",
            "   4.44913517e-02 -3.23442347e-02  1.71216227e-01 -1.10644952e-02\n",
            "   1.42554923e-01 -2.30522551e-02  6.07582016e-02 -9.72936865e-02\n",
            "   2.38151535e-02 -2.00914233e-02  6.82662523e-03 -1.13278347e-02\n",
            "  -1.18650640e-01  9.16993837e-02  9.64674916e-02  6.55727235e-02\n",
            "  -1.33162944e-01  3.79755067e-02 -5.73702096e-02  3.96799059e-02\n",
            "   1.50696070e-01 -1.01525617e-01 -9.15507104e-02  4.42712470e-02\n",
            "   3.73152566e-02 -1.34501698e-01 -9.54014434e-02 -2.74687527e-02\n",
            "   1.27495408e-01 -1.51438395e-01 -1.25053880e-01 -1.23681627e-01\n",
            "  -1.58825944e-02  4.03705482e-02  8.81231054e-02  2.41137942e-01\n",
            "  -2.32413772e-02  1.76087092e-02  5.49545752e-02 -8.93069739e-02\n",
            "  -5.01299766e-02 -6.67015206e-02  4.17919401e-03 -5.90618434e-02\n",
            "  -1.27629675e-01 -7.22970230e-02 -2.10223537e-02 -1.15808987e-01\n",
            "  -2.27402347e-01  1.07028187e-01 -1.46194022e-01  6.00109855e-02\n",
            "   2.03207721e-03  3.89651240e-02  1.64035147e-01  8.20674148e-02\n",
            "   7.97342465e-02 -7.06964842e-02 -1.33558309e-02 -9.93673521e-03\n",
            "   1.03957719e-01 -1.30427086e-01 -1.33597892e-01 -8.17341562e-02\n",
            "   1.33949144e-01 -3.16753600e-03  1.08845901e-01  6.13265512e-03\n",
            "  -6.01815460e-02 -1.07610568e-01  4.57279301e-02 -1.54539011e-01\n",
            "   1.11838339e-01 -6.37330664e-02  6.10805061e-02  6.94781556e-02\n",
            "  -1.05918203e-01  1.16619067e-01 -2.22169850e-01 -2.97535625e-02]\n",
            " [ 1.08272317e-01  4.13967710e-02 -8.97242565e-02  3.01251054e-02\n",
            "   4.93079030e-02 -1.23580278e-02  1.25897319e-01 -6.45599655e-02\n",
            "   5.72678660e-03 -1.47745878e-01  1.18980314e-01  5.95669390e-02\n",
            "   1.18246235e-01  1.82609264e-01  3.08196595e-02 -1.73603953e-01\n",
            "  -3.80437578e-02 -4.86444806e-02 -9.94369723e-02 -1.18194145e-01\n",
            "  -2.85739066e-02  5.95183049e-02  6.87136310e-02  8.44110024e-02\n",
            "  -5.88780632e-02  1.08653467e-01 -2.24008491e-02 -4.26021392e-02\n",
            "   5.88316058e-02  3.23685499e-02 -6.63381786e-02  8.68963608e-02\n",
            "  -3.01497791e-03 -2.04230480e-02 -2.75618024e-02  1.16543695e-02\n",
            "  -2.46571809e-01  8.52478232e-02  1.29298913e-02 -1.52193603e-01\n",
            "  -2.24660913e-01 -1.10975578e-01  4.82282051e-03  1.36337809e-01\n",
            "  -5.50595822e-02 -1.33994302e-01  5.55937755e-02  2.06090018e-01\n",
            "  -1.37806834e-01  1.66848509e-02 -7.26623267e-03  1.55295049e-01\n",
            "  -1.18064926e-01 -8.49303907e-03 -7.18874047e-02  1.34914323e-01\n",
            "   1.05479489e-01  3.21338725e-02  7.51957290e-02 -5.87312732e-02\n",
            "   1.10998872e-01 -9.36133817e-02 -1.81247514e-01  1.46247336e-02\n",
            "  -3.39751983e-02  1.18198342e-01 -1.03947975e-01 -3.97477150e-02\n",
            "  -2.86309681e-03 -2.26038910e-02  7.49228258e-03  6.31126039e-02\n",
            "  -1.24176697e-02  1.54913212e-01  1.88842990e-01 -1.91016167e-02\n",
            "  -3.72689041e-02  5.84576571e-04 -3.08323239e-02  1.91122073e-01\n",
            "   2.08733011e-02  1.73318913e-01  8.35918991e-02 -2.70316346e-02\n",
            "   4.94140785e-02 -2.17886828e-02  1.08413944e-01  9.90638306e-02\n",
            "   2.82299291e-02 -1.84344516e-02  8.25329245e-02  5.89558429e-02\n",
            "   2.62688880e-02  1.54302573e-01  1.07622915e-02  1.10204877e-03\n",
            "  -1.42777777e-01  1.92961112e-01 -1.90462340e-02  1.12013833e-01]\n",
            " [-1.05011097e-01  9.20876646e-02 -6.58976758e-02 -5.70972663e-02\n",
            "   5.27554794e-02 -1.15805654e-01  4.10273688e-02  1.14250824e-01\n",
            "   1.05124411e-01 -1.09739547e-01 -2.96924692e-02  5.79417210e-02\n",
            "  -8.90341144e-02  1.72655577e-01 -1.55664346e-02 -5.53114808e-02\n",
            "  -2.74676895e-03 -9.25408295e-02 -2.66494341e-01 -8.41162995e-02\n",
            "  -2.06760357e-02 -8.81721291e-02  3.00047175e-02  4.79981203e-02\n",
            "  -1.73135046e-02 -3.20189589e-02  3.33734920e-02  8.11657803e-03\n",
            "  -1.83409287e-02  1.01656457e-01 -1.48933742e-01 -1.04994237e-01\n",
            "   1.24126084e-02 -1.23510169e-02  7.39276340e-02 -1.46550157e-01\n",
            "   5.28997025e-02 -7.03277103e-02 -2.05646406e-01 -2.56296040e-02\n",
            "   1.36601155e-02 -1.39658441e-01  6.90688726e-03  2.17728991e-02\n",
            "  -6.82758407e-02  9.48818907e-02  1.25891577e-02  8.84823408e-02\n",
            "  -1.51237083e-01 -2.21692216e-01  2.73242042e-02 -2.10889073e-01\n",
            "   1.92960103e-01  1.19554371e-02 -2.48896745e-02  7.49243381e-02\n",
            "   1.57873955e-01  5.37029499e-02 -8.76962526e-02 -8.84899190e-02\n",
            "  -9.22976043e-02  9.07942279e-02 -4.97293246e-02  8.56127354e-02\n",
            "  -5.31744270e-02 -9.13172879e-02  7.75060930e-02 -1.58313266e-01\n",
            "   9.69848921e-02 -6.96593873e-02  2.05133343e-02  2.27069810e-02\n",
            "  -1.13199551e-01  1.11748399e-01 -1.35962094e-02  3.50460037e-02\n",
            "  -4.02576369e-02  2.93200201e-02 -6.13391694e-02  1.96183743e-02\n",
            "   1.45445912e-01 -1.05867042e-02 -1.77718333e-01  1.24251134e-02\n",
            "   3.46869025e-02  1.00431002e-01 -1.93611268e-01  4.69523638e-03\n",
            "  -1.33030477e-01 -5.85337167e-03 -2.30577921e-02  1.53446734e-01\n",
            "   2.12209691e-02 -9.63278894e-02  5.44801778e-02  1.56751039e-01\n",
            "   5.43604904e-03  2.14435580e-01  7.87578548e-02  1.38963579e-01]\n",
            " [-8.87725545e-02 -1.98041945e-01  3.07931533e-02  1.34538078e-01\n",
            "   9.40286811e-02 -2.48145888e-03  7.01551142e-03  1.04409691e-01\n",
            "   6.86049483e-02 -1.17239664e-01 -3.22225938e-02 -1.69342955e-02\n",
            "  -2.15195118e-01  1.21355274e-01 -1.05140924e-02 -6.44658792e-02\n",
            "   4.20538877e-03 -1.88317624e-01 -8.22538879e-02 -1.62975054e-01\n",
            "   1.49466956e-01 -2.21550227e-01 -1.48178561e-02  3.42073582e-02\n",
            "  -1.83337485e-02  1.69231539e-01 -3.17964050e-02  9.15580453e-02\n",
            "   4.95594277e-03  4.53902886e-03  1.57998942e-01 -9.25679887e-02\n",
            "   4.65497245e-03  1.30942304e-01  8.84060971e-02 -1.03927374e-01\n",
            "  -6.35824586e-02 -1.40262924e-01 -1.44307193e-01  7.72192145e-03\n",
            "   9.17736229e-02  1.67581414e-01 -1.83835732e-01  6.59058191e-02\n",
            "   9.18766411e-02  9.22184826e-02  1.11560967e-01  1.80722523e-01\n",
            "   2.63538648e-02  1.54838640e-01 -6.31073329e-03  3.26416933e-02\n",
            "  -1.94817553e-01  9.71111916e-02  7.76747799e-02 -9.72913445e-02\n",
            "   1.24663104e-01  4.55552835e-02  8.73534238e-02  8.55222390e-03\n",
            "  -5.71186319e-02  4.78429153e-02 -6.54892538e-02  6.87515334e-02\n",
            "   1.14458005e-01  2.46311549e-02 -4.99446806e-03 -1.57776638e-01\n",
            "  -3.10492545e-02  8.82012175e-02 -1.44576551e-01 -6.01292463e-02\n",
            "   1.75470183e-01 -1.52680441e-02 -6.86973705e-03  2.41415246e-01\n",
            "  -1.38608758e-02 -1.63741224e-01 -1.45465139e-01 -8.73639378e-02\n",
            "  -1.12146590e-01 -8.46272276e-02  8.46396059e-02 -5.24288438e-02\n",
            "  -5.31834185e-02  1.02767634e-01 -1.07219335e-01 -1.58798390e-01\n",
            "  -1.23634859e-01 -3.30269404e-02 -7.57942284e-02  8.81547825e-02\n",
            "  -7.20098219e-02 -3.18967560e-02  1.36696621e-01 -8.98550080e-03\n",
            "   2.17553904e-03 -9.51924184e-02  1.23335315e-02  3.29119657e-02]\n",
            " [ 2.81514176e-02 -1.42978713e-02 -6.04927320e-02  1.04174895e-01\n",
            "  -7.25075336e-03  5.93015106e-02 -1.12614019e-01  1.29068034e-01\n",
            "   3.71613798e-02 -1.31512731e-01 -1.93613671e-01 -9.69353432e-02\n",
            "   1.41288647e-01  1.97814227e-01 -9.16420813e-02  1.04436884e-02\n",
            "  -2.40667581e-02  7.87546065e-02  1.47585044e-02  2.85352183e-02\n",
            "  -1.32796094e-01  1.16541587e-01 -1.20891317e-01 -6.78602392e-02\n",
            "   5.76886343e-05 -1.25398344e-01  7.63507192e-02 -1.25642903e-01\n",
            "  -4.84307825e-02 -1.99740437e-01  8.78702336e-03  1.93807340e-02\n",
            "  -2.15205623e-02  5.80638757e-02  2.85515111e-01  5.55537051e-02\n",
            "   7.42447971e-02  1.48614166e-02  9.50671320e-02  9.72594583e-02\n",
            "  -1.44137265e-01 -1.12313986e-02 -1.22004620e-01 -3.49556111e-02\n",
            "   1.10145890e-02  9.88431632e-02  1.55155035e-03 -2.66355855e-03\n",
            "   1.78117739e-01 -1.64518731e-01  1.70018637e-01  1.90758580e-01\n",
            "   8.93750336e-02 -4.80349518e-02  1.13704791e-01  1.19114404e-01\n",
            "   8.99379645e-02 -2.17367858e-02  1.96873870e-01  1.82098246e-01\n",
            "   9.52037087e-02  1.97649737e-02 -2.09831873e-02 -6.44006076e-02\n",
            "   1.09604239e-01 -1.71012748e-02 -7.82750389e-02 -4.65633638e-02\n",
            "  -1.10778442e-01  7.70270944e-02  3.59901586e-02 -1.76721161e-01\n",
            "  -1.16200792e-01 -7.21709252e-02 -9.55350134e-02  9.42648552e-02\n",
            "   1.25411698e-01 -1.62694657e-01 -5.61269534e-02 -6.59582719e-02\n",
            "   1.44885068e-01  3.58710133e-02 -2.03314395e-01  8.10743433e-02\n",
            "   9.64363912e-02 -8.11989131e-02  6.60561259e-02  4.59715572e-02\n",
            "  -4.22640985e-02  8.38777488e-02  5.39219106e-02  3.24809832e-02\n",
            "  -1.93850528e-01  1.92955106e-01  8.18984778e-02 -1.13491803e-01\n",
            "  -8.46226142e-02  1.16027878e-01  1.81722660e-01  1.06320658e-02]\n",
            " [ 5.33605193e-02 -1.33453080e-01 -9.94000400e-02  7.54762463e-02\n",
            "   5.55714153e-02 -2.05187298e-02  4.94245089e-02 -9.46521841e-02\n",
            "   8.35145224e-02  1.36030660e-02  2.65770363e-01  6.01152381e-02\n",
            "  -1.86039242e-03  5.69910197e-02  5.64621007e-02 -1.51782468e-02\n",
            "   2.40886914e-01  1.77013483e-01  2.97303195e-02  7.18829910e-02\n",
            "  -3.73917734e-02  5.11006144e-02 -6.23575357e-02  3.33435264e-02\n",
            "   7.27616411e-02  5.94039948e-02 -6.45132553e-02  1.59393051e-01\n",
            "  -4.85908313e-02  1.68230665e-02  3.30370859e-02 -5.80651994e-02\n",
            "   1.20768918e-01  1.85631967e-01  5.81099684e-02 -1.11302258e-01\n",
            "   1.21786483e-02  6.81942108e-02 -1.36410751e-01  2.43346398e-01\n",
            "   6.04227824e-03  6.70905774e-02 -1.00288791e-01  5.85396873e-03\n",
            "  -4.59802074e-02 -1.06164156e-01  4.10438649e-02 -9.65515315e-02\n",
            "   5.65236151e-02  1.18771612e-01 -5.94161875e-02 -7.80106983e-02\n",
            "  -9.48203048e-02  6.77536925e-02  4.89148536e-02 -1.64157989e-01\n",
            "   3.95496363e-02  1.26735293e-01  9.60920254e-03 -1.36660450e-01\n",
            "  -3.77784275e-04  2.97524785e-02 -9.83766394e-02 -3.49532874e-02\n",
            "   4.19789533e-02  8.66433464e-02  1.71650525e-01  2.07754681e-01\n",
            "  -7.48692224e-02 -9.23281458e-02 -4.81050661e-02  2.76676710e-02\n",
            "   1.80680269e-01 -1.40421943e-01  1.60726383e-01  1.76694267e-02\n",
            "   9.18816573e-02 -6.77918721e-02  7.12532108e-02 -7.08513320e-02\n",
            "   1.41527362e-01 -1.48604586e-01 -4.76609300e-02 -5.94039875e-03\n",
            "  -4.75050497e-02  1.82404301e-01  7.86726170e-02  1.37935906e-01\n",
            "  -5.90031741e-02  6.93573837e-03 -9.42731983e-02  1.25292802e-01\n",
            "  -9.00603954e-02 -1.67044569e-01  3.04213008e-02 -7.14376372e-02\n",
            "   6.60516710e-02  2.17341425e-01 -1.68317374e-01 -4.61834626e-02]\n",
            " [-7.62174807e-02 -2.81501570e-02  6.08496273e-02  2.30751855e-01\n",
            "   4.64139716e-02 -6.84611000e-02  3.44323719e-02 -1.39575982e-03\n",
            "  -9.24456622e-02 -2.30021603e-02  4.33828420e-02 -2.84284506e-02\n",
            "   4.59442057e-02  4.57643541e-02 -1.69754551e-02  7.81497114e-02\n",
            "  -1.32222965e-02 -1.20151859e-02  1.54060348e-01  4.08854682e-02\n",
            "  -3.61488625e-02  4.52439983e-03 -5.08939895e-02  2.33253309e-02\n",
            "  -2.19740752e-01  1.82915149e-01 -7.75331706e-02  5.82283961e-02\n",
            "   9.12648876e-02  2.71906839e-02 -2.46312527e-02 -1.65811892e-03\n",
            "   9.38192431e-02  8.24434522e-02  3.41921747e-02  1.37781730e-01\n",
            "   1.98701712e-01 -1.03725935e-01 -1.37176787e-01 -1.09982604e-01\n",
            "  -1.18013916e-01 -7.02971109e-02  1.39231671e-01 -1.74599776e-02\n",
            "  -2.65545938e-02 -2.15212542e-02  7.03321102e-02  1.43697863e-01\n",
            "   8.38927795e-02  1.34251227e-01  5.73992412e-03 -2.16929227e-01\n",
            "  -5.42080435e-02 -8.28160931e-03 -3.53100110e-02 -2.62323086e-04\n",
            "   1.70883092e-01  6.67619026e-02 -1.44080947e-01 -5.10274876e-03\n",
            "   2.14491118e-02  5.50693266e-02  1.19120908e-01 -2.26427126e-01\n",
            "  -1.89837230e-02 -9.78818399e-02 -9.64623800e-03 -1.25521077e-04\n",
            "   1.05051212e-01  1.27207488e-02 -1.26988371e-01  1.55913384e-01\n",
            "   2.01689116e-02 -8.21785388e-02  4.39782103e-02 -6.25336555e-02\n",
            "   1.37468498e-01  6.43355120e-02  5.87964125e-02 -1.20036883e-01\n",
            "   2.05703523e-02 -5.22280017e-02  5.05103663e-02 -4.30445702e-02\n",
            "   7.83432631e-02 -1.14033107e-01  5.66840080e-02 -1.24237092e-02\n",
            "  -1.00289047e-01 -1.47754474e-02 -9.53281855e-02  6.13327578e-02\n",
            "  -1.77684618e-01  1.91198638e-03 -1.98306333e-01  2.36235140e-01\n",
            "   1.34404647e-01  2.43923723e-02  9.70206582e-02 -1.08256647e-01]\n",
            " [ 1.79352327e-01 -3.64919372e-02 -4.32753265e-03  8.83808651e-02\n",
            "  -5.02133913e-02  1.03632031e-01 -2.06935507e-01  4.55448911e-02\n",
            "  -9.12621502e-03  2.10943376e-02 -1.57908169e-01 -1.58703088e-01\n",
            "   2.33836925e-02  1.41638255e-01  2.65202936e-02 -6.98383945e-02\n",
            "   1.15755153e-01  1.03833421e-01 -5.61427517e-03 -1.21806063e-01\n",
            "  -1.43205654e-01  1.31388935e-01  8.60227405e-03 -3.46338450e-02\n",
            "  -1.10806160e-01 -7.44764352e-02 -8.16274783e-02 -6.06510513e-02\n",
            "   2.39622818e-02  1.09761936e-01  1.76393076e-01  5.72809788e-02\n",
            "  -1.79937146e-01  5.06381561e-03  1.26349399e-01  1.24789132e-02\n",
            "  -1.23516210e-01  9.08967805e-02 -1.49548287e-01  1.18452716e-01\n",
            "   1.14956318e-01  9.68526573e-02  1.79570289e-03 -7.54566908e-02\n",
            "  -7.95439159e-02  1.23631342e-01  1.11536748e-01  1.36578170e-01\n",
            "   4.77158860e-02  1.79389985e-02 -2.15385882e-03 -9.53379818e-02\n",
            "   5.66989005e-02 -2.94402720e-03 -3.36785387e-02 -1.08583535e-01\n",
            "  -6.96830761e-03 -4.12776691e-02  8.14512347e-02 -3.62174916e-02\n",
            "  -5.96110496e-02 -4.34674148e-02  1.05385134e-01 -2.40929595e-01\n",
            "  -1.68165076e-01 -6.86836062e-02 -6.14622774e-02  7.77041525e-02\n",
            "  -2.63435132e-02  2.35634243e-02  9.95596831e-02  1.61111596e-01\n",
            "  -5.38955546e-02  8.54076485e-04  3.86194388e-02 -2.47415922e-02\n",
            "   7.11477706e-02  1.21900196e-02 -6.20845649e-03  5.71331974e-02\n",
            "   6.47733808e-02 -3.51166747e-02  8.54734676e-02  1.10791864e-01\n",
            "   1.97610638e-02 -1.48532341e-01 -7.36753938e-02 -6.44820318e-02\n",
            "  -6.02610621e-02  1.42703354e-01 -2.00044869e-02  1.84206834e-01\n",
            "  -7.19465088e-02 -1.07222274e-01 -6.38168809e-02 -1.61149477e-01\n",
            "   8.04022670e-02 -1.09456244e-01  4.07126985e-02  1.08946450e-01]\n",
            " [ 5.17559109e-03  2.14896483e-01  4.78117945e-02 -2.19446049e-02\n",
            "  -1.62643488e-01  5.08856281e-02  4.19378928e-04  1.00069654e-01\n",
            "  -5.14332530e-02  1.86495091e-02 -1.15934452e-01  8.47807692e-03\n",
            "  -4.37973837e-02  9.82351883e-02  1.25616400e-01 -2.08805495e-02\n",
            "  -2.65260356e-02 -4.82040306e-02  4.77892567e-02  4.65851690e-02\n",
            "   6.77411843e-02  1.24174188e-02 -1.15300394e-01 -1.25363149e-01\n",
            "   1.68002258e-01 -1.04870634e-02  1.91747646e-01  3.79369801e-02\n",
            "  -1.81053106e-01 -3.00777163e-02  3.14771542e-02 -1.06034792e-01\n",
            "  -1.11299418e-01 -1.29115233e-01  4.07106431e-02  1.27289777e-01\n",
            "   2.02412803e-02 -9.14221353e-02  3.37051463e-02 -5.38454517e-03\n",
            "  -5.30584927e-02 -1.42506939e-01 -1.80689637e-01 -7.66080655e-02\n",
            "  -4.02981364e-02 -4.95238584e-02  1.93302886e-01 -1.55221369e-01\n",
            "  -1.55239443e-02  4.14242980e-02  6.39661251e-02 -2.46139925e-02\n",
            "   1.04261465e-02 -4.98431392e-02  1.53430161e-01 -5.71651691e-02\n",
            "   3.02057855e-02 -5.73483387e-02 -3.46678096e-02  1.02694634e-01\n",
            "   8.81388677e-02 -4.92901670e-03 -7.75332243e-02  1.87775541e-01\n",
            "   7.43037379e-02 -1.34650959e-01  1.17266580e-01 -2.21564412e-02\n",
            "   8.58253157e-02  4.03323142e-02 -6.80987518e-02  3.61305836e-01\n",
            "   7.33753728e-02  5.26019480e-02 -8.70989069e-02 -1.66803308e-01\n",
            "  -4.49170691e-03  1.27132001e-01 -9.94325337e-02  1.02235218e-01\n",
            "  -9.07404410e-02  3.79415342e-04  6.22010794e-02  5.76327852e-02\n",
            "  -3.61816011e-02 -1.06461209e-01 -2.57591603e-02 -1.86016920e-01\n",
            "  -5.79487744e-02  8.52090129e-02 -1.95945855e-02 -6.33097011e-02\n",
            "  -8.62779168e-03  1.63801196e-01 -5.78100717e-03  3.62630095e-02\n",
            "   4.20279623e-02  1.61327322e-01 -1.30457185e-01 -1.14247697e-01]]\n"
          ]
        }
      ]
    },
    {
      "cell_type": "markdown",
      "source": [
        "# (e)"
      ],
      "metadata": {
        "id": "HdYJJ7zbyep8"
      }
    },
    {
      "cell_type": "code",
      "source": [
        "Xc = np.empty((d,N))\n",
        "for i in range(d):\n",
        "  for j in range(N):\n",
        "    Xc[i][j] = X[i][j]-mu[i]\n",
        "\n",
        "print('Xc = ', Xc)\n",
        "\n",
        "S = (np.dot(Xc,np.transpose(Xc)))/N\n",
        "\n",
        "eigenValues, eigenVectors = np.linalg.eig(S)\n",
        "\n",
        "idx = eigenValues.argsort()[::-1]   \n",
        "eigenValues = eigenValues[idx]\n",
        "eigenVectors = eigenVectors[:,idx]\n",
        "\n",
        "print(eigenValues)\n",
        "print('U = ', eigenVectors)"
      ],
      "metadata": {
        "colab": {
          "base_uri": "https://localhost:8080/"
        },
        "id": "gs3B_s3gyeED",
        "outputId": "8e7ddbde-f2d0-4e74-ff79-484f6f075b08"
      },
      "execution_count": 196,
      "outputs": [
        {
          "output_type": "stream",
          "name": "stdout",
          "text": [
            "Xc =  [[-5.01975050e-02 -1.99170934e-01 -2.77915397e-02 -7.55927814e-02\n",
            "  -7.41516670e-02  2.07375774e-02 -1.42659545e-01  1.70061899e-01\n",
            "  -1.61616431e-01 -7.34334828e-02  8.90503823e-02  1.07623896e-02\n",
            "   8.52217513e-02 -1.40993130e-01  4.07077940e-02 -1.39209011e-02\n",
            "   2.42670920e-01 -8.36254934e-02 -3.61724096e-02  6.05718163e-02\n",
            "  -2.60083545e-02 -2.73155695e-03  1.39864895e-01 -6.35054535e-02\n",
            "   1.55155331e-02  8.41795214e-02  1.29535072e-03 -6.85973376e-02\n",
            "   8.88607685e-02  1.14979736e-01  3.57869823e-02  4.02102176e-02\n",
            "   1.22555224e-01 -3.68109623e-02  9.85429107e-02 -7.41909394e-03\n",
            "   5.28650570e-02 -1.09805206e-02  9.59638887e-02 -1.62235006e-01\n",
            "   3.15853499e-02  5.40538497e-02  1.42632603e-01 -2.49217514e-02\n",
            "   8.88462702e-02 -1.19782507e-01  1.85059703e-01  4.06621722e-02\n",
            "  -3.52655079e-02  6.11406729e-02  1.89256792e-02 -2.93858191e-01\n",
            "  -4.83817892e-02 -6.84023645e-02 -1.36760752e-01 -5.82020099e-02\n",
            "  -2.15022125e-01  2.13520803e-02 -9.28200460e-02 -8.62172777e-02\n",
            "  -7.32508095e-03 -7.23836068e-02  1.14187593e-01  7.20676003e-02\n",
            "   2.00871543e-01 -3.90618082e-02  5.71830968e-02 -5.23374818e-02\n",
            "   3.01600085e-02 -1.43959985e-01 -7.51480670e-02  4.20078588e-02\n",
            "   7.31234860e-02 -3.69538479e-02 -4.11752711e-02 -9.17994201e-02\n",
            "  -6.89988435e-02 -1.29548717e-01 -1.53024100e-01 -1.68459661e-02\n",
            "  -2.03274558e-01  7.54497471e-02  1.75646186e-01 -6.92282051e-03\n",
            "  -1.04136564e-01 -4.82699366e-02 -2.50403591e-01 -6.99267400e-02\n",
            "  -9.89385182e-04 -4.59485138e-02 -1.18115572e-01  1.27306525e-02\n",
            "   8.91373647e-02 -1.31700923e-01  8.66259689e-02 -8.09383856e-02\n",
            "  -5.87658901e-02  6.23153112e-02 -4.57743652e-02  1.14345010e-01]\n",
            " [-1.03611723e-01 -3.44696637e-02  1.35128525e-01 -1.61224010e-01\n",
            "   1.31968854e-01  1.44045729e-02 -6.43142472e-02  3.03541300e-02\n",
            "   2.10194598e-01  5.72947944e-02  1.89580171e-02  1.06931432e-01\n",
            "  -3.70475155e-02 -9.02755504e-02 -8.96709039e-02  4.05451760e-02\n",
            "  -2.19426004e-01 -1.83950047e-02  5.69488012e-02 -2.11861288e-01\n",
            "   4.44913517e-02 -3.23442347e-02  1.71216227e-01 -1.10644952e-02\n",
            "   1.42554923e-01 -2.30522551e-02  6.07582016e-02 -9.72936865e-02\n",
            "   2.38151535e-02 -2.00914233e-02  6.82662523e-03 -1.13278347e-02\n",
            "  -1.18650640e-01  9.16993837e-02  9.64674916e-02  6.55727235e-02\n",
            "  -1.33162944e-01  3.79755067e-02 -5.73702096e-02  3.96799059e-02\n",
            "   1.50696070e-01 -1.01525617e-01 -9.15507104e-02  4.42712470e-02\n",
            "   3.73152566e-02 -1.34501698e-01 -9.54014434e-02 -2.74687527e-02\n",
            "   1.27495408e-01 -1.51438395e-01 -1.25053880e-01 -1.23681627e-01\n",
            "  -1.58825944e-02  4.03705482e-02  8.81231054e-02  2.41137942e-01\n",
            "  -2.32413772e-02  1.76087092e-02  5.49545752e-02 -8.93069739e-02\n",
            "  -5.01299766e-02 -6.67015206e-02  4.17919401e-03 -5.90618434e-02\n",
            "  -1.27629675e-01 -7.22970230e-02 -2.10223537e-02 -1.15808987e-01\n",
            "  -2.27402347e-01  1.07028187e-01 -1.46194022e-01  6.00109855e-02\n",
            "   2.03207721e-03  3.89651240e-02  1.64035147e-01  8.20674148e-02\n",
            "   7.97342465e-02 -7.06964842e-02 -1.33558309e-02 -9.93673521e-03\n",
            "   1.03957719e-01 -1.30427086e-01 -1.33597892e-01 -8.17341562e-02\n",
            "   1.33949144e-01 -3.16753600e-03  1.08845901e-01  6.13265512e-03\n",
            "  -6.01815460e-02 -1.07610568e-01  4.57279301e-02 -1.54539011e-01\n",
            "   1.11838339e-01 -6.37330664e-02  6.10805061e-02  6.94781556e-02\n",
            "  -1.05918203e-01  1.16619067e-01 -2.22169850e-01 -2.97535625e-02]\n",
            " [ 1.08272317e-01  4.13967710e-02 -8.97242565e-02  3.01251054e-02\n",
            "   4.93079030e-02 -1.23580278e-02  1.25897319e-01 -6.45599655e-02\n",
            "   5.72678660e-03 -1.47745878e-01  1.18980314e-01  5.95669390e-02\n",
            "   1.18246235e-01  1.82609264e-01  3.08196595e-02 -1.73603953e-01\n",
            "  -3.80437578e-02 -4.86444806e-02 -9.94369723e-02 -1.18194145e-01\n",
            "  -2.85739066e-02  5.95183049e-02  6.87136310e-02  8.44110024e-02\n",
            "  -5.88780632e-02  1.08653467e-01 -2.24008491e-02 -4.26021392e-02\n",
            "   5.88316058e-02  3.23685499e-02 -6.63381786e-02  8.68963608e-02\n",
            "  -3.01497791e-03 -2.04230480e-02 -2.75618024e-02  1.16543695e-02\n",
            "  -2.46571809e-01  8.52478232e-02  1.29298913e-02 -1.52193603e-01\n",
            "  -2.24660913e-01 -1.10975578e-01  4.82282051e-03  1.36337809e-01\n",
            "  -5.50595822e-02 -1.33994302e-01  5.55937755e-02  2.06090018e-01\n",
            "  -1.37806834e-01  1.66848509e-02 -7.26623267e-03  1.55295049e-01\n",
            "  -1.18064926e-01 -8.49303907e-03 -7.18874047e-02  1.34914323e-01\n",
            "   1.05479489e-01  3.21338725e-02  7.51957290e-02 -5.87312732e-02\n",
            "   1.10998872e-01 -9.36133817e-02 -1.81247514e-01  1.46247336e-02\n",
            "  -3.39751983e-02  1.18198342e-01 -1.03947975e-01 -3.97477150e-02\n",
            "  -2.86309681e-03 -2.26038910e-02  7.49228258e-03  6.31126039e-02\n",
            "  -1.24176697e-02  1.54913212e-01  1.88842990e-01 -1.91016167e-02\n",
            "  -3.72689041e-02  5.84576571e-04 -3.08323239e-02  1.91122073e-01\n",
            "   2.08733011e-02  1.73318913e-01  8.35918991e-02 -2.70316346e-02\n",
            "   4.94140785e-02 -2.17886828e-02  1.08413944e-01  9.90638306e-02\n",
            "   2.82299291e-02 -1.84344516e-02  8.25329245e-02  5.89558429e-02\n",
            "   2.62688880e-02  1.54302573e-01  1.07622915e-02  1.10204877e-03\n",
            "  -1.42777777e-01  1.92961112e-01 -1.90462340e-02  1.12013833e-01]\n",
            " [-1.05011097e-01  9.20876646e-02 -6.58976758e-02 -5.70972663e-02\n",
            "   5.27554794e-02 -1.15805654e-01  4.10273688e-02  1.14250824e-01\n",
            "   1.05124411e-01 -1.09739547e-01 -2.96924692e-02  5.79417210e-02\n",
            "  -8.90341144e-02  1.72655577e-01 -1.55664346e-02 -5.53114808e-02\n",
            "  -2.74676895e-03 -9.25408295e-02 -2.66494341e-01 -8.41162995e-02\n",
            "  -2.06760357e-02 -8.81721291e-02  3.00047175e-02  4.79981203e-02\n",
            "  -1.73135046e-02 -3.20189589e-02  3.33734920e-02  8.11657803e-03\n",
            "  -1.83409287e-02  1.01656457e-01 -1.48933742e-01 -1.04994237e-01\n",
            "   1.24126084e-02 -1.23510169e-02  7.39276340e-02 -1.46550157e-01\n",
            "   5.28997025e-02 -7.03277103e-02 -2.05646406e-01 -2.56296040e-02\n",
            "   1.36601155e-02 -1.39658441e-01  6.90688726e-03  2.17728991e-02\n",
            "  -6.82758407e-02  9.48818907e-02  1.25891577e-02  8.84823408e-02\n",
            "  -1.51237083e-01 -2.21692216e-01  2.73242042e-02 -2.10889073e-01\n",
            "   1.92960103e-01  1.19554371e-02 -2.48896745e-02  7.49243381e-02\n",
            "   1.57873955e-01  5.37029499e-02 -8.76962526e-02 -8.84899190e-02\n",
            "  -9.22976043e-02  9.07942279e-02 -4.97293246e-02  8.56127354e-02\n",
            "  -5.31744270e-02 -9.13172879e-02  7.75060930e-02 -1.58313266e-01\n",
            "   9.69848921e-02 -6.96593873e-02  2.05133343e-02  2.27069810e-02\n",
            "  -1.13199551e-01  1.11748399e-01 -1.35962094e-02  3.50460037e-02\n",
            "  -4.02576369e-02  2.93200201e-02 -6.13391694e-02  1.96183743e-02\n",
            "   1.45445912e-01 -1.05867042e-02 -1.77718333e-01  1.24251134e-02\n",
            "   3.46869025e-02  1.00431002e-01 -1.93611268e-01  4.69523638e-03\n",
            "  -1.33030477e-01 -5.85337167e-03 -2.30577921e-02  1.53446734e-01\n",
            "   2.12209691e-02 -9.63278894e-02  5.44801778e-02  1.56751039e-01\n",
            "   5.43604904e-03  2.14435580e-01  7.87578548e-02  1.38963579e-01]\n",
            " [-8.87725545e-02 -1.98041945e-01  3.07931533e-02  1.34538078e-01\n",
            "   9.40286811e-02 -2.48145888e-03  7.01551142e-03  1.04409691e-01\n",
            "   6.86049483e-02 -1.17239664e-01 -3.22225938e-02 -1.69342955e-02\n",
            "  -2.15195118e-01  1.21355274e-01 -1.05140924e-02 -6.44658792e-02\n",
            "   4.20538877e-03 -1.88317624e-01 -8.22538879e-02 -1.62975054e-01\n",
            "   1.49466956e-01 -2.21550227e-01 -1.48178561e-02  3.42073582e-02\n",
            "  -1.83337485e-02  1.69231539e-01 -3.17964050e-02  9.15580453e-02\n",
            "   4.95594277e-03  4.53902886e-03  1.57998942e-01 -9.25679887e-02\n",
            "   4.65497245e-03  1.30942304e-01  8.84060971e-02 -1.03927374e-01\n",
            "  -6.35824586e-02 -1.40262924e-01 -1.44307193e-01  7.72192145e-03\n",
            "   9.17736229e-02  1.67581414e-01 -1.83835732e-01  6.59058191e-02\n",
            "   9.18766411e-02  9.22184826e-02  1.11560967e-01  1.80722523e-01\n",
            "   2.63538648e-02  1.54838640e-01 -6.31073329e-03  3.26416933e-02\n",
            "  -1.94817553e-01  9.71111916e-02  7.76747799e-02 -9.72913445e-02\n",
            "   1.24663104e-01  4.55552835e-02  8.73534238e-02  8.55222390e-03\n",
            "  -5.71186319e-02  4.78429153e-02 -6.54892538e-02  6.87515334e-02\n",
            "   1.14458005e-01  2.46311549e-02 -4.99446806e-03 -1.57776638e-01\n",
            "  -3.10492545e-02  8.82012175e-02 -1.44576551e-01 -6.01292463e-02\n",
            "   1.75470183e-01 -1.52680441e-02 -6.86973705e-03  2.41415246e-01\n",
            "  -1.38608758e-02 -1.63741224e-01 -1.45465139e-01 -8.73639378e-02\n",
            "  -1.12146590e-01 -8.46272276e-02  8.46396059e-02 -5.24288438e-02\n",
            "  -5.31834185e-02  1.02767634e-01 -1.07219335e-01 -1.58798390e-01\n",
            "  -1.23634859e-01 -3.30269404e-02 -7.57942284e-02  8.81547825e-02\n",
            "  -7.20098219e-02 -3.18967560e-02  1.36696621e-01 -8.98550080e-03\n",
            "   2.17553904e-03 -9.51924184e-02  1.23335315e-02  3.29119657e-02]\n",
            " [ 2.81514176e-02 -1.42978713e-02 -6.04927320e-02  1.04174895e-01\n",
            "  -7.25075336e-03  5.93015106e-02 -1.12614019e-01  1.29068034e-01\n",
            "   3.71613798e-02 -1.31512731e-01 -1.93613671e-01 -9.69353432e-02\n",
            "   1.41288647e-01  1.97814227e-01 -9.16420813e-02  1.04436884e-02\n",
            "  -2.40667581e-02  7.87546065e-02  1.47585044e-02  2.85352183e-02\n",
            "  -1.32796094e-01  1.16541587e-01 -1.20891317e-01 -6.78602392e-02\n",
            "   5.76886343e-05 -1.25398344e-01  7.63507192e-02 -1.25642903e-01\n",
            "  -4.84307825e-02 -1.99740437e-01  8.78702336e-03  1.93807340e-02\n",
            "  -2.15205623e-02  5.80638757e-02  2.85515111e-01  5.55537051e-02\n",
            "   7.42447971e-02  1.48614166e-02  9.50671320e-02  9.72594583e-02\n",
            "  -1.44137265e-01 -1.12313986e-02 -1.22004620e-01 -3.49556111e-02\n",
            "   1.10145890e-02  9.88431632e-02  1.55155035e-03 -2.66355855e-03\n",
            "   1.78117739e-01 -1.64518731e-01  1.70018637e-01  1.90758580e-01\n",
            "   8.93750336e-02 -4.80349518e-02  1.13704791e-01  1.19114404e-01\n",
            "   8.99379645e-02 -2.17367858e-02  1.96873870e-01  1.82098246e-01\n",
            "   9.52037087e-02  1.97649737e-02 -2.09831873e-02 -6.44006076e-02\n",
            "   1.09604239e-01 -1.71012748e-02 -7.82750389e-02 -4.65633638e-02\n",
            "  -1.10778442e-01  7.70270944e-02  3.59901586e-02 -1.76721161e-01\n",
            "  -1.16200792e-01 -7.21709252e-02 -9.55350134e-02  9.42648552e-02\n",
            "   1.25411698e-01 -1.62694657e-01 -5.61269534e-02 -6.59582719e-02\n",
            "   1.44885068e-01  3.58710133e-02 -2.03314395e-01  8.10743433e-02\n",
            "   9.64363912e-02 -8.11989131e-02  6.60561259e-02  4.59715572e-02\n",
            "  -4.22640985e-02  8.38777488e-02  5.39219106e-02  3.24809832e-02\n",
            "  -1.93850528e-01  1.92955106e-01  8.18984778e-02 -1.13491803e-01\n",
            "  -8.46226142e-02  1.16027878e-01  1.81722660e-01  1.06320658e-02]\n",
            " [ 5.33605193e-02 -1.33453080e-01 -9.94000400e-02  7.54762463e-02\n",
            "   5.55714153e-02 -2.05187298e-02  4.94245089e-02 -9.46521841e-02\n",
            "   8.35145224e-02  1.36030660e-02  2.65770363e-01  6.01152381e-02\n",
            "  -1.86039242e-03  5.69910197e-02  5.64621007e-02 -1.51782468e-02\n",
            "   2.40886914e-01  1.77013483e-01  2.97303195e-02  7.18829910e-02\n",
            "  -3.73917734e-02  5.11006144e-02 -6.23575357e-02  3.33435264e-02\n",
            "   7.27616411e-02  5.94039948e-02 -6.45132553e-02  1.59393051e-01\n",
            "  -4.85908313e-02  1.68230665e-02  3.30370859e-02 -5.80651994e-02\n",
            "   1.20768918e-01  1.85631967e-01  5.81099684e-02 -1.11302258e-01\n",
            "   1.21786483e-02  6.81942108e-02 -1.36410751e-01  2.43346398e-01\n",
            "   6.04227824e-03  6.70905774e-02 -1.00288791e-01  5.85396873e-03\n",
            "  -4.59802074e-02 -1.06164156e-01  4.10438649e-02 -9.65515315e-02\n",
            "   5.65236151e-02  1.18771612e-01 -5.94161875e-02 -7.80106983e-02\n",
            "  -9.48203048e-02  6.77536925e-02  4.89148536e-02 -1.64157989e-01\n",
            "   3.95496363e-02  1.26735293e-01  9.60920254e-03 -1.36660450e-01\n",
            "  -3.77784275e-04  2.97524785e-02 -9.83766394e-02 -3.49532874e-02\n",
            "   4.19789533e-02  8.66433464e-02  1.71650525e-01  2.07754681e-01\n",
            "  -7.48692224e-02 -9.23281458e-02 -4.81050661e-02  2.76676710e-02\n",
            "   1.80680269e-01 -1.40421943e-01  1.60726383e-01  1.76694267e-02\n",
            "   9.18816573e-02 -6.77918721e-02  7.12532108e-02 -7.08513320e-02\n",
            "   1.41527362e-01 -1.48604586e-01 -4.76609300e-02 -5.94039875e-03\n",
            "  -4.75050497e-02  1.82404301e-01  7.86726170e-02  1.37935906e-01\n",
            "  -5.90031741e-02  6.93573837e-03 -9.42731983e-02  1.25292802e-01\n",
            "  -9.00603954e-02 -1.67044569e-01  3.04213008e-02 -7.14376372e-02\n",
            "   6.60516710e-02  2.17341425e-01 -1.68317374e-01 -4.61834626e-02]\n",
            " [-7.62174807e-02 -2.81501570e-02  6.08496273e-02  2.30751855e-01\n",
            "   4.64139716e-02 -6.84611000e-02  3.44323719e-02 -1.39575982e-03\n",
            "  -9.24456622e-02 -2.30021603e-02  4.33828420e-02 -2.84284506e-02\n",
            "   4.59442057e-02  4.57643541e-02 -1.69754551e-02  7.81497114e-02\n",
            "  -1.32222965e-02 -1.20151859e-02  1.54060348e-01  4.08854682e-02\n",
            "  -3.61488625e-02  4.52439983e-03 -5.08939895e-02  2.33253309e-02\n",
            "  -2.19740752e-01  1.82915149e-01 -7.75331706e-02  5.82283961e-02\n",
            "   9.12648876e-02  2.71906839e-02 -2.46312527e-02 -1.65811892e-03\n",
            "   9.38192431e-02  8.24434522e-02  3.41921747e-02  1.37781730e-01\n",
            "   1.98701712e-01 -1.03725935e-01 -1.37176787e-01 -1.09982604e-01\n",
            "  -1.18013916e-01 -7.02971109e-02  1.39231671e-01 -1.74599776e-02\n",
            "  -2.65545938e-02 -2.15212542e-02  7.03321102e-02  1.43697863e-01\n",
            "   8.38927795e-02  1.34251227e-01  5.73992412e-03 -2.16929227e-01\n",
            "  -5.42080435e-02 -8.28160931e-03 -3.53100110e-02 -2.62323086e-04\n",
            "   1.70883092e-01  6.67619026e-02 -1.44080947e-01 -5.10274876e-03\n",
            "   2.14491118e-02  5.50693266e-02  1.19120908e-01 -2.26427126e-01\n",
            "  -1.89837230e-02 -9.78818399e-02 -9.64623800e-03 -1.25521077e-04\n",
            "   1.05051212e-01  1.27207488e-02 -1.26988371e-01  1.55913384e-01\n",
            "   2.01689116e-02 -8.21785388e-02  4.39782103e-02 -6.25336555e-02\n",
            "   1.37468498e-01  6.43355120e-02  5.87964125e-02 -1.20036883e-01\n",
            "   2.05703523e-02 -5.22280017e-02  5.05103663e-02 -4.30445702e-02\n",
            "   7.83432631e-02 -1.14033107e-01  5.66840080e-02 -1.24237092e-02\n",
            "  -1.00289047e-01 -1.47754474e-02 -9.53281855e-02  6.13327578e-02\n",
            "  -1.77684618e-01  1.91198638e-03 -1.98306333e-01  2.36235140e-01\n",
            "   1.34404647e-01  2.43923723e-02  9.70206582e-02 -1.08256647e-01]\n",
            " [ 1.79352327e-01 -3.64919372e-02 -4.32753265e-03  8.83808651e-02\n",
            "  -5.02133913e-02  1.03632031e-01 -2.06935507e-01  4.55448911e-02\n",
            "  -9.12621502e-03  2.10943376e-02 -1.57908169e-01 -1.58703088e-01\n",
            "   2.33836925e-02  1.41638255e-01  2.65202936e-02 -6.98383945e-02\n",
            "   1.15755153e-01  1.03833421e-01 -5.61427517e-03 -1.21806063e-01\n",
            "  -1.43205654e-01  1.31388935e-01  8.60227405e-03 -3.46338450e-02\n",
            "  -1.10806160e-01 -7.44764352e-02 -8.16274783e-02 -6.06510513e-02\n",
            "   2.39622818e-02  1.09761936e-01  1.76393076e-01  5.72809788e-02\n",
            "  -1.79937146e-01  5.06381561e-03  1.26349399e-01  1.24789132e-02\n",
            "  -1.23516210e-01  9.08967805e-02 -1.49548287e-01  1.18452716e-01\n",
            "   1.14956318e-01  9.68526573e-02  1.79570289e-03 -7.54566908e-02\n",
            "  -7.95439159e-02  1.23631342e-01  1.11536748e-01  1.36578170e-01\n",
            "   4.77158860e-02  1.79389985e-02 -2.15385882e-03 -9.53379818e-02\n",
            "   5.66989005e-02 -2.94402720e-03 -3.36785387e-02 -1.08583535e-01\n",
            "  -6.96830761e-03 -4.12776691e-02  8.14512347e-02 -3.62174916e-02\n",
            "  -5.96110496e-02 -4.34674148e-02  1.05385134e-01 -2.40929595e-01\n",
            "  -1.68165076e-01 -6.86836062e-02 -6.14622774e-02  7.77041525e-02\n",
            "  -2.63435132e-02  2.35634243e-02  9.95596831e-02  1.61111596e-01\n",
            "  -5.38955546e-02  8.54076485e-04  3.86194388e-02 -2.47415922e-02\n",
            "   7.11477706e-02  1.21900196e-02 -6.20845649e-03  5.71331974e-02\n",
            "   6.47733808e-02 -3.51166747e-02  8.54734676e-02  1.10791864e-01\n",
            "   1.97610638e-02 -1.48532341e-01 -7.36753938e-02 -6.44820318e-02\n",
            "  -6.02610621e-02  1.42703354e-01 -2.00044869e-02  1.84206834e-01\n",
            "  -7.19465088e-02 -1.07222274e-01 -6.38168809e-02 -1.61149477e-01\n",
            "   8.04022670e-02 -1.09456244e-01  4.07126985e-02  1.08946450e-01]\n",
            " [ 5.17559109e-03  2.14896483e-01  4.78117945e-02 -2.19446049e-02\n",
            "  -1.62643488e-01  5.08856281e-02  4.19378928e-04  1.00069654e-01\n",
            "  -5.14332530e-02  1.86495091e-02 -1.15934452e-01  8.47807692e-03\n",
            "  -4.37973837e-02  9.82351883e-02  1.25616400e-01 -2.08805495e-02\n",
            "  -2.65260356e-02 -4.82040306e-02  4.77892567e-02  4.65851690e-02\n",
            "   6.77411843e-02  1.24174188e-02 -1.15300394e-01 -1.25363149e-01\n",
            "   1.68002258e-01 -1.04870634e-02  1.91747646e-01  3.79369801e-02\n",
            "  -1.81053106e-01 -3.00777163e-02  3.14771542e-02 -1.06034792e-01\n",
            "  -1.11299418e-01 -1.29115233e-01  4.07106431e-02  1.27289777e-01\n",
            "   2.02412803e-02 -9.14221353e-02  3.37051463e-02 -5.38454517e-03\n",
            "  -5.30584927e-02 -1.42506939e-01 -1.80689637e-01 -7.66080655e-02\n",
            "  -4.02981364e-02 -4.95238584e-02  1.93302886e-01 -1.55221369e-01\n",
            "  -1.55239443e-02  4.14242980e-02  6.39661251e-02 -2.46139925e-02\n",
            "   1.04261465e-02 -4.98431392e-02  1.53430161e-01 -5.71651691e-02\n",
            "   3.02057855e-02 -5.73483387e-02 -3.46678096e-02  1.02694634e-01\n",
            "   8.81388677e-02 -4.92901670e-03 -7.75332243e-02  1.87775541e-01\n",
            "   7.43037379e-02 -1.34650959e-01  1.17266580e-01 -2.21564412e-02\n",
            "   8.58253157e-02  4.03323142e-02 -6.80987518e-02  3.61305836e-01\n",
            "   7.33753728e-02  5.26019480e-02 -8.70989069e-02 -1.66803308e-01\n",
            "  -4.49170691e-03  1.27132001e-01 -9.94325337e-02  1.02235218e-01\n",
            "  -9.07404410e-02  3.79415342e-04  6.22010794e-02  5.76327852e-02\n",
            "  -3.61816011e-02 -1.06461209e-01 -2.57591603e-02 -1.86016920e-01\n",
            "  -5.79487744e-02  8.52090129e-02 -1.95945855e-02 -6.33097011e-02\n",
            "  -8.62779168e-03  1.63801196e-01 -5.78100717e-03  3.62630095e-02\n",
            "   4.20279623e-02  1.61327322e-01 -1.30457185e-01 -1.14247697e-01]]\n",
            "[0.01570126 0.01313764 0.01255629 0.01090078 0.00988968 0.00934955\n",
            " 0.00858634 0.00770006 0.00711026 0.00601421]\n",
            "U =  [[-0.54096435  0.2603034   0.17826739 -0.19197544  0.01025679 -0.4027544\n",
            "   0.10967373  0.16650106  0.04033661  0.60602938]\n",
            " [ 0.18251667 -0.55163486  0.2502906   0.10857317  0.30950485  0.09764533\n",
            "   0.45834666  0.06058351 -0.38587213  0.34637545]\n",
            " [ 0.16289814 -0.19341555  0.23272373  0.01710616 -0.65353057 -0.15535038\n",
            "  -0.45504841  0.08157241 -0.43625729  0.16224114]\n",
            " [-0.00731698 -0.32601331  0.14909892 -0.54069742 -0.36851492  0.24881546\n",
            "   0.24214683  0.34290197  0.44620563 -0.07777473]\n",
            " [-0.31947739 -0.43017236 -0.22989622 -0.54563921  0.25948418 -0.1861607\n",
            "  -0.28270081 -0.30998997 -0.22594338 -0.18237251]\n",
            " [ 0.6085851   0.02524609 -0.45161993 -0.26030533  0.09039357 -0.13402061\n",
            "  -0.14286721 -0.03887115  0.21041247  0.5147227 ]\n",
            " [-0.32644103 -0.34006864 -0.37607263  0.37991048  0.10029141  0.26454221\n",
            "  -0.3715769   0.46622707  0.1438824   0.18933256]\n",
            " [-0.24414943  0.12384373 -0.31115745 -0.05397244 -0.33972893  0.58567698\n",
            "   0.20184867 -0.44592139 -0.19713465  0.29738476]\n",
            " [ 0.01537961  0.17401724 -0.51411218 -0.12152038 -0.13146517 -0.18410178\n",
            "   0.36401558  0.48438123 -0.46497564 -0.23641385]\n",
            " [ 0.0927634   0.37053381  0.26421731 -0.36223993  0.35062211  0.49264643\n",
            "  -0.31707327  0.30972202 -0.29827068  0.04478996]]\n"
          ]
        }
      ]
    },
    {
      "cell_type": "markdown",
      "source": [
        "# (f)"
      ],
      "metadata": {
        "id": "b4NT8klC1O_K"
      }
    },
    {
      "cell_type": "code",
      "source": [
        "def computeMSE(X1, X2, ro, col):\n",
        "  mse = 0\n",
        "  for i in range(ro):\n",
        "    for j in range(col):\n",
        "      mse += pow(X1[i][j]-X2[i][j],2)\n",
        "  mse = mse/(d*N)\n",
        "  return mse"
      ],
      "metadata": {
        "id": "RJF0Gmzz2Kqv"
      },
      "execution_count": 197,
      "outputs": []
    },
    {
      "cell_type": "code",
      "source": [
        "def computeY(U,xc,p):\n",
        "  U = U[:,:p]\n",
        "  # print('UUUU = ', U)\n",
        "  Y = np.dot(np.transpose(U),xc)\n",
        "  return Y"
      ],
      "metadata": {
        "id": "Gkqy3uzw3bgc"
      },
      "execution_count": 198,
      "outputs": []
    },
    {
      "cell_type": "code",
      "source": [
        "def computeFinalX(u,y,mean,p,d,N):\n",
        "  u = u[:,:p]\n",
        "  x = np.dot(u,y)\n",
        "  for i in range(d):\n",
        "    for j in range(N):\n",
        "      x[i][j] += mean[i]\n",
        "  return x"
      ],
      "metadata": {
        "id": "ljg-ACPX52sP"
      },
      "execution_count": 199,
      "outputs": []
    },
    {
      "cell_type": "code",
      "source": [
        "Y = computeY(eigenVectors,Xc,d)\n",
        "X_ = computeFinalX(eigenVectors,Y,mu,d,d,N)\n",
        "mse = computeMSE(X_,X,d,N)\n",
        "print(mse)"
      ],
      "metadata": {
        "colab": {
          "base_uri": "https://localhost:8080/"
        },
        "id": "IScqlT0g6fij",
        "outputId": "a37eaa82-7373-4fd0-a8ad-89fc8b8a81e8"
      },
      "execution_count": 200,
      "outputs": [
        {
          "output_type": "stream",
          "name": "stdout",
          "text": [
            "5.887455264518698e-32\n"
          ]
        }
      ]
    },
    {
      "cell_type": "markdown",
      "source": [
        "# (g)"
      ],
      "metadata": {
        "id": "PiyIwDx068QE"
      }
    },
    {
      "cell_type": "code",
      "source": [
        "x_axis = []\n",
        "y_axis = []\n",
        "\n",
        "for i in range(d):\n",
        "  x_axis.append(i+1)\n",
        "  Y = computeY(eigenVectors,Xc,i+1)\n",
        "  X_ = computeFinalX(eigenVectors,Y,mu,i+1,d,N)\n",
        "  mse = computeMSE(X_,X,i+1,N)\n",
        "  y_axis.append(mse)\n",
        "\n",
        "plt.plot(x_axis, y_axis)\n",
        "plt.xlabel('No. of principal components')\n",
        "plt.ylabel('MSE')\n",
        "plt.show()"
      ],
      "metadata": {
        "colab": {
          "base_uri": "https://localhost:8080/",
          "height": 279
        },
        "id": "9jzKx0RB698X",
        "outputId": "b843e8d8-dbc7-47d1-d7de-544fe6862e3f"
      },
      "execution_count": 202,
      "outputs": [
        {
          "output_type": "display_data",
          "data": {
            "image/png": "[encoded data removed]",
            "text/plain": [
              "<Figure size 432x288 with 1 Axes>"
            ]
          },
          "metadata": {
            "needs_background": "light"
          }
        }
      ]
    }
  ]
}