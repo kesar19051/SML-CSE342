{
  "nbformat": 4,
  "nbformat_minor": 0,
  "metadata": {
    "colab": {
      "name": "SML2.ipynb",
      "provenance": [],
      "toc_visible": true
    },
    "kernelspec": {
      "name": "python3",
      "display_name": "Python 3"
    },
    "language_info": {
      "name": "python"
    }
  },
  "cells": [
    {
      "cell_type": "code",
      "execution_count": 513,
      "metadata": {
        "id": "SfFZspxaKv59"
      },
      "outputs": [],
      "source": [
        "from scipy.stats import bernoulli\n",
        "import matplotlib.pyplot as plt\n",
        "import numpy as np\n",
        "import seaborn as sns\n",
        "from sklearn.model_selection import train_test_split\n",
        "import pandas as pd\n",
        "from mpl_toolkits import mplot3d\n",
        "from math import *\n",
        "import sympy as sp\n",
        "sp.init_printing(use_unicode=True)"
      ]
    },
    {
      "cell_type": "markdown",
      "source": [
        "# Question 1"
      ],
      "metadata": {
        "id": "hak2yD39V2NF"
      }
    },
    {
      "cell_type": "markdown",
      "source": [
        "# (a)"
      ],
      "metadata": {
        "id": "yWvzfX3nV5Ff"
      }
    },
    {
      "cell_type": "code",
      "source": [
        "#uij = mean of i-th class and j-th dimension\n",
        "u11 = 0.5\n",
        "u12 = 0.8\n",
        "u21 = 0.9\n",
        "u22 = 0.2"
      ],
      "metadata": {
        "id": "7QX9qKnCPhYX"
      },
      "execution_count": 514,
      "outputs": []
    },
    {
      "cell_type": "code",
      "source": [
        "rv11 = bernoulli.rvs(u11,size = 100)\n",
        "rv12 = bernoulli.rvs(u12,size = 100)\n",
        "rv21 = bernoulli.rvs(u21,size = 100)\n",
        "rv22 = bernoulli.rvs(u22,size = 100)"
      ],
      "metadata": {
        "id": "Q_9oB-gMO8CP"
      },
      "execution_count": 515,
      "outputs": []
    },
    {
      "cell_type": "code",
      "source": [
        "data1 = {}\n",
        "data2 = {}\n",
        "\n",
        "c1 = [1]*100\n",
        "c2 = [2]*100\n",
        "\n",
        "data1['f1'] = list(rv11)\n",
        "data1['f2'] = list(rv12)\n",
        "data1['class'] = c1\n",
        "data2['f1'] = list(rv21)\n",
        "data2['f2'] = list(rv22)\n",
        "data2['class']= c2\n",
        "\n",
        "df1 = pd.DataFrame(data1)\n",
        "df2 = pd.DataFrame(data2)"
      ],
      "metadata": {
        "id": "TB6qIwNCTtQe"
      },
      "execution_count": 516,
      "outputs": []
    },
    {
      "cell_type": "code",
      "source": [
        "print('Data generation')\n",
        "print(df1)\n",
        "print(df2)"
      ],
      "metadata": {
        "colab": {
          "base_uri": "https://localhost:8080/"
        },
        "id": "R6gR_yjXV-b8",
        "outputId": "6e30f1c0-17c7-4186-b142-d40e18be9a40"
      },
      "execution_count": 517,
      "outputs": [
        {
          "output_type": "stream",
          "name": "stdout",
          "text": [
            "Data generation\n",
            "    f1  f2  class\n",
            "0    1   1      1\n",
            "1    0   0      1\n",
            "2    1   1      1\n",
            "3    1   1      1\n",
            "4    0   1      1\n",
            "..  ..  ..    ...\n",
            "95   1   0      1\n",
            "96   1   1      1\n",
            "97   1   1      1\n",
            "98   0   1      1\n",
            "99   1   1      1\n",
            "\n",
            "[100 rows x 3 columns]\n",
            "    f1  f2  class\n",
            "0    1   0      2\n",
            "1    1   1      2\n",
            "2    1   0      2\n",
            "3    1   1      2\n",
            "4    1   0      2\n",
            "..  ..  ..    ...\n",
            "95   1   0      2\n",
            "96   1   0      2\n",
            "97   1   0      2\n",
            "98   1   0      2\n",
            "99   1   0      2\n",
            "\n",
            "[100 rows x 3 columns]\n"
          ]
        }
      ]
    },
    {
      "cell_type": "code",
      "source": [
        "def computeMLE(xi, n):\n",
        "  return sum(xi[:n])/n"
      ],
      "metadata": {
        "id": "HkoP9RaTYab4"
      },
      "execution_count": 518,
      "outputs": []
    },
    {
      "cell_type": "code",
      "source": [
        "def plotN_MLE(l,s):\n",
        "\n",
        "  x = []\n",
        "  y = []\n",
        "\n",
        "  for i in range(1,51):\n",
        "    x.append(i)\n",
        "    y.append(computeMLE(l,i))\n",
        "\n",
        "  plt.plot(x, y)\n",
        "  plt.xlabel(\"n\")  \n",
        "  plt.ylabel(\"MLE\")  \n",
        "  plt.title(s)  \n",
        "  plt.show()"
      ],
      "metadata": {
        "id": "GU8IEtmMbVPF"
      },
      "execution_count": 519,
      "outputs": []
    },
    {
      "cell_type": "markdown",
      "source": [
        "# (b)"
      ],
      "metadata": {
        "id": "kx_lRYmnXjMS"
      }
    },
    {
      "cell_type": "code",
      "source": [
        "# split a dataset into train and test sets\n",
        "features1 = df1.loc[ : , df1.columns != 'class']\n",
        "labels1 = pd.DataFrame(df1['class'])\n",
        "\n",
        "# split into train test sets\n",
        "X_train1, X_test1, y_train1, y_test1 = train_test_split(features1, labels1, test_size=0.50, random_state = 0)"
      ],
      "metadata": {
        "id": "vdfyMMxBSwhi"
      },
      "execution_count": 520,
      "outputs": []
    },
    {
      "cell_type": "code",
      "source": [
        "u11_mle = computeMLE(X_train1['f1'].tolist(),50)\n",
        "u12_mle = computeMLE(X_train1['f2'].tolist(),50)\n",
        "u1_mle = np.array([u11_mle,u12_mle])\n",
        "print('The MLE for class 1 is')\n",
        "print(u1_mle)"
      ],
      "metadata": {
        "colab": {
          "base_uri": "https://localhost:8080/"
        },
        "id": "Dk_gHw2tZXAA",
        "outputId": "aae9dea0-2eda-4e42-b0fb-c8c8dab79995"
      },
      "execution_count": 521,
      "outputs": [
        {
          "output_type": "stream",
          "name": "stdout",
          "text": [
            "The MLE for class 1 is\n",
            "[0.58 0.84]\n"
          ]
        }
      ]
    },
    {
      "cell_type": "code",
      "source": [
        "plotN_MLE(X_train1['f1'].tolist(),'Class 1 Dimension 1')\n",
        "plotN_MLE(X_train1['f2'].tolist(),'Class 1 Dimension 2')"
      ],
      "metadata": {
        "colab": {
          "base_uri": "https://localhost:8080/",
          "height": 573
        },
        "id": "vIQVdKD7eCqS",
        "outputId": "c442b5a5-2e0b-4374-ad52-15887edad868"
      },
      "execution_count": 522,
      "outputs": [
        {
          "output_type": "display_data",
          "data": {
            "image/png": "[encoded data removed]",
            "text/plain": [
              "<Figure size 432x288 with 1 Axes>"
            ]
          },
          "metadata": {
            "needs_background": "light"
          }
        },
        {
          "output_type": "display_data",
          "data": {
            "image/png": "[encoded data removed]",
            "text/plain": [
              "<Figure size 432x288 with 1 Axes>"
            ]
          },
          "metadata": {
            "needs_background": "light"
          }
        }
      ]
    },
    {
      "cell_type": "markdown",
      "source": [
        "# (c)"
      ],
      "metadata": {
        "id": "8v27t4Y-fXxM"
      }
    },
    {
      "cell_type": "code",
      "source": [
        "# split a dataset into train and test sets\n",
        "features2 = df2.loc[ : , df2.columns != 'class']\n",
        "labels2 = pd.DataFrame(df2['class'])\n",
        "\n",
        "# split into train test sets\n",
        "X_train2, X_test2, y_train2, y_test2 = train_test_split(features2, labels2, test_size=0.50, random_state = 0)"
      ],
      "metadata": {
        "id": "y4lU6BKYevot"
      },
      "execution_count": 523,
      "outputs": []
    },
    {
      "cell_type": "code",
      "source": [
        "u21_mle = computeMLE(X_train2['f1'].tolist(),50)\n",
        "u22_mle = computeMLE(X_train2['f2'].tolist(),50)\n",
        "u2_mle = np.array([u21_mle,u22_mle])\n",
        "print('The MLE for class 2 is')\n",
        "print(u2_mle)"
      ],
      "metadata": {
        "colab": {
          "base_uri": "https://localhost:8080/"
        },
        "outputId": "1d19e574-b9d0-42a7-e463-277eab617679",
        "id": "onUbd_zqevou"
      },
      "execution_count": 524,
      "outputs": [
        {
          "output_type": "stream",
          "name": "stdout",
          "text": [
            "The MLE for class 2 is\n",
            "[0.94 0.2 ]\n"
          ]
        }
      ]
    },
    {
      "cell_type": "code",
      "source": [
        "plotN_MLE(X_train2['f1'].tolist(),'Class 2 Dimension 1')\n",
        "plotN_MLE(X_train2['f2'].tolist(),'Class 2 Dimension 2')"
      ],
      "metadata": {
        "colab": {
          "base_uri": "https://localhost:8080/",
          "height": 573
        },
        "outputId": "9554adf1-6239-48d2-c4bc-4bae8ccc5217",
        "id": "lkvJLNPIevow"
      },
      "execution_count": 525,
      "outputs": [
        {
          "output_type": "display_data",
          "data": {
            "image/png": "[encoded data removed]",
            "text/plain": [
              "<Figure size 432x288 with 1 Axes>"
            ]
          },
          "metadata": {
            "needs_background": "light"
          }
        },
        {
          "output_type": "display_data",
          "data": {
            "image/png": "[encoded data removed]",
            "text/plain": [
              "<Figure size 432x288 with 1 Axes>"
            ]
          },
          "metadata": {
            "needs_background": "light"
          }
        }
      ]
    },
    {
      "cell_type": "markdown",
      "source": [
        "# (d)"
      ],
      "metadata": {
        "id": "c4HzREkgfahP"
      }
    },
    {
      "cell_type": "code",
      "source": [
        "fig = plt.figure(figsize=(12,10))\n",
        "ax = plt.axes(projection ='3d')\n",
        "\n",
        "z = []\n",
        "for i in range(0,50):\n",
        "  z.append(i+1)\n",
        "\n",
        "x = X_train1['f1'].tolist()\n",
        "y = X_train1['f2'].tolist()\n",
        "\n",
        "# plotting\n",
        "ax.scatter3D(x, y, z, label='Class 1')\n",
        "\n",
        "x = X_train2['f2'].tolist()\n",
        "y = X_train2['f2'].tolist()\n",
        "\n",
        "ax.scatter3D(x, y, z, label='Class 2')\n",
        "\n",
        "ax.set_xlabel('D1')\n",
        "ax.set_ylabel('D2')\n",
        "ax.set_zlabel('n')\n",
        "ax.set_title('Training samples')\n",
        "plt.legend()\n",
        "plt.show()\n"
      ],
      "metadata": {
        "colab": {
          "base_uri": "https://localhost:8080/",
          "height": 575
        },
        "id": "ZtwpTJK9fckY",
        "outputId": "1215a7c3-fe99-4b19-912c-bd7395145d42"
      },
      "execution_count": 526,
      "outputs": [
        {
          "output_type": "display_data",
          "data": {
            "image/png": "[encoded data removed]",
            "text/plain": [
              "<Figure size 864x720 with 1 Axes>"
            ]
          },
          "metadata": {
            "needs_background": "light"
          }
        }
      ]
    },
    {
      "cell_type": "markdown",
      "source": [
        "# (e)"
      ],
      "metadata": {
        "id": "6-JsxIYZYuyT"
      }
    },
    {
      "cell_type": "code",
      "source": [
        "def discriminant(mu11, mu12, mu21, mu22, x1, x2):\n",
        "  d1 = np.log(pow(u11_mle, x1)*pow(1-u11_mle, 1-x1)*pow(u12_mle, x2)*pow(1-u12_mle, 1-x2))\n",
        "  d2 = np.log(pow(u21_mle, x1)*pow(1-u21_mle, 1-x1)*pow(u22_mle, x2)*pow(1-u22_mle, 1-x2))\n",
        "  if d1>=d2:\n",
        "    return 1\n",
        "  else:\n",
        "    return 2"
      ],
      "metadata": {
        "id": "mFpCoqdzYw1Z"
      },
      "execution_count": 527,
      "outputs": []
    },
    {
      "cell_type": "code",
      "source": [
        "X_test1_f1 = X_test1['f1'].tolist()\n",
        "X_test1_f2 = X_test1['f2'].tolist()\n",
        "pred1 = []\n",
        "for i in range(50):\n",
        "  d = discriminant(u11, u12, u21, u22, X_test1_f1[i], X_test1_f2[i])\n",
        "  pred1.append(d)"
      ],
      "metadata": {
        "id": "fbQNCMIYjtz4"
      },
      "execution_count": 528,
      "outputs": []
    },
    {
      "cell_type": "code",
      "source": [
        "X_test2_f1 = X_test2['f1'].tolist()\n",
        "X_test2_f2 = X_test2['f2'].tolist()\n",
        "pred2 = []\n",
        "for i in range(50):\n",
        "  d = discriminant(u11, u12, u21, u22, X_test2_f1[i], X_test2_f2[i])\n",
        "  pred2.append(d)"
      ],
      "metadata": {
        "id": "j-0SqEytnfmZ"
      },
      "execution_count": 529,
      "outputs": []
    },
    {
      "cell_type": "code",
      "source": [
        "num1 = 0\n",
        "num2 = 0\n",
        "\n",
        "for i in range(50):\n",
        "  if pred1[i]==1:\n",
        "    num1 += 1\n",
        "  if pred2[i]==2:\n",
        "    num2 += 1\n",
        "\n",
        "print('Accuracy for class 1')\n",
        "print(num1/50)\n",
        "print('Accuracy for class 2')\n",
        "print(num2/50)"
      ],
      "metadata": {
        "colab": {
          "base_uri": "https://localhost:8080/"
        },
        "id": "Xb8gc1S5no3O",
        "outputId": "c894a77d-32ec-41c9-aa17-40007c810799"
      },
      "execution_count": 530,
      "outputs": [
        {
          "output_type": "stream",
          "name": "stdout",
          "text": [
            "Accuracy for class 1\n",
            "0.92\n",
            "Accuracy for class 2\n",
            "0.78\n"
          ]
        }
      ]
    },
    {
      "cell_type": "markdown",
      "source": [
        "# Question 3"
      ],
      "metadata": {
        "id": "tA5MavXjT0t_"
      }
    },
    {
      "cell_type": "markdown",
      "source": [
        "# (c)"
      ],
      "metadata": {
        "id": "pfds_u7NT3A4"
      }
    },
    {
      "cell_type": "code",
      "source": [
        "X = np.array([[2,4],[6,8]])\n",
        "mu = np.array([[3],[7]])\n",
        "\n",
        "print('X')\n",
        "print(X)\n",
        "\n",
        "print()\n",
        "\n",
        "print('Mean')\n",
        "print(mu)"
      ],
      "metadata": {
        "colab": {
          "base_uri": "https://localhost:8080/"
        },
        "id": "B1bDTDDwUshf",
        "outputId": "1af80700-e3f5-4d13-b0ef-117137a97616"
      },
      "execution_count": 531,
      "outputs": [
        {
          "output_type": "stream",
          "name": "stdout",
          "text": [
            "X\n",
            "[[2 4]\n",
            " [6 8]]\n",
            "\n",
            "Mean\n",
            "[[3]\n",
            " [7]]\n"
          ]
        }
      ]
    },
    {
      "cell_type": "code",
      "source": [
        "Xc = np.array([[-1,1],[-1,1]])\n",
        "print('Centralised X')\n",
        "print(Xc)"
      ],
      "metadata": {
        "colab": {
          "base_uri": "https://localhost:8080/"
        },
        "id": "DfkTmYiLU14S",
        "outputId": "3d6abc39-7f59-4eee-a883-b0171998008f"
      },
      "execution_count": 532,
      "outputs": [
        {
          "output_type": "stream",
          "name": "stdout",
          "text": [
            "Centralised X\n",
            "[[-1  1]\n",
            " [-1  1]]\n"
          ]
        }
      ]
    },
    {
      "cell_type": "code",
      "source": [
        "S = 0.5*(np.dot(Xc,np.transpose(Xc)))\n",
        "print('The covariance')\n",
        "print(S)"
      ],
      "metadata": {
        "colab": {
          "base_uri": "https://localhost:8080/"
        },
        "id": "vbJ5BY4qVk4v",
        "outputId": "0fdbc022-954c-4604-a1f8-0dc184ce3823"
      },
      "execution_count": 533,
      "outputs": [
        {
          "output_type": "stream",
          "name": "stdout",
          "text": [
            "The covariance\n",
            "[[1. 1.]\n",
            " [1. 1.]]\n"
          ]
        }
      ]
    },
    {
      "cell_type": "code",
      "source": [
        "e1, e2 = np.linalg.eig(S)\n",
        "\n",
        "print('Eigenvalue 1')\n",
        "print(e1[0])\n",
        "print('Eigenvalue 2')\n",
        "print(e1[1])\n",
        "\n",
        "print()\n",
        "print('The eigenvectors are')\n",
        "\n",
        "print('       1           2')\n",
        "print(e2)"
      ],
      "metadata": {
        "colab": {
          "base_uri": "https://localhost:8080/"
        },
        "id": "sS31w5bJWUC3",
        "outputId": "d29ab9c0-8f0e-4678-e286-dfba5bff838b"
      },
      "execution_count": 534,
      "outputs": [
        {
          "output_type": "stream",
          "name": "stdout",
          "text": [
            "Eigenvalue 1\n",
            "2.0\n",
            "Eigenvalue 2\n",
            "0.0\n",
            "\n",
            "The eigenvectors are\n",
            "       1           2\n",
            "[[ 0.70710678 -0.70710678]\n",
            " [ 0.70710678  0.70710678]]\n"
          ]
        }
      ]
    },
    {
      "cell_type": "code",
      "source": [
        "U = e2"
      ],
      "metadata": {
        "id": "rEu214cKj7O4"
      },
      "execution_count": 535,
      "outputs": []
    },
    {
      "cell_type": "code",
      "source": [
        "print('U')\n",
        "print(U)"
      ],
      "metadata": {
        "colab": {
          "base_uri": "https://localhost:8080/"
        },
        "id": "4HZkqpF2jVOM",
        "outputId": "388e6139-d190-4c5a-ee0f-602c2081857a"
      },
      "execution_count": 536,
      "outputs": [
        {
          "output_type": "stream",
          "name": "stdout",
          "text": [
            "U\n",
            "[[ 0.70710678 -0.70710678]\n",
            " [ 0.70710678  0.70710678]]\n"
          ]
        }
      ]
    },
    {
      "cell_type": "code",
      "source": [
        "U1 = U[:,:1]"
      ],
      "metadata": {
        "id": "EY2tl_nJwX76"
      },
      "execution_count": 537,
      "outputs": []
    },
    {
      "cell_type": "code",
      "source": [
        "Y = np.dot(np.transpose(U1),Xc)\n",
        "print('Y')\n",
        "print(Y)"
      ],
      "metadata": {
        "colab": {
          "base_uri": "https://localhost:8080/"
        },
        "id": "Q6TRM61Ekz5c",
        "outputId": "0ba172d5-6b10-4576-c725-a11b6bf3423f"
      },
      "execution_count": 538,
      "outputs": [
        {
          "output_type": "stream",
          "name": "stdout",
          "text": [
            "Y\n",
            "[[-1.41421356  1.41421356]]\n"
          ]
        }
      ]
    },
    {
      "cell_type": "code",
      "source": [
        "X_ = np.dot(U1,Y)\n",
        "print(X_)\n",
        "print()\n",
        "\n",
        "X_[0][0] += 3\n",
        "X_[0][1] += 3\n",
        "X_[1][0] += 7\n",
        "X_[1][1] += 7\n",
        "\n",
        "print('After adding mean')\n",
        "print(X_)"
      ],
      "metadata": {
        "colab": {
          "base_uri": "https://localhost:8080/"
        },
        "id": "arucJs6umOW7",
        "outputId": "871bb50f-ab51-4884-943b-402b9d04d99e"
      },
      "execution_count": 539,
      "outputs": [
        {
          "output_type": "stream",
          "name": "stdout",
          "text": [
            "[[-1.  1.]\n",
            " [-1.  1.]]\n",
            "\n",
            "After adding mean\n",
            "[[2. 4.]\n",
            " [6. 8.]]\n"
          ]
        }
      ]
    },
    {
      "cell_type": "code",
      "source": [
        "mse = 0\n",
        "for i in range(2):\n",
        "  for j in range(2):\n",
        "    mse += pow(X_[i][j]-X[i][j],2)\n",
        "mse /= 4\n",
        "print('MSE = ',mse)"
      ],
      "metadata": {
        "colab": {
          "base_uri": "https://localhost:8080/"
        },
        "id": "6gFEPsX7nwtV",
        "outputId": "dc3efbe6-68b4-402f-fdf2-ae90c7a81ca1"
      },
      "execution_count": 540,
      "outputs": [
        {
          "output_type": "stream",
          "name": "stdout",
          "text": [
            "MSE =  0.0\n"
          ]
        }
      ]
    },
    {
      "cell_type": "code",
      "source": [
        "Y = np.dot(np.transpose(U),Xc)\n",
        "print('Y')\n",
        "print(Y)"
      ],
      "metadata": {
        "colab": {
          "base_uri": "https://localhost:8080/"
        },
        "outputId": "96bfe80b-05c2-4917-f48f-42a74ed86fc1",
        "id": "3T9wDuOsyeXW"
      },
      "execution_count": 541,
      "outputs": [
        {
          "output_type": "stream",
          "name": "stdout",
          "text": [
            "Y\n",
            "[[-1.41421356  1.41421356]\n",
            " [ 0.          0.        ]]\n"
          ]
        }
      ]
    },
    {
      "cell_type": "code",
      "source": [
        "X_ = np.dot(U,Y)\n",
        "print(X_)\n",
        "print()\n",
        "\n",
        "X_[0][0] += 3\n",
        "X_[0][1] += 3\n",
        "X_[1][0] += 7\n",
        "X_[1][1] += 7\n",
        "\n",
        "print('After adding mean')\n",
        "print(X_)"
      ],
      "metadata": {
        "colab": {
          "base_uri": "https://localhost:8080/"
        },
        "outputId": "6fe420d2-dc54-428f-8509-96b92269deac",
        "id": "Nl60-qM0yeXX"
      },
      "execution_count": 542,
      "outputs": [
        {
          "output_type": "stream",
          "name": "stdout",
          "text": [
            "[[-1.  1.]\n",
            " [-1.  1.]]\n",
            "\n",
            "After adding mean\n",
            "[[2. 4.]\n",
            " [6. 8.]]\n"
          ]
        }
      ]
    },
    {
      "cell_type": "code",
      "source": [
        "mse = 0\n",
        "for i in range(2):\n",
        "  for j in range(2):\n",
        "    mse += pow(X_[i][j]-X[i][j],2)\n",
        "mse /= 4\n",
        "print('MSE = ',mse)"
      ],
      "metadata": {
        "colab": {
          "base_uri": "https://localhost:8080/"
        },
        "outputId": "014adf0a-956a-4148-e1b3-cdb0be9b2b59",
        "id": "wNIgtROzyeXX"
      },
      "execution_count": 543,
      "outputs": [
        {
          "output_type": "stream",
          "name": "stdout",
          "text": [
            "MSE =  0.0\n"
          ]
        }
      ]
    },
    {
      "cell_type": "markdown",
      "source": [
        "# (d)"
      ],
      "metadata": {
        "id": "lXzieMZ0o6lJ"
      }
    },
    {
      "cell_type": "code",
      "source": [
        "d = 3\n",
        "N = 100\n",
        "mu = np.array([66, 60, 60])\n",
        "sigma = np.array([[630, 450, 225], [450, 450, 0], [225, 0, 900]])\n",
        "X = np.random.multivariate_normal(mu, sigma, N)\n",
        "X = X.T\n",
        "X"
      ],
      "metadata": {
        "id": "yFNIRTctwVjB",
        "colab": {
          "base_uri": "https://localhost:8080/"
        },
        "outputId": "b8c67025-ab11-4840-f308-fedf7d5437eb"
      },
      "execution_count": 544,
      "outputs": [
        {
          "output_type": "execute_result",
          "data": {
            "text/plain": [
              "array([[ 48.90712774,  85.79816322,  93.2186929 ,  53.03665953,\n",
              "         89.16298053,  60.92977135,  42.52753241, 109.41581537,\n",
              "         68.6125849 ,  82.59314984,  40.66245018, 107.08953609,\n",
              "         88.02357432,  56.27859456,  42.81827991,  99.94538191,\n",
              "         30.95982081,  76.77038999,  90.02790368,  75.97751919,\n",
              "        109.99788738,  72.27889426,  18.85409565,  49.37993674,\n",
              "         66.68521948,  56.66411163,  30.62339496,  99.95554969,\n",
              "         52.25824049,  86.09235611,  17.71519545,  40.72714836,\n",
              "         65.20705818,  40.62892098,  34.15613411, 114.18016183,\n",
              "         71.69760465,  82.21331978,  66.37174964,  49.36747866,\n",
              "         50.12598781,  34.24528784,  62.73151658,  75.5605683 ,\n",
              "         88.5417474 ,  35.38717748,  72.74018226,  62.1575395 ,\n",
              "         32.69217062,   8.93312759, 100.61151548,  53.00952438,\n",
              "        105.04979113,  47.5200054 ,  55.74797169, 106.41344908,\n",
              "         82.85435209,  39.91896299, 112.67550217,  32.75330527,\n",
              "         76.92861262,  22.94648209,  92.25271382,  36.77287216,\n",
              "         87.5080442 ,  60.95398657,  83.49860167,  64.56858501,\n",
              "         78.57831797,  59.77306484,  88.60022541,  42.65981042,\n",
              "         65.54073387,  80.16526611,  83.23736837,  75.35267286,\n",
              "         72.702856  ,  57.47786274,  83.0004517 ,  79.89636963,\n",
              "         73.13770412,  51.53219725,  59.84346818,  83.79333586,\n",
              "         72.53659484,  55.01592325,  63.23041528,  95.54103655,\n",
              "         90.11656289, 105.32066467,  10.95411239,  45.76028991,\n",
              "         62.51288109,  81.95337855,  71.04789634,  97.30092606,\n",
              "         73.14594873,  20.90208922,  45.44969491,  31.84086145],\n",
              "       [ 39.63858923,  68.33369323,  81.79509001,  59.21778336,\n",
              "         74.39200744,  62.04459876,  27.97267947,  87.90811789,\n",
              "         55.77051794,  72.90168267,  34.97449038,  78.64789764,\n",
              "         89.99730851,  62.4914015 ,  49.40433471,  73.0193949 ,\n",
              "         43.20181729,  82.39508497,  67.87651783,  67.14229844,\n",
              "         95.10682312,  59.36288469,  32.12111078,  58.67314733,\n",
              "         60.45553743,  54.31519599,  29.15427834,  89.43796142,\n",
              "         45.89584102,  66.17514504,  31.06066225,  57.7573965 ,\n",
              "         69.52415318,  18.56149835,  44.97127326,  93.20465036,\n",
              "         61.64403459,  73.93950291,  71.92541392,  55.09766873,\n",
              "         41.12459144,  40.72506549,  65.57908093,  60.49013537,\n",
              "         76.60312287,  46.62994976,  58.17543459,  76.31240936,\n",
              "         32.47125546,  28.7843185 , 101.28494004,  62.99829218,\n",
              "        103.50150927,  37.25361955,  63.52956906,  98.5615719 ,\n",
              "         74.08382071,  62.31151357, 113.65140518,  44.86588298,\n",
              "         50.61699059,   6.00403579,  71.19166676,  55.11175317,\n",
              "         76.71234036,  54.74867903,  46.96984014,  41.53650424,\n",
              "         67.19226791,  60.00679849,  84.60723985,  33.78732617,\n",
              "         69.26735113,  64.12389287,  68.64419038,  51.50281795,\n",
              "         77.61368457,  34.28925123,  71.36892149,  71.69416468,\n",
              "         58.48168888,  43.62744195,  43.76285686,  53.97330292,\n",
              "         68.73836362,  39.9182495 ,  74.03329388,  82.41536672,\n",
              "         63.75674981,  83.31785086,  32.57485854,  47.89131981,\n",
              "         63.45017891,  82.18320107,  68.10316269, 104.74823069,\n",
              "         54.42909093,  19.24657447,  65.5603667 ,  29.00003885],\n",
              "       [ 64.80226562,  93.46787417,  75.37593007,  52.88612362,\n",
              "         65.06249547,  92.50419581,  48.72279434,  69.0674285 ,\n",
              "         89.06525791,  15.61140022,  88.34535172,  83.53609564,\n",
              "         71.05849321,   5.72769077,  22.50623256,  54.73981659,\n",
              "         55.19479812,  89.88423763,  69.24329849,  91.54193008,\n",
              "         74.73853944,  84.3075609 ,  60.29981749,  11.255409  ,\n",
              "         76.50017498,  74.42265875,  60.15791946,  22.18961889,\n",
              "         89.83828584, 112.76503134,  61.67066371,   7.08995376,\n",
              "         66.45205085,  56.67989566,  47.60131512,  53.05968728,\n",
              "         62.35690402, 106.02701251,  27.77103172,  30.51713188,\n",
              "         44.10266772,   8.72032621,  62.94268357,  91.20978815,\n",
              "         75.22899614,  35.6289756 ,  69.37855075,  57.42519529,\n",
              "         39.03433679,   1.60394028,  31.40954147,  -5.10962014,\n",
              "         32.24856671,  66.73196367,  54.61924007,  14.1906148 ,\n",
              "         39.27850149,  10.41622384,  42.18543149,  60.23810636,\n",
              "         88.47676072, 128.89809897,  65.91589691,  10.88461725,\n",
              "         39.60863226,  90.6838625 , 147.03636661,  94.31546123,\n",
              "         52.68853896,  70.43442007,  79.72177818,  54.33321929,\n",
              "         38.86005088,  62.61674602,  76.07768423, 150.41289674,\n",
              "         -1.14009252,  92.88866862,  92.76284522,  66.75375337,\n",
              "         87.53864579,  85.92553717, 113.88690501,  74.15751691,\n",
              "         70.76795894,  45.13368806,  24.51086933,  61.36166691,\n",
              "         55.39459863,  48.43214924,  -5.2553329 ,  66.02980209,\n",
              "         15.09926074,  40.7464527 ,  56.68587879,  62.10100699,\n",
              "         85.7973759 ,  84.02152253,  21.28539208,  56.69987954]])"
            ]
          },
          "metadata": {},
          "execution_count": 544
        }
      ]
    },
    {
      "cell_type": "markdown",
      "source": [
        "# (e)"
      ],
      "metadata": {
        "id": "HdYJJ7zbyep8"
      }
    },
    {
      "cell_type": "code",
      "source": [
        "Xc = np.empty((d,N))\n",
        "for i in range(d):\n",
        "  for j in range(N):\n",
        "    Xc[i][j] = X[i][j]-mu[i]\n",
        "\n",
        "print('Xc = ', Xc)\n",
        "\n",
        "S = np.cov(Xc)\n",
        "print('S = ', S)\n",
        "\n",
        "eigenValues, eigenVectors = np.linalg.eig(S)\n",
        "\n",
        "idx = eigenValues.argsort()[::-1]   \n",
        "eigenValues = eigenValues[idx]\n",
        "eigenVectors = eigenVectors[:,idx]\n",
        "\n",
        "print('Eigenvalues = ',eigenValues)\n",
        "print('U = ', eigenVectors)"
      ],
      "metadata": {
        "colab": {
          "base_uri": "https://localhost:8080/"
        },
        "id": "gs3B_s3gyeED",
        "outputId": "6dde7986-25be-4abb-8c4b-682550388fd4"
      },
      "execution_count": 545,
      "outputs": [
        {
          "output_type": "stream",
          "name": "stdout",
          "text": [
            "Xc =  [[-1.70928723e+01  1.97981632e+01  2.72186929e+01 -1.29633405e+01\n",
            "   2.31629805e+01 -5.07022865e+00 -2.34724676e+01  4.34158154e+01\n",
            "   2.61258490e+00  1.65931498e+01 -2.53375498e+01  4.10895361e+01\n",
            "   2.20235743e+01 -9.72140544e+00 -2.31817201e+01  3.39453819e+01\n",
            "  -3.50401792e+01  1.07703900e+01  2.40279037e+01  9.97751919e+00\n",
            "   4.39978874e+01  6.27889426e+00 -4.71459044e+01 -1.66200633e+01\n",
            "   6.85219477e-01 -9.33588837e+00 -3.53766050e+01  3.39555497e+01\n",
            "  -1.37417595e+01  2.00923561e+01 -4.82848046e+01 -2.52728516e+01\n",
            "  -7.92941823e-01 -2.53710790e+01 -3.18438659e+01  4.81801618e+01\n",
            "   5.69760465e+00  1.62133198e+01  3.71749637e-01 -1.66325213e+01\n",
            "  -1.58740122e+01 -3.17547122e+01 -3.26848342e+00  9.56056830e+00\n",
            "   2.25417474e+01 -3.06128225e+01  6.74018226e+00 -3.84246050e+00\n",
            "  -3.33078294e+01 -5.70668724e+01  3.46115155e+01 -1.29904756e+01\n",
            "   3.90497911e+01 -1.84799946e+01 -1.02520283e+01  4.04134491e+01\n",
            "   1.68543521e+01 -2.60810370e+01  4.66755022e+01 -3.32466947e+01\n",
            "   1.09286126e+01 -4.30535179e+01  2.62527138e+01 -2.92271278e+01\n",
            "   2.15080442e+01 -5.04601343e+00  1.74986017e+01 -1.43141499e+00\n",
            "   1.25783180e+01 -6.22693516e+00  2.26002254e+01 -2.33401896e+01\n",
            "  -4.59266126e-01  1.41652661e+01  1.72373684e+01  9.35267286e+00\n",
            "   6.70285600e+00 -8.52213726e+00  1.70004517e+01  1.38963696e+01\n",
            "   7.13770412e+00 -1.44678028e+01 -6.15653182e+00  1.77933359e+01\n",
            "   6.53659484e+00 -1.09840768e+01 -2.76958472e+00  2.95410366e+01\n",
            "   2.41165629e+01  3.93206647e+01 -5.50458876e+01 -2.02397101e+01\n",
            "  -3.48711891e+00  1.59533785e+01  5.04789634e+00  3.13009261e+01\n",
            "   7.14594873e+00 -4.50979108e+01 -2.05503051e+01 -3.41591385e+01]\n",
            " [-2.03614108e+01  8.33369323e+00  2.17950900e+01 -7.82216640e-01\n",
            "   1.43920074e+01  2.04459876e+00 -3.20273205e+01  2.79081179e+01\n",
            "  -4.22948206e+00  1.29016827e+01 -2.50255096e+01  1.86478976e+01\n",
            "   2.99973085e+01  2.49140150e+00 -1.05956653e+01  1.30193949e+01\n",
            "  -1.67981827e+01  2.23950850e+01  7.87651783e+00  7.14229844e+00\n",
            "   3.51068231e+01 -6.37115315e-01 -2.78788892e+01 -1.32685267e+00\n",
            "   4.55537426e-01 -5.68480401e+00 -3.08457217e+01  2.94379614e+01\n",
            "  -1.41041590e+01  6.17514504e+00 -2.89393378e+01 -2.24260350e+00\n",
            "   9.52415318e+00 -4.14385017e+01 -1.50287267e+01  3.32046504e+01\n",
            "   1.64403459e+00  1.39395029e+01  1.19254139e+01 -4.90233127e+00\n",
            "  -1.88754086e+01 -1.92749345e+01  5.57908093e+00  4.90135370e-01\n",
            "   1.66031229e+01 -1.33700502e+01 -1.82456541e+00  1.63124094e+01\n",
            "  -2.75287445e+01 -3.12156815e+01  4.12849400e+01  2.99829218e+00\n",
            "   4.35015093e+01 -2.27463805e+01  3.52956906e+00  3.85615719e+01\n",
            "   1.40838207e+01  2.31151357e+00  5.36514052e+01 -1.51341170e+01\n",
            "  -9.38300941e+00 -5.39959642e+01  1.11916668e+01 -4.88824683e+00\n",
            "   1.67123404e+01 -5.25132097e+00 -1.30301599e+01 -1.84634958e+01\n",
            "   7.19226791e+00  6.79848781e-03  2.46072399e+01 -2.62126738e+01\n",
            "   9.26735113e+00  4.12389287e+00  8.64419038e+00 -8.49718205e+00\n",
            "   1.76136846e+01 -2.57107488e+01  1.13689215e+01  1.16941647e+01\n",
            "  -1.51831112e+00 -1.63725581e+01 -1.62371431e+01 -6.02669708e+00\n",
            "   8.73836362e+00 -2.00817505e+01  1.40332939e+01  2.24153667e+01\n",
            "   3.75674981e+00  2.33178509e+01 -2.74251415e+01 -1.21086802e+01\n",
            "   3.45017891e+00  2.21832011e+01  8.10316269e+00  4.47482307e+01\n",
            "  -5.57090907e+00 -4.07534255e+01  5.56036670e+00 -3.09999611e+01]\n",
            " [ 4.80226562e+00  3.34678742e+01  1.53759301e+01 -7.11387638e+00\n",
            "   5.06249547e+00  3.25041958e+01 -1.12772057e+01  9.06742850e+00\n",
            "   2.90652579e+01 -4.43885998e+01  2.83453517e+01  2.35360956e+01\n",
            "   1.10584932e+01 -5.42723092e+01 -3.74937674e+01 -5.26018341e+00\n",
            "  -4.80520188e+00  2.98842376e+01  9.24329849e+00  3.15419301e+01\n",
            "   1.47385394e+01  2.43075609e+01  2.99817490e-01 -4.87445910e+01\n",
            "   1.65001750e+01  1.44226588e+01  1.57919461e-01 -3.78103811e+01\n",
            "   2.98382858e+01  5.27650313e+01  1.67066371e+00 -5.29100462e+01\n",
            "   6.45205085e+00 -3.32010434e+00 -1.23986849e+01 -6.94031272e+00\n",
            "   2.35690402e+00  4.60270125e+01 -3.22289683e+01 -2.94828681e+01\n",
            "  -1.58973323e+01 -5.12796738e+01  2.94268357e+00  3.12097881e+01\n",
            "   1.52289961e+01 -2.43710244e+01  9.37855075e+00 -2.57480471e+00\n",
            "  -2.09656632e+01 -5.83960597e+01 -2.85904585e+01 -6.51096201e+01\n",
            "  -2.77514333e+01  6.73196367e+00 -5.38075993e+00 -4.58093852e+01\n",
            "  -2.07214985e+01 -4.95837762e+01 -1.78145685e+01  2.38106356e-01\n",
            "   2.84767607e+01  6.88980990e+01  5.91589691e+00 -4.91153828e+01\n",
            "  -2.03913677e+01  3.06838625e+01  8.70363666e+01  3.43154612e+01\n",
            "  -7.31146104e+00  1.04344201e+01  1.97217782e+01 -5.66678071e+00\n",
            "  -2.11399491e+01  2.61674602e+00  1.60776842e+01  9.04128967e+01\n",
            "  -6.11400925e+01  3.28886686e+01  3.27628452e+01  6.75375337e+00\n",
            "   2.75386458e+01  2.59255372e+01  5.38869050e+01  1.41575169e+01\n",
            "   1.07679589e+01 -1.48663119e+01 -3.54891307e+01  1.36166691e+00\n",
            "  -4.60540137e+00 -1.15678508e+01 -6.52553329e+01  6.02980209e+00\n",
            "  -4.49007393e+01 -1.92535473e+01 -3.31412121e+00  2.10100699e+00\n",
            "   2.57973759e+01  2.40215225e+01 -3.87146079e+01 -3.30012046e+00]]\n",
            "S =  [[625.74888427 439.35771812 160.23923503]\n",
            " [439.35771812 424.44502921 -94.11162395]\n",
            " [160.23923503 -94.11162395 993.34025525]]\n",
            "Eigenvalues =  [1070.50180158  930.47994341   42.55242374]\n",
            "U =  [[ 0.53367271 -0.57191538  0.62298173]\n",
            " [ 0.24502111 -0.6004929  -0.76116551]\n",
            " [ 0.80941836  0.55885694 -0.18033533]]\n"
          ]
        }
      ]
    },
    {
      "cell_type": "markdown",
      "source": [
        "# (f)"
      ],
      "metadata": {
        "id": "b4NT8klC1O_K"
      }
    },
    {
      "cell_type": "code",
      "source": [
        "def computeMSE(X1, X2, ro, col):\n",
        "  mse = np.square(np.subtract(X1, X2))\n",
        "  mse = np.mean(mse)\n",
        "  return mse"
      ],
      "metadata": {
        "id": "RJF0Gmzz2Kqv"
      },
      "execution_count": 546,
      "outputs": []
    },
    {
      "cell_type": "code",
      "source": [
        "def computeY(U,xc,p):\n",
        "  U = U[:,:p]\n",
        "  # print('UUUU = ', U)\n",
        "  Y = np.dot(np.transpose(U),xc)\n",
        "  return Y"
      ],
      "metadata": {
        "id": "Gkqy3uzw3bgc"
      },
      "execution_count": 547,
      "outputs": []
    },
    {
      "cell_type": "code",
      "source": [
        "def computeFinalX(u,y,mean,p,d,N):\n",
        "  u = u[:,:p]\n",
        "  x = np.dot(u,y)\n",
        "  # print(x)\n",
        "  for i in range(d):\n",
        "    for j in range(N):\n",
        "      x[i][j] += mean[i]\n",
        "  return x"
      ],
      "metadata": {
        "id": "ljg-ACPX52sP"
      },
      "execution_count": 548,
      "outputs": []
    },
    {
      "cell_type": "code",
      "source": [
        "Y = computeY(eigenVectors,Xc,d)\n",
        "print(Y)\n",
        "X_ = computeFinalX(eigenVectors,Y,mu,d,d,N)\n",
        "print(X_)\n",
        "mse = computeMSE(X_,X,d,N)\n",
        "print(mse)"
      ],
      "metadata": {
        "colab": {
          "base_uri": "https://localhost:8080/"
        },
        "id": "IScqlT0g6fij",
        "outputId": "ba7eabbb-f74b-4b50-c5b4-67dd19f649f9"
      },
      "execution_count": 549,
      "outputs": [
        {
          "output_type": "stream",
          "name": "stdout",
          "text": [
            "[[-1.02239331e+01  3.96971823e+01  3.23116911e+01 -1.28679429e+01\n",
            "   1.99854732e+01  2.41046202e+01 -2.95019625e+01  3.73472573e+01\n",
            "   2.38839064e+01 -2.39124519e+01  3.28951105e+00  4.55480409e+01\n",
            "   2.80543021e+01 -4.85066066e+01 -4.53157571e+01  1.70480617e+01\n",
            "  -2.67053156e+01  3.54239826e+01  2.22346453e+01  3.26053611e+01\n",
            "   4.40120293e+01  2.28697540e+01 -3.17487214e+01 -4.86495483e+01\n",
            "   1.38328439e+01  5.29875897e+00 -2.63095589e+01 -5.27034443e+00\n",
            "   1.33622377e+01  5.49447685e+01 -3.15067655e+01 -5.68632796e+01\n",
            "   7.13285564e+00 -2.63805138e+01 -3.07122809e+01  2.82306615e+01\n",
            "   5.35120072e+00  4.93231881e+01 -2.29663480e+01 -3.39414724e+01\n",
            "  -2.59639935e+01 -6.31760990e+01  2.00455432e+00  3.04840836e+01\n",
            "   2.84246603e+01 -3.93395274e+01  1.07411655e+01 -1.37825851e-01\n",
            "  -4.14905961e+01 -8.53703768e+01  5.44526115e+00 -5.88989397e+01\n",
            "   9.03607646e+00 -9.98663729e+00 -8.96169474e+00 -6.06300336e+00\n",
            "  -4.32682019e+00 -5.34863872e+01  2.36357300e+01 -2.12583043e+01\n",
            "   2.65828800e+01  1.95607476e+01  2.15409873e+01 -5.65503371e+01\n",
            "  -9.32014975e-01  2.08564776e+01  7.65946955e+01  2.24877111e+01\n",
            "   2.55693173e+00  5.12433162e+00  3.40535864e+01 -2.34654772e+01\n",
            "  -1.50854642e+01  1.06880991e+01  2.43306952e+01  7.60911363e+01\n",
            "  -4.15950578e+01  1.57729840e+01  3.83771516e+01  1.57480425e+01\n",
            "   2.57274653e+01  9.25191195e+00  3.63530346e+01  1.94785040e+01\n",
            "   1.43452696e+01 -2.28154208e+01 -2.67651526e+01  2.23596414e+01\n",
            "   1.00631381e+01  1.73345007e+01 -8.89150917e+01 -8.88763076e+00\n",
            "  -3.73590965e+01 -1.63493934e+00  1.99685990e+00  2.93693051e+01\n",
            "   2.33294773e+01 -1.46095126e+01 -4.09410445e+01 -2.84966232e+01]\n",
            " [ 2.46863385e+01  2.37655612e+00 -2.00616406e+01  3.90801015e+00\n",
            "  -1.90603523e+01  1.98371701e+01  2.63540990e+01 -3.65214037e+01\n",
            "   1.72889175e+01 -4.20441234e+01  4.53595717e+01 -2.15443573e+01\n",
            "  -2.44286759e+01 -2.62667043e+01 -1.33304815e+00 -3.01716302e+01\n",
            "   2.74417864e+01 -2.90682751e+00 -1.33060392e+01  7.63223038e+00\n",
            "  -3.80077313e+01  1.03760361e+01  4.38720978e+01 -1.69392176e+01\n",
            "   8.55580276e+00  1.68132255e+01  3.88433156e+01 -5.82275817e+01\n",
            "   3.30039040e+01  1.42888457e+01  4.59263511e+01 -1.37685465e+01\n",
            "  -1.65991730e+00  3.75381728e+01  2.03075492e+01 -5.13727742e+01\n",
            "  -2.92860665e+00  8.07929597e+00 -2.53851183e+01 -4.02049560e+00\n",
            "   1.15288060e+01  1.07746794e+00  1.63636619e-01  1.16796478e+01\n",
            "  -1.43511992e+01  1.19166481e+01  2.48209284e+00 -9.03687115e+00\n",
            "   2.38632690e+01  1.87471738e+01 -6.05641474e+01 -3.07579634e+01\n",
            "  -6.39646045e+01  2.79902376e+01  7.36736498e-01 -7.18699159e+01\n",
            "  -2.96768507e+01 -1.41821387e+01 -6.88675205e+01  2.82352932e+01\n",
            "   1.52986242e+01  9.55513428e+01 -1.84287072e+01 -7.79767109e+00\n",
            "  -3.37322803e+01  2.31871631e+01  4.64576765e+01  3.10832799e+01\n",
            "  -1.55987000e+01  9.38854562e+00 -1.66802366e+01  2.59222181e+01\n",
            "  -1.71165244e+01 -9.11531525e+00 -6.06396559e+00  5.02814348e+01\n",
            "  -4.85789239e+01  3.86931241e+01  1.75996705e+00 -1.11954284e+01\n",
            "   1.22197356e+01  3.25946301e+01  4.33863752e+01  1.35473291e+00\n",
            "  -2.96795581e+00  1.00327693e+01 -2.66762722e+01 -2.95942646e+01\n",
            "  -1.86222953e+01 -4.29550704e+01  1.14817967e+01  2.22163747e+01\n",
            "  -2.51705607e+01 -3.32048157e+01 -9.60498082e+00 -4.35983133e+01\n",
            "   1.36754559e+01  6.36889259e+01 -1.32218525e+01  3.63070979e+01]\n",
            " [ 3.98383843e+00 -4.48661139e-02 -2.40574598e+00 -6.19764465e+00\n",
            "   2.56246710e+00 -1.05765928e+01  1.17888521e+01  4.16938506e+00\n",
            "  -3.94564357e-01  8.52174605e+00 -1.84794406e+00  7.15950400e+00\n",
            "  -1.11068694e+01  1.83458797e+00  3.84717932e-01  1.21860352e+01\n",
            "  -8.17664632e+00 -1.57257940e+01  7.30671790e+00 -4.90878350e+00\n",
            "  -1.97010254e+00  1.30745650e-02 -8.20465559e+00 -5.53669287e-01\n",
            "  -2.89542467e+00 -4.08992603e+00  1.41124257e+00  5.56507357e+00\n",
            "  -3.20616281e+00 -1.69853610e+00 -8.35420476e+00 -4.49598164e+00\n",
            "  -8.90697792e+00  1.63345718e+01 -6.16287713e+00  5.99270929e+00\n",
            "   1.87308809e+00 -8.80996343e+00 -3.03359892e+00 -1.31346861e+00\n",
            "   7.34494117e+00  4.13634691e+00 -6.81347925e+00 -4.52422517e-02\n",
            "  -1.34095386e+00 -4.49945116e+00  3.89652260e+00 -1.43458978e+01\n",
            "   3.98461168e+00 -1.26044578e+00 -4.70646107e+00  1.36653932e+00\n",
            "  -3.77997840e+00  4.58705049e+00 -8.10307142e+00  4.08615228e+00\n",
            "   3.51665304e+00 -9.06574723e+00 -8.54701827e+00 -9.23545434e+00\n",
            "   8.81498307e+00  1.85354939e+00  6.76940500e+00 -5.62996289e+00\n",
            "   4.35554544e+00 -4.67983423e+00  5.12368546e+00  6.97374079e+00\n",
            "   3.68007070e+00 -5.76613618e+00 -8.20718826e+00  6.43359247e+00\n",
            "  -3.52782277e+00  5.21384515e+00  1.25953141e+00 -4.01033339e+00\n",
            "   1.79454635e+00  8.33001055e+00 -3.97095872e+00 -1.46195085e+00\n",
            "   6.36154507e-01 -1.22624052e+00 -1.19396627e+00  1.31191366e+01\n",
            "  -4.52100532e+00  1.11235781e+01 -6.00711589e+00  1.09616522e+00\n",
            "   1.29951862e+01  8.83340386e+00 -1.64966824e+00 -4.47964613e+00\n",
            "   3.29862110e+00 -3.47432948e+00 -2.42544765e+00 -1.49397908e+01\n",
            "   4.04000103e+00 -1.40700151e+00 -1.00532123e+01  2.91071051e+00]]\n",
            "[[ 48.90712774  85.79816322  93.2186929   53.03665953  89.16298053\n",
            "   60.92977135  42.52753241 109.41581537  68.6125849   82.59314984\n",
            "   40.66245018 107.08953609  88.02357432  56.27859456  42.81827991\n",
            "   99.94538191  30.95982081  76.77038999  90.02790368  75.97751919\n",
            "  109.99788738  72.27889426  18.85409565  49.37993674  66.68521948\n",
            "   56.66411163  30.62339496  99.95554969  52.25824049  86.09235611\n",
            "   17.71519545  40.72714836  65.20705818  40.62892098  34.15613411\n",
            "  114.18016183  71.69760465  82.21331978  66.37174964  49.36747866\n",
            "   50.12598781  34.24528784  62.73151658  75.5605683   88.5417474\n",
            "   35.38717748  72.74018226  62.1575395   32.69217062   8.93312759\n",
            "  100.61151548  53.00952438 105.04979113  47.5200054   55.74797169\n",
            "  106.41344908  82.85435209  39.91896299 112.67550217  32.75330527\n",
            "   76.92861262  22.94648209  92.25271382  36.77287216  87.5080442\n",
            "   60.95398657  83.49860167  64.56858501  78.57831797  59.77306484\n",
            "   88.60022541  42.65981042  65.54073387  80.16526611  83.23736837\n",
            "   75.35267286  72.702856    57.47786274  83.0004517   79.89636963\n",
            "   73.13770412  51.53219725  59.84346818  83.79333586  72.53659484\n",
            "   55.01592325  63.23041528  95.54103655  90.11656289 105.32066467\n",
            "   10.95411239  45.76028991  62.51288109  81.95337855  71.04789634\n",
            "   97.30092606  73.14594873  20.90208922  45.44969491  31.84086145]\n",
            " [ 39.63858923  68.33369323  81.79509001  59.21778336  74.39200744\n",
            "   62.04459876  27.97267947  87.90811789  55.77051794  72.90168267\n",
            "   34.97449038  78.64789764  89.99730851  62.4914015   49.40433471\n",
            "   73.0193949   43.20181729  82.39508497  67.87651783  67.14229844\n",
            "   95.10682312  59.36288469  32.12111078  58.67314733  60.45553743\n",
            "   54.31519599  29.15427834  89.43796142  45.89584102  66.17514504\n",
            "   31.06066225  57.7573965   69.52415318  18.56149835  44.97127326\n",
            "   93.20465036  61.64403459  73.93950291  71.92541392  55.09766873\n",
            "   41.12459144  40.72506549  65.57908093  60.49013537  76.60312287\n",
            "   46.62994976  58.17543459  76.31240936  32.47125546  28.7843185\n",
            "  101.28494004  62.99829218 103.50150927  37.25361955  63.52956906\n",
            "   98.5615719   74.08382071  62.31151357 113.65140518  44.86588298\n",
            "   50.61699059   6.00403579  71.19166676  55.11175317  76.71234036\n",
            "   54.74867903  46.96984014  41.53650424  67.19226791  60.00679849\n",
            "   84.60723985  33.78732617  69.26735113  64.12389287  68.64419038\n",
            "   51.50281795  77.61368457  34.28925123  71.36892149  71.69416468\n",
            "   58.48168888  43.62744195  43.76285686  53.97330292  68.73836362\n",
            "   39.9182495   74.03329388  82.41536672  63.75674981  83.31785086\n",
            "   32.57485854  47.89131981  63.45017891  82.18320107  68.10316269\n",
            "  104.74823069  54.42909093  19.24657447  65.5603667   29.00003885]\n",
            " [ 64.80226562  93.46787417  75.37593007  52.88612362  65.06249547\n",
            "   92.50419581  48.72279434  69.0674285   89.06525791  15.61140022\n",
            "   88.34535172  83.53609564  71.05849321   5.72769077  22.50623256\n",
            "   54.73981659  55.19479812  89.88423763  69.24329849  91.54193008\n",
            "   74.73853944  84.3075609   60.29981749  11.255409    76.50017498\n",
            "   74.42265875  60.15791946  22.18961889  89.83828584 112.76503134\n",
            "   61.67066371   7.08995376  66.45205085  56.67989566  47.60131512\n",
            "   53.05968728  62.35690402 106.02701251  27.77103172  30.51713188\n",
            "   44.10266772   8.72032621  62.94268357  91.20978815  75.22899614\n",
            "   35.6289756   69.37855075  57.42519529  39.03433679   1.60394028\n",
            "   31.40954147  -5.10962014  32.24856671  66.73196367  54.61924007\n",
            "   14.1906148   39.27850149  10.41622384  42.18543149  60.23810636\n",
            "   88.47676072 128.89809897  65.91589691  10.88461725  39.60863226\n",
            "   90.6838625  147.03636661  94.31546123  52.68853896  70.43442007\n",
            "   79.72177818  54.33321929  38.86005088  62.61674602  76.07768423\n",
            "  150.41289674  -1.14009252  92.88866862  92.76284522  66.75375337\n",
            "   87.53864579  85.92553717 113.88690501  74.15751691  70.76795894\n",
            "   45.13368806  24.51086933  61.36166691  55.39459863  48.43214924\n",
            "   -5.2553329   66.02980209  15.09926074  40.7464527   56.68587879\n",
            "   62.10100699  85.7973759   84.02152253  21.28539208  56.69987954]]\n",
            "1.6938421356905565e-28\n"
          ]
        }
      ]
    },
    {
      "cell_type": "markdown",
      "source": [
        "# (g)"
      ],
      "metadata": {
        "id": "PiyIwDx068QE"
      }
    },
    {
      "cell_type": "code",
      "source": [
        "x_axis = []\n",
        "y_axis = []\n",
        "\n",
        "for i in range(min(d,N)):\n",
        "  x_axis.append(i+1)\n",
        "  Y = computeY(eigenVectors,Xc,i+1)\n",
        "  X_ = computeFinalX(eigenVectors,Y,mu,i+1,d,N)\n",
        "  mse = computeMSE(X_,X,i+1,N)\n",
        "  y_axis.append(mse)\n",
        "\n",
        "plt.plot(x_axis, y_axis)\n",
        "plt.xlabel('No. of principal components')\n",
        "plt.ylabel('MSE')\n",
        "plt.show()"
      ],
      "metadata": {
        "colab": {
          "base_uri": "https://localhost:8080/",
          "height": 279
        },
        "id": "9jzKx0RB698X",
        "outputId": "69d9a4f5-c07b-4a9c-ba00-eea9c2926ce0"
      },
      "execution_count": 550,
      "outputs": [
        {
          "output_type": "display_data",
          "data": {
            "image/png": "[encoded data removed]",
            "text/plain": [
              "<Figure size 432x288 with 1 Axes>"
            ]
          },
          "metadata": {
            "needs_background": "light"
          }
        }
      ]
    }
  ]
}