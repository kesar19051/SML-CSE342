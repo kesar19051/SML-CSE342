{
  "nbformat": 4,
  "nbformat_minor": 0,
  "metadata": {
    "colab": {
      "name": "SML3.ipynb",
      "provenance": [],
      "toc_visible": true
    },
    "kernelspec": {
      "name": "python3",
      "display_name": "Python 3"
    },
    "language_info": {
      "name": "python"
    }
  },
  "cells": [
    {
      "cell_type": "code",
      "execution_count": 1,
      "metadata": {
        "colab": {
          "base_uri": "https://localhost:8080/"
        },
        "id": "ItmN9nC_ogEM",
        "outputId": "c9653d16-8410-4152-ffe8-2e34c9135800"
      },
      "outputs": [
        {
          "output_type": "stream",
          "name": "stdout",
          "text": [
            "Mounted at /content/drive/\n"
          ]
        }
      ],
      "source": [
        "from google.colab import drive\n",
        "drive.mount('/content/drive/')"
      ]
    },
    {
      "cell_type": "code",
      "source": [
        "import tarfile\n",
        "import os\n",
        "import numpy as np\n",
        "import pickle\n",
        "from google.colab.patches import cv2_imshow\n",
        "import cv2 as cv"
      ],
      "metadata": {
        "id": "N1fZZNFriLdD"
      },
      "execution_count": 70,
      "outputs": []
    },
    {
      "cell_type": "markdown",
      "source": [
        "#Question1"
      ],
      "metadata": {
        "id": "bOWZ08VWp5tr"
      }
    },
    {
      "cell_type": "markdown",
      "source": [
        "#(a)"
      ],
      "metadata": {
        "id": "sEVrO5FLp-hL"
      }
    },
    {
      "cell_type": "code",
      "source": [
        "# open file\n",
        "file = tarfile.open('/content/drive/MyDrive/SML/cifar-10-python.tar.gz')\n",
        "# extract files\n",
        "file.extractall('Files')\n",
        "# close file\n",
        "file.close()"
      ],
      "metadata": {
        "id": "25USwaJki7-_"
      },
      "execution_count": 71,
      "outputs": []
    },
    {
      "cell_type": "code",
      "source": [
        "def unpickle(file):\n",
        "  with open(file, 'rb') as fo:\n",
        "    dict = pickle.load(fo, encoding='latin1')\n",
        "    return dict"
      ],
      "metadata": {
        "id": "KDM3O1M7klXE"
      },
      "execution_count": 72,
      "outputs": []
    },
    {
      "cell_type": "code",
      "source": [
        "def displayImage(image):\n",
        "  image = image.reshape(3,32,32)\n",
        "  image = image.transpose(1,2,0)\n",
        "  image = cv.cvtColor(image, cv.COLOR_BGR2RGB)\n",
        "  cv2_imshow(image)"
      ],
      "metadata": {
        "id": "EYY-eItLnGFV"
      },
      "execution_count": 73,
      "outputs": []
    },
    {
      "cell_type": "code",
      "source": [
        "def visualise(num):\n",
        "  path = '/content/Files/cifar-10-batches-py/data_batch_'\n",
        "  path += str(num)\n",
        "  print('data_batch_'+str(num))\n",
        "  data = unpickle(path)\n",
        "  for i in range(10):\n",
        "    print('Class: '+str(i))\n",
        "    count = 0\n",
        "    for j in range(len(data['labels'])):\n",
        "      if data['labels'][j]==i:\n",
        "        count += 1\n",
        "        displayImage(data['data'][j])\n",
        "        if count==5:\n",
        "          break"
      ],
      "metadata": {
        "id": "nvM4xIcqk8Ee"
      },
      "execution_count": 78,
      "outputs": []
    },
    {
      "cell_type": "code",
      "source": [
        "for i in range(5):\n",
        "  visualise(i+1)"
      ],
      "metadata": {
        "id": "XTXVpYnUoHms"
      },
      "execution_count": null,
      "outputs": []
    }
  ]
}