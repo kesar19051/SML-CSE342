{
  "nbformat": 4,
  "nbformat_minor": 0,
  "metadata": {
    "colab": {
      "name": "SML4.ipynb",
      "provenance": [],
      "toc_visible": true
    },
    "kernelspec": {
      "name": "python3",
      "display_name": "Python 3"
    },
    "language_info": {
      "name": "python"
    }
  },
  "cells": [
    {
      "cell_type": "code",
      "execution_count": 1,
      "metadata": {
        "colab": {
          "base_uri": "https://localhost:8080/"
        },
        "id": "2a11PvabsmFR",
        "outputId": "96ef1465-8e15-4a38-9f59-7a0cd8db360a"
      },
      "outputs": [
        {
          "output_type": "stream",
          "name": "stdout",
          "text": [
            "Mounted at /content/drive/\n"
          ]
        }
      ],
      "source": [
        "from google.colab import drive\n",
        "drive.mount('/content/drive/')"
      ]
    },
    {
      "cell_type": "code",
      "source": [
        "import pandas as pd\n",
        "import numpy as np\n",
        "import gzip\n",
        "from sklearn.tree import DecisionTreeClassifier\n",
        "import random\n",
        "import tensorflow as tf\n",
        "from keras.models import Sequential\n",
        "from keras.layers import Dense, Activation\n",
        "from keras import initializers\n",
        "from keras import optimizers\n",
        "from tensorflow.keras.utils import to_categorical\n",
        "import matplotlib.pyplot as plt\n",
        "import math"
      ],
      "metadata": {
        "id": "KTOD5K6ivxj0"
      },
      "execution_count": 2,
      "outputs": []
    },
    {
      "cell_type": "code",
      "source": [
        "def accuracy(pred, test):\n",
        "  length = len(pred)\n",
        "  num = 0\n",
        "  for i in range(length):\n",
        "    if pred[i]==test[i]:\n",
        "      num += 1\n",
        "  return num/(length*1.0)"
      ],
      "metadata": {
        "id": "Xl6tdA_7ZIYo"
      },
      "execution_count": 3,
      "outputs": []
    },
    {
      "cell_type": "markdown",
      "source": [
        "#Question 2"
      ],
      "metadata": {
        "id": "nwCqkAduRgmc"
      }
    },
    {
      "cell_type": "code",
      "source": [
        "df_train = pd.read_csv(\"/content/drive/MyDrive/SML/fminst/fashion-mnist_train.csv\")\n",
        "df_test = pd.read_csv(\"/content/drive/MyDrive/SML/fminst/fashion-mnist_test.csv\")"
      ],
      "metadata": {
        "id": "PaVsJVKxUnBQ"
      },
      "execution_count": null,
      "outputs": []
    },
    {
      "cell_type": "code",
      "source": [
        "X_train = df_train.loc[ : , df_train.columns != 'label']\n",
        "y_train = pd.DataFrame(df_train['label'])\n",
        "\n",
        "X_test = df_test.loc[ : , df_test.columns != 'label']\n",
        "y_test = pd.DataFrame(df_test['label'])"
      ],
      "metadata": {
        "id": "T_6FoyalAa63"
      },
      "execution_count": null,
      "outputs": []
    },
    {
      "cell_type": "code",
      "source": [
        "X_train = X_train.to_numpy()\n",
        "y_train = y_train.to_numpy()\n",
        "X_test = X_test.to_numpy()\n",
        "y_test = y_test.to_numpy()"
      ],
      "metadata": {
        "id": "_zBFwili8Z5y"
      },
      "execution_count": null,
      "outputs": []
    },
    {
      "cell_type": "code",
      "source": [
        "# X_train = X_train.reshape((60000,28,28))\n",
        "# X_train = X_train.reshape((-1,784))\n",
        "# y_train = y_train.reshape((60000,))"
      ],
      "metadata": {
        "id": "lTZ9pP7BDGw5"
      },
      "execution_count": null,
      "outputs": []
    },
    {
      "cell_type": "code",
      "source": [
        "model = Sequential()\n",
        "\n",
        "model.add(Dense(64, input_dim=784, trainable=True,activation='relu', use_bias=True, \n",
        "                kernel_initializer=initializers.he_normal(seed=None)))\n",
        "\n",
        "model.add(Dense(10, trainable=True, activation='softmax'))\n",
        "\n",
        "sgd = tf.keras.optimizers.SGD(learning_rate=0.01, momentum=0.9)\n",
        "\n",
        "model.compile(\n",
        "  optimizer=sgd,\n",
        "  loss='categorical_crossentropy',\n",
        "  metrics=['accuracy'],\n",
        ")\n",
        "\n",
        "model.summary()"
      ],
      "metadata": {
        "id": "xtsVwPCWWA47"
      },
      "execution_count": null,
      "outputs": []
    },
    {
      "cell_type": "code",
      "source": [
        "history = model.fit(X_train, to_categorical(y_train), batch_size=512, epochs=30)"
      ],
      "metadata": {
        "id": "LwVSB2EQ5CV6"
      },
      "execution_count": null,
      "outputs": []
    },
    {
      "cell_type": "code",
      "source": [
        "x_axis = []\n",
        "y_axis = []\n",
        "\n",
        "for i in range(len(history.history['loss'])):\n",
        "  x_axis.append(i)\n",
        "  y_axis.append(history.history['loss'][i])\n",
        "\n",
        "plt.plot(x_axis, y_axis)\n",
        "plt.xlabel('Number of Epoch')\n",
        "plt.ylabel('Training Loss')\n",
        "plt.show()"
      ],
      "metadata": {
        "colab": {
          "base_uri": "https://localhost:8080/",
          "height": 282
        },
        "id": "9wxHO4wdUcMD",
        "outputId": "7c5372a7-50ad-44cc-e058-189b74c9e089"
      },
      "execution_count": null,
      "outputs": [
        {
          "output_type": "display_data",
          "data": {
            "text/plain": [
              "<Figure size 432x288 with 1 Axes>"
            ],
            "image/png": "[encoded data removed]"
          },
          "metadata": {
            "needs_background": "light"
          }
        }
      ]
    },
    {
      "cell_type": "code",
      "source": [
        "predictions = model.predict(X_test)\n",
        "y_pred = np.argmax(predictions, axis=1)\n",
        "y_pred = list(y_pred)\n",
        "y_test = y_test.reshape(10000,)\n",
        "y_test = list(y_test)"
      ],
      "metadata": {
        "id": "PflMkA4nYBwM"
      },
      "execution_count": null,
      "outputs": []
    },
    {
      "cell_type": "code",
      "source": [
        "print(accuracy(y_pred, y_test))"
      ],
      "metadata": {
        "colab": {
          "base_uri": "https://localhost:8080/"
        },
        "id": "pV_rO18EeFtU",
        "outputId": "48bbf641-02fe-449c-97c5-1e48452617ba"
      },
      "execution_count": null,
      "outputs": [
        {
          "output_type": "stream",
          "name": "stdout",
          "text": [
            "0.1001\n"
          ]
        }
      ]
    },
    {
      "cell_type": "code",
      "source": [
        "def images_file_read(file_name):\n",
        "    with gzip.open(file_name, 'r') as f:\n",
        "        # first 4 bytes is a magic number\n",
        "        magic_number = int.from_bytes(f.read(4), 'big')\n",
        "        # second 4 bytes is the number of images\n",
        "        image_count = int.from_bytes(f.read(4), 'big')\n",
        "        # third 4 bytes is the row count\n",
        "        row_count = int.from_bytes(f.read(4), 'big')\n",
        "        # fourth 4 bytes is the column count\n",
        "        column_count = int.from_bytes(f.read(4), 'big')\n",
        "        # rest is the image pixel data, each pixel is stored as an unsigned byte\n",
        "        # pixel values are 0 to 255\n",
        "        image_data = f.read()\n",
        "        images = np.frombuffer(image_data, dtype=np.uint8)\\\n",
        "            .reshape((image_count, row_count, column_count))\n",
        "        return images\n",
        "def labels_file_read(file_name):\n",
        "    with gzip.open(file_name, 'r') as f:\n",
        "        # first 4 bytes is a magic number\n",
        "        magic_number = int.from_bytes(f.read(4), 'big')\n",
        "        # second 4 bytes is the number of labels\n",
        "        label_count = int.from_bytes(f.read(4), 'big')\n",
        "        # rest is the label data, each label is stored as unsigned byte\n",
        "        # label values are 0 to 9\n",
        "        label_data = f.read()\n",
        "        labels = np.frombuffer(label_data, dtype=np.uint8)\n",
        "        return labels"
      ],
      "metadata": {
        "id": "vjYMHccYurHI"
      },
      "execution_count": 6,
      "outputs": []
    },
    {
      "cell_type": "markdown",
      "source": [
        "#Question 4"
      ],
      "metadata": {
        "id": "WovTQ2ndwFYh"
      }
    },
    {
      "cell_type": "code",
      "source": [
        "X_train = images_file_read(\"/content/drive/MyDrive/SML/mnist/train-images-idx3-ubyte.gz\")\n",
        "print(X_train.shape)\n",
        "y_train = labels_file_read(\"/content/drive/MyDrive/SML/mnist/train-labels-idx1-ubyte.gz\")\n",
        "X_test = images_file_read(\"/content/drive/MyDrive/SML/mnist/t10k-images-idx3-ubyte.gz\")\n",
        "print(X_test.shape)\n",
        "y_test = labels_file_read(\"/content/drive/MyDrive/SML/mnist/t10k-labels-idx1-ubyte.gz\")"
      ],
      "metadata": {
        "colab": {
          "base_uri": "https://localhost:8080/"
        },
        "id": "Ee_KiSKtsOI2",
        "outputId": "499cba62-2e32-40db-e034-ddc24b2ccea5"
      },
      "execution_count": 7,
      "outputs": [
        {
          "output_type": "stream",
          "name": "stdout",
          "text": [
            "(60000, 28, 28)\n",
            "(10000, 28, 28)\n"
          ]
        }
      ]
    },
    {
      "cell_type": "code",
      "source": [
        "X_train = X_train.reshape(60000,28*28)\n",
        "X_test = X_test.reshape(10000,28*28)"
      ],
      "metadata": {
        "id": "KAjUs0cGvfAo"
      },
      "execution_count": 8,
      "outputs": []
    },
    {
      "cell_type": "code",
      "source": [
        "dataset1 = np.zeros((60000,28*28))\n",
        "y1 = []\n",
        "\n",
        "dataset2 = np.zeros((60000,28*28))\n",
        "y2 = []\n",
        "\n",
        "dataset3 = np.zeros((60000,28*28))\n",
        "y3 = []\n",
        "\n",
        "notVal1 = []\n",
        "notVal2 = []\n",
        "notVal3 = []"
      ],
      "metadata": {
        "id": "gzDmG81dzPkp"
      },
      "execution_count": 9,
      "outputs": []
    },
    {
      "cell_type": "code",
      "source": [
        "for i in range(60000):\n",
        "\n",
        "  index1 = random.randint(0,59999)\n",
        "  if index1 not in notVal1:\n",
        "    notVal1.append(index1)\n",
        "\n",
        "  index2 = random.randint(0,59999)\n",
        "  if index2 not in notVal2:\n",
        "    notVal2.append(index2)\n",
        "\n",
        "  index3 = random.randint(0,59999)\n",
        "  if index3 not in notVal3:\n",
        "    notVal3.append(index3)\n",
        "\n",
        "  dataset1[i] = X_train[index1]\n",
        "  y1.append(y_train[index1])\n",
        "\n",
        "  dataset2[i] = X_train[index2]\n",
        "  y2.append(y_train[index2])\n",
        "\n",
        "  dataset3[i] = X_train[index3]\n",
        "  y3.append(y_train[index3])\n",
        "\n",
        "val1 = np.zeros((60000-len(notVal1),28*28))\n",
        "y_val1 = []\n",
        "\n",
        "val2 = np.zeros((60000-len(notVal2),28*28))\n",
        "y_val2 = []\n",
        "\n",
        "val3 = np.zeros((60000-len(notVal3),28*28))\n",
        "y_val3 = []\n",
        "\n",
        "j1 = 0\n",
        "j2 = 0\n",
        "j3 = 0\n",
        "\n",
        "for i in range(60000):\n",
        "\n",
        "  if i not in notVal1 and j1<60000-len(notVal1):\n",
        "    val1[j1] = X_train[i]\n",
        "    y_val1.append(y_train[i])\n",
        "    j1 += 1\n",
        "\n",
        "  if i not in notVal2 and j2<60000-len(notVal2):\n",
        "    val2[j2] = X_train[i]\n",
        "    y_val2.append(y_train[i])\n",
        "    j2 += 1\n",
        "\n",
        "  if i not in notVal3 and j3<60000-len(notVal3):\n",
        "    val3[j3] = X_train[i]\n",
        "    y_val3.append(y_train[i])\n",
        "    j3 += 1"
      ],
      "metadata": {
        "id": "SpQONpqLzbIo"
      },
      "execution_count": 10,
      "outputs": []
    },
    {
      "cell_type": "code",
      "source": [
        "print(val1.shape)\n",
        "print(val2.shape)\n",
        "print(val3.shape)\n",
        "print(len(notVal1))\n",
        "print(len(notVal2))\n",
        "print(len(notVal3))"
      ],
      "metadata": {
        "colab": {
          "base_uri": "https://localhost:8080/"
        },
        "id": "bIwQD8ZmFrFw",
        "outputId": "cb470d4e-aa7f-48b7-c1f8-639e2839811d"
      },
      "execution_count": 11,
      "outputs": [
        {
          "output_type": "stream",
          "name": "stdout",
          "text": [
            "(22099, 784)\n",
            "(22131, 784)\n",
            "(21980, 784)\n",
            "37901\n",
            "37869\n",
            "38020\n"
          ]
        }
      ]
    },
    {
      "cell_type": "markdown",
      "source": [
        "3 Decision Trees have to be made."
      ],
      "metadata": {
        "id": "VNXxTQNjx9Bv"
      }
    },
    {
      "cell_type": "code",
      "source": [
        "clf1 = DecisionTreeClassifier()\n",
        "clf1 = clf1.fit(dataset1,y1)\n",
        "\n",
        "clf2 = DecisionTreeClassifier()\n",
        "clf2 = clf2.fit(dataset2,y2)\n",
        "\n",
        "clf3 = DecisionTreeClassifier()\n",
        "clf3 = clf3.fit(dataset3,y3)"
      ],
      "metadata": {
        "id": "v6eAtHRSyx38"
      },
      "execution_count": 12,
      "outputs": []
    },
    {
      "cell_type": "code",
      "source": [
        "y_pred1 = clf1.predict(X_test)\n",
        "y_pred2 = clf2.predict(X_test)\n",
        "y_pred3 = clf3.predict(X_test)"
      ],
      "metadata": {
        "id": "Ke5VfNcoNSUs"
      },
      "execution_count": 13,
      "outputs": []
    },
    {
      "cell_type": "code",
      "source": [
        "num = 0\n",
        "\n",
        "for i in range(len(y_test)):\n",
        "\n",
        "  a = y_pred1[i]\n",
        "  b = y_pred2[i]\n",
        "  c = y_pred3[i]\n",
        "\n",
        "  ans = y_test[i]\n",
        "\n",
        "  if a==b and b==c:\n",
        "    if a==ans:\n",
        "      num += 1\n",
        "  elif a==b and b!=c:\n",
        "    if a==ans:\n",
        "      num += 1\n",
        "  elif b==c and c!=a:\n",
        "    if b==ans:\n",
        "      num += 1\n",
        "  elif c==a and a!=b:\n",
        "    if c==ans:\n",
        "      num += 1\n",
        "  else:\n",
        "    if a==ans:\n",
        "      num += 1\n",
        "\n",
        "num = num*1.0\n",
        "\n",
        "print('Accuracy= ', num/len(y_test))"
      ],
      "metadata": {
        "colab": {
          "base_uri": "https://localhost:8080/"
        },
        "id": "8weYTKZF8w9X",
        "outputId": "9b58139a-5889-4973-a20d-6b958320ce83"
      },
      "execution_count": 16,
      "outputs": [
        {
          "output_type": "stream",
          "name": "stdout",
          "text": [
            "Accuracy=  0.9018\n"
          ]
        }
      ]
    }
  ]
}