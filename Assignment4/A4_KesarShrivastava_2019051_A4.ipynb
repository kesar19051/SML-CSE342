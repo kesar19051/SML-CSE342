{
  "nbformat": 4,
  "nbformat_minor": 0,
  "metadata": {
    "colab": {
      "name": "SML4.ipynb",
      "provenance": [],
      "toc_visible": true
    },
    "kernelspec": {
      "name": "python3",
      "display_name": "Python 3"
    },
    "language_info": {
      "name": "python"
    }
  },
  "cells": [
    {
      "cell_type": "code",
      "execution_count": 1,
      "metadata": {
        "colab": {
          "base_uri": "https://localhost:8080/"
        },
        "id": "2a11PvabsmFR",
        "outputId": "f141546f-a6a4-43fd-fb03-7ea9401ff341"
      },
      "outputs": [
        {
          "output_type": "stream",
          "name": "stdout",
          "text": [
            "Mounted at /content/drive/\n"
          ]
        }
      ],
      "source": [
        "from google.colab import drive\n",
        "drive.mount('/content/drive/')"
      ]
    },
    {
      "cell_type": "code",
      "source": [
        "import pandas as pd\n",
        "import numpy as np\n",
        "import gzip\n",
        "from sklearn.tree import DecisionTreeClassifier\n",
        "from sklearn.tree import DecisionTreeRegressor\n",
        "import random\n",
        "import tensorflow as tf\n",
        "from keras.models import Sequential\n",
        "from keras.models import load_model\n",
        "from keras.layers import Dropout\n",
        "from keras.layers import Dense, Activation\n",
        "from tensorflow.keras.layers import BatchNormalization\n",
        "from keras import initializers\n",
        "from keras import optimizers\n",
        "from tensorflow.keras.utils import to_categorical\n",
        "from sklearn.metrics import accuracy_score\n",
        "import matplotlib.pyplot as plt\n",
        "import math\n",
        "import torch"
      ],
      "metadata": {
        "id": "KTOD5K6ivxj0"
      },
      "execution_count": 101,
      "outputs": []
    },
    {
      "cell_type": "code",
      "source": [
        "def accuracy(pred, test):\n",
        "  length = len(pred)\n",
        "  num = 0\n",
        "  for i in range(length):\n",
        "    if pred[i]==test[i]:\n",
        "      num += 1\n",
        "  return num/(length*1.0)"
      ],
      "metadata": {
        "id": "Xl6tdA_7ZIYo"
      },
      "execution_count": 3,
      "outputs": []
    },
    {
      "cell_type": "code",
      "source": [
        "def classWiseAccuracy(y_t,y_p):\n",
        "  pred = []\n",
        "  test = []\n",
        "  for i in range(10):\n",
        "    pred.append([])\n",
        "    test.append([])\n",
        "\n",
        "  for i in range(len(y_p)):\n",
        "    cls = y_t[i]\n",
        "    pred[cls].append(y_t[i])\n",
        "    test[cls].append(y_p[i])\n",
        "\n",
        "  for i in range(10):\n",
        "    print('Class'+str(i), end = ' ')\n",
        "    print(accuracy_score(test[i],pred[i]))"
      ],
      "metadata": {
        "id": "2LhS9eKE2iQv"
      },
      "execution_count": 152,
      "outputs": []
    },
    {
      "cell_type": "code",
      "source": [
        "def images_file_read(file_name):\n",
        "    with gzip.open(file_name, 'r') as f:\n",
        "        # first 4 bytes is a magic number\n",
        "        magic_number = int.from_bytes(f.read(4), 'big')\n",
        "        # second 4 bytes is the number of images\n",
        "        image_count = int.from_bytes(f.read(4), 'big')\n",
        "        # third 4 bytes is the row count\n",
        "        row_count = int.from_bytes(f.read(4), 'big')\n",
        "        # fourth 4 bytes is the column count\n",
        "        column_count = int.from_bytes(f.read(4), 'big')\n",
        "        # rest is the image pixel data, each pixel is stored as an unsigned byte\n",
        "        # pixel values are 0 to 255\n",
        "        image_data = f.read()\n",
        "        images = np.frombuffer(image_data, dtype=np.uint8)\\\n",
        "            .reshape((image_count, row_count, column_count))\n",
        "        return images\n",
        "def labels_file_read(file_name):\n",
        "    with gzip.open(file_name, 'r') as f:\n",
        "        # first 4 bytes is a magic number\n",
        "        magic_number = int.from_bytes(f.read(4), 'big')\n",
        "        # second 4 bytes is the number of labels\n",
        "        label_count = int.from_bytes(f.read(4), 'big')\n",
        "        # rest is the label data, each label is stored as unsigned byte\n",
        "        # label values are 0 to 9\n",
        "        label_data = f.read()\n",
        "        labels = np.frombuffer(label_data, dtype=np.uint8)\n",
        "        return labels"
      ],
      "metadata": {
        "id": "vjYMHccYurHI"
      },
      "execution_count": 4,
      "outputs": []
    },
    {
      "cell_type": "markdown",
      "source": [
        "#Question 1"
      ],
      "metadata": {
        "id": "yxPPD2V_CWCu"
      }
    },
    {
      "cell_type": "code",
      "source": [
        "X_train = images_file_read(\"/content/drive/MyDrive/SML/mnist/train-images-idx3-ubyte.gz\")\n",
        "print(X_train.shape)\n",
        "y_train = labels_file_read(\"/content/drive/MyDrive/SML/mnist/train-labels-idx1-ubyte.gz\")\n",
        "X_test = images_file_read(\"/content/drive/MyDrive/SML/mnist/t10k-images-idx3-ubyte.gz\")\n",
        "print(X_test.shape)\n",
        "y_test = labels_file_read(\"/content/drive/MyDrive/SML/mnist/t10k-labels-idx1-ubyte.gz\")\n",
        "# y_test = list(y_test)\n",
        "\n",
        "X_train = X_train.reshape(60000,28*28)\n",
        "X_test = X_test.reshape(10000,28*28)"
      ],
      "metadata": {
        "colab": {
          "base_uri": "https://localhost:8080/"
        },
        "id": "Nxr5Z-IvCXyD",
        "outputId": "1fa0544e-87b2-401b-8eec-cfd76d523d60"
      },
      "execution_count": 146,
      "outputs": [
        {
          "output_type": "stream",
          "name": "stdout",
          "text": [
            "(60000, 28, 28)\n",
            "(10000, 28, 28)\n"
          ]
        }
      ]
    },
    {
      "cell_type": "code",
      "source": [
        "iterations = 5\n",
        "learning_rate = 0.1\n",
        "trees = []"
      ],
      "metadata": {
        "id": "3YUdOyMsuQc0"
      },
      "execution_count": 147,
      "outputs": []
    },
    {
      "cell_type": "code",
      "source": [
        "# F0 = y_train.mean()\n",
        "# Fm = F0\n",
        "# trees = []\n",
        "# for _ in range(5):\n",
        "#     tree = DecisionTreeRegressor()\n",
        "#     tree.fit(X_train, y_train - Fm)\n",
        "#     Fm += learning_rate * tree.predict(X_train)\n",
        "#     trees.append(tree)\n",
        "# final_prediction = F0 + learning_rate * np.sum([t.predict(X_train) for t in trees], axis=0)\n",
        "# print(final_prediction)\n",
        "# for i in range(len(final_prediction)):\n",
        "#   final_prediction[i] = round(final_prediction[i])\n",
        "# print(accuracy(list(final_prediction), list(y_train)))"
      ],
      "metadata": {
        "id": "nZZNfet26P8y"
      },
      "execution_count": null,
      "outputs": []
    },
    {
      "cell_type": "code",
      "source": [
        "# base_model = DecisionTreeRegressor(max_depth = 1)\n",
        "# base_model = base_model.fit(X_train, y_train)\n",
        "# prediction = base_model.predict(X_train)\n",
        "# trees.append(base_model)"
      ],
      "metadata": {
        "id": "f3ZkQ9C35_Qz"
      },
      "execution_count": 71,
      "outputs": []
    },
    {
      "cell_type": "code",
      "source": [
        "prediction = 0"
      ],
      "metadata": {
        "id": "awsWtPIvwzaf"
      },
      "execution_count": 148,
      "outputs": []
    },
    {
      "cell_type": "code",
      "source": [
        "for i in range(iterations):\n",
        "  residue = y_train-(learning_rate*prediction)\n",
        "  print(residue)\n",
        "  model = DecisionTreeRegressor(max_depth=1)\n",
        "  model = model.fit(X_train, residue)\n",
        "  prediction = model.predict(X_train)\n",
        "  trees.append(model)"
      ],
      "metadata": {
        "id": "nU4IYKhy7rtW",
        "colab": {
          "base_uri": "https://localhost:8080/"
        },
        "outputId": "c0b854e7-dd78-4e5a-a7f1-d5a758adc004"
      },
      "execution_count": 149,
      "outputs": [
        {
          "output_type": "stream",
          "name": "stdout",
          "text": [
            "[5. 0. 4. ... 5. 6. 8.]\n",
            "[ 4.46328627 -0.26254691  3.46328627 ...  4.46328627  5.46328627\n",
            "  7.46328627]\n",
            "[ 4.51695764 -0.23629222  3.51695764 ...  4.51695764  5.51695764\n",
            "  7.51695764]\n",
            "[ 4.5115905  -0.23891769  3.5115905  ...  4.5115905   5.5115905\n",
            "  7.5115905 ]\n",
            "[ 4.51212722 -0.23865514  3.51212722 ...  4.51212722  5.51212722\n",
            "  7.51212722]\n"
          ]
        }
      ]
    },
    {
      "cell_type": "code",
      "source": [
        "# y_train"
      ],
      "metadata": {
        "colab": {
          "base_uri": "https://localhost:8080/"
        },
        "id": "JBdV0q-HF7lA",
        "outputId": "2e138b8c-dcf8-4d5b-abe8-8228b9761e8c"
      },
      "execution_count": null,
      "outputs": [
        {
          "output_type": "execute_result",
          "data": {
            "text/plain": [
              "array([5, 0, 4, ..., 5, 6, 8], dtype=uint8)"
            ]
          },
          "metadata": {},
          "execution_count": 111
        }
      ]
    },
    {
      "cell_type": "code",
      "source": [
        "final_prediction = learning_rate * np.sum([t.predict(X_train) for t in trees], axis=0)\n",
        "for i in range(len(final_prediction)):\n",
        "  final_prediction[i] = round(final_prediction[i])\n",
        "print('Training accuracy:', accuracy(list(final_prediction), list(y_train)))"
      ],
      "metadata": {
        "colab": {
          "base_uri": "https://localhost:8080/"
        },
        "id": "kM4r9d7RERTt",
        "outputId": "792ca7f1-e1e7-4aa7-8be5-bb7e3b2ea89a"
      },
      "execution_count": 150,
      "outputs": [
        {
          "output_type": "stream",
          "name": "stdout",
          "text": [
            "Training accuracy: 0.17033333333333334\n"
          ]
        }
      ]
    },
    {
      "cell_type": "code",
      "source": [
        "test = learning_rate*np.sum([t.predict(X_test) for t in trees], axis=0)\n",
        "# print(test)\n",
        "for i in range(len(test)):\n",
        "  test[i] = round(test[i])\n",
        "print('Testing accuracy:', accuracy(list(test), list(y_test)))"
      ],
      "metadata": {
        "colab": {
          "base_uri": "https://localhost:8080/"
        },
        "id": "ENqG5dqQE28C",
        "outputId": "224b9f57-55ca-49af-cfe3-6e61f13f3740"
      },
      "execution_count": 151,
      "outputs": [
        {
          "output_type": "stream",
          "name": "stdout",
          "text": [
            "Testing accuracy: 0.1706\n"
          ]
        }
      ]
    },
    {
      "cell_type": "markdown",
      "source": [
        "#Question 2"
      ],
      "metadata": {
        "id": "nwCqkAduRgmc"
      }
    },
    {
      "cell_type": "code",
      "source": [
        "df_train = pd.read_csv(\"/content/drive/MyDrive/SML/fminst/fashion-mnist_train.csv\")\n",
        "df_test = pd.read_csv(\"/content/drive/MyDrive/SML/fminst/fashion-mnist_test.csv\")"
      ],
      "metadata": {
        "id": "PaVsJVKxUnBQ"
      },
      "execution_count": 104,
      "outputs": []
    },
    {
      "cell_type": "code",
      "source": [
        "X_train = df_train.loc[ : , df_train.columns != 'label']\n",
        "y_train = pd.DataFrame(df_train['label'])\n",
        "\n",
        "X_test = df_test.loc[ : , df_test.columns != 'label']\n",
        "y_test = pd.DataFrame(df_test['label'])"
      ],
      "metadata": {
        "id": "T_6FoyalAa63"
      },
      "execution_count": 105,
      "outputs": []
    },
    {
      "cell_type": "code",
      "source": [
        "X_train = X_train.to_numpy()\n",
        "y_train = y_train.to_numpy()\n",
        "X_test = X_test.to_numpy()\n",
        "y_test = y_test.to_numpy()"
      ],
      "metadata": {
        "id": "_zBFwili8Z5y"
      },
      "execution_count": 106,
      "outputs": []
    },
    {
      "cell_type": "code",
      "source": [
        "model = Sequential()\n",
        "\n",
        "model.add(Dense(512, input_dim=784, trainable=True,activation='sigmoid', use_bias=True, \n",
        "                kernel_initializer=initializers.he_normal(seed=None)))\n",
        "\n",
        "model.add(Dense(128, input_dim=512, trainable=True,activation='sigmoid', use_bias=True, \n",
        "                kernel_initializer=initializers.he_normal(seed=None)))\n",
        "\n",
        "model.add(Dense(64, input_dim=128, trainable=True,activation='sigmoid', use_bias=True, \n",
        "                kernel_initializer=initializers.he_normal(seed=None)))\n",
        "\n",
        "model.add(Dense(32, input_dim=128, trainable=True,activation='sigmoid', use_bias=True, \n",
        "                kernel_initializer=initializers.he_normal(seed=None)))\n",
        "\n",
        "model.add(Dense(10, input_dim=32, trainable=True,activation='softmax', use_bias=True, \n",
        "                kernel_initializer=initializers.he_normal(seed=None)))\n",
        "\n",
        "sgd = tf.keras.optimizers.SGD(learning_rate=0.01, momentum=0.9)\n",
        "\n",
        "model.compile(\n",
        "  optimizer=sgd,\n",
        "  loss='categorical_crossentropy',\n",
        "  metrics=['accuracy'],\n",
        ")\n",
        "\n",
        "model.summary()"
      ],
      "metadata": {
        "id": "xtsVwPCWWA47",
        "colab": {
          "base_uri": "https://localhost:8080/"
        },
        "outputId": "49149c5a-f18d-4489-a610-e9d424fc4a30"
      },
      "execution_count": 107,
      "outputs": [
        {
          "output_type": "stream",
          "name": "stdout",
          "text": [
            "Model: \"sequential_17\"\n",
            "_________________________________________________________________\n",
            " Layer (type)                Output Shape              Param #   \n",
            "=================================================================\n",
            " dense_86 (Dense)            (None, 512)               401920    \n",
            "                                                                 \n",
            " dense_87 (Dense)            (None, 128)               65664     \n",
            "                                                                 \n",
            " dense_88 (Dense)            (None, 64)                8256      \n",
            "                                                                 \n",
            " dense_89 (Dense)            (None, 32)                2080      \n",
            "                                                                 \n",
            " dense_90 (Dense)            (None, 10)                330       \n",
            "                                                                 \n",
            "=================================================================\n",
            "Total params: 478,250\n",
            "Trainable params: 478,250\n",
            "Non-trainable params: 0\n",
            "_________________________________________________________________\n"
          ]
        }
      ]
    },
    {
      "cell_type": "code",
      "source": [
        "history = model.fit(X_train, to_categorical(y_train), batch_size=700, epochs=28) #batch sie = 700"
      ],
      "metadata": {
        "id": "LwVSB2EQ5CV6",
        "colab": {
          "base_uri": "https://localhost:8080/"
        },
        "outputId": "dc915ec1-d623-4eac-ffb5-07df7cf932a2"
      },
      "execution_count": 108,
      "outputs": [
        {
          "output_type": "stream",
          "name": "stdout",
          "text": [
            "Epoch 1/28\n",
            "86/86 [==============================] - 4s 36ms/step - loss: 2.2941 - accuracy: 0.2290\n",
            "Epoch 2/28\n",
            "86/86 [==============================] - 3s 36ms/step - loss: 2.1742 - accuracy: 0.3734\n",
            "Epoch 3/28\n",
            "86/86 [==============================] - 3s 36ms/step - loss: 1.9361 - accuracy: 0.4103\n",
            "Epoch 4/28\n",
            "86/86 [==============================] - 3s 36ms/step - loss: 1.6981 - accuracy: 0.5179\n",
            "Epoch 5/28\n",
            "86/86 [==============================] - 3s 36ms/step - loss: 1.5486 - accuracy: 0.5826\n",
            "Epoch 6/28\n",
            "86/86 [==============================] - 3s 35ms/step - loss: 1.4092 - accuracy: 0.6222\n",
            "Epoch 7/28\n",
            "86/86 [==============================] - 3s 35ms/step - loss: 1.2755 - accuracy: 0.6296\n",
            "Epoch 8/28\n",
            "86/86 [==============================] - 3s 35ms/step - loss: 1.1569 - accuracy: 0.6324\n",
            "Epoch 9/28\n",
            "86/86 [==============================] - 3s 36ms/step - loss: 1.0529 - accuracy: 0.6593\n",
            "Epoch 10/28\n",
            "86/86 [==============================] - 3s 36ms/step - loss: 0.9649 - accuracy: 0.6910\n",
            "Epoch 11/28\n",
            "86/86 [==============================] - 3s 35ms/step - loss: 0.8892 - accuracy: 0.7158\n",
            "Epoch 12/28\n",
            "86/86 [==============================] - 3s 35ms/step - loss: 0.8259 - accuracy: 0.7358\n",
            "Epoch 13/28\n",
            "86/86 [==============================] - 4s 46ms/step - loss: 0.7713 - accuracy: 0.7541\n",
            "Epoch 14/28\n",
            "86/86 [==============================] - 3s 36ms/step - loss: 0.7261 - accuracy: 0.7689\n",
            "Epoch 15/28\n",
            "86/86 [==============================] - 3s 36ms/step - loss: 0.6876 - accuracy: 0.7815\n",
            "Epoch 16/28\n",
            "86/86 [==============================] - 4s 47ms/step - loss: 0.6547 - accuracy: 0.7927\n",
            "Epoch 17/28\n",
            "86/86 [==============================] - 3s 35ms/step - loss: 0.6245 - accuracy: 0.8016\n",
            "Epoch 18/28\n",
            "86/86 [==============================] - 3s 36ms/step - loss: 0.5981 - accuracy: 0.8116\n",
            "Epoch 19/28\n",
            "86/86 [==============================] - 3s 36ms/step - loss: 0.5783 - accuracy: 0.8164\n",
            "Epoch 20/28\n",
            "86/86 [==============================] - 3s 36ms/step - loss: 0.5644 - accuracy: 0.8228\n",
            "Epoch 21/28\n",
            "86/86 [==============================] - 3s 36ms/step - loss: 0.5475 - accuracy: 0.8251\n",
            "Epoch 22/28\n",
            "86/86 [==============================] - 3s 36ms/step - loss: 0.5371 - accuracy: 0.8274\n",
            "Epoch 23/28\n",
            "86/86 [==============================] - 3s 36ms/step - loss: 0.5262 - accuracy: 0.8304\n",
            "Epoch 24/28\n",
            "86/86 [==============================] - 3s 36ms/step - loss: 0.5179 - accuracy: 0.8318\n",
            "Epoch 25/28\n",
            "86/86 [==============================] - 3s 36ms/step - loss: 0.5102 - accuracy: 0.8355\n",
            "Epoch 26/28\n",
            "86/86 [==============================] - 3s 36ms/step - loss: 0.5036 - accuracy: 0.8355\n",
            "Epoch 27/28\n",
            "86/86 [==============================] - 3s 35ms/step - loss: 0.4976 - accuracy: 0.8364\n",
            "Epoch 28/28\n",
            "86/86 [==============================] - 3s 37ms/step - loss: 0.4974 - accuracy: 0.8356\n"
          ]
        }
      ]
    },
    {
      "cell_type": "code",
      "source": [
        "x_axis = []\n",
        "y_axis = []\n",
        "\n",
        "for i in range(len(history.history['loss'])):\n",
        "  x_axis.append(i)\n",
        "  y_axis.append(history.history['loss'][i])\n",
        "\n",
        "plt.plot(x_axis, y_axis)\n",
        "plt.title('Epoch wise training loss')\n",
        "plt.xlabel('Number of Epoch')\n",
        "plt.ylabel('Training Loss')\n",
        "plt.show()"
      ],
      "metadata": {
        "colab": {
          "base_uri": "https://localhost:8080/",
          "height": 295
        },
        "id": "9wxHO4wdUcMD",
        "outputId": "5c6cf25c-a3c3-4574-ba00-45e1ff0ea961"
      },
      "execution_count": 109,
      "outputs": [
        {
          "output_type": "display_data",
          "data": {
            "text/plain": [
              "<Figure size 432x288 with 1 Axes>"
            ],
            "image/png": "[encoded data removed]"
          },
          "metadata": {
            "needs_background": "light"
          }
        }
      ]
    },
    {
      "cell_type": "code",
      "source": [
        "predictions = model.predict(X_test)\n",
        "y_pred = np.argmax(predictions, axis=1)\n",
        "y_pred = list(y_pred)\n",
        "y_test = y_test.reshape(10000,)\n",
        "y_test = list(y_test)"
      ],
      "metadata": {
        "id": "PflMkA4nYBwM"
      },
      "execution_count": 110,
      "outputs": []
    },
    {
      "cell_type": "code",
      "source": [
        "print('Accuracy: ', accuracy(y_pred, y_test))"
      ],
      "metadata": {
        "colab": {
          "base_uri": "https://localhost:8080/"
        },
        "id": "pV_rO18EeFtU",
        "outputId": "0471f6c4-ef47-40ef-9cd4-cf8f6041a25e"
      },
      "execution_count": 111,
      "outputs": [
        {
          "output_type": "stream",
          "name": "stdout",
          "text": [
            "Accuracy:  0.8203\n"
          ]
        }
      ]
    },
    {
      "cell_type": "code",
      "source": [
        "classWiseAccuracy(y_test,y_pred)"
      ],
      "metadata": {
        "colab": {
          "base_uri": "https://localhost:8080/"
        },
        "id": "ddxZDL6I1W33",
        "outputId": "125711f9-d62a-40ba-8e92-6ebc3e9575a8"
      },
      "execution_count": 112,
      "outputs": [
        {
          "output_type": "stream",
          "name": "stdout",
          "text": [
            "Class0 0.809\n",
            "Class1 0.939\n",
            "Class2 0.734\n",
            "Class3 0.848\n",
            "Class4 0.63\n",
            "Class5 0.878\n",
            "Class6 0.582\n",
            "Class7 0.871\n",
            "Class8 0.946\n",
            "Class9 0.966\n"
          ]
        }
      ]
    },
    {
      "cell_type": "markdown",
      "source": [
        "#Question 3"
      ],
      "metadata": {
        "id": "6wFZ6mntJv5U"
      }
    },
    {
      "cell_type": "code",
      "source": [
        "X_train = images_file_read(\"/content/drive/MyDrive/SML/mnist/train-images-idx3-ubyte.gz\")\n",
        "# X_train = (X_train/255)-0.5\n",
        "print(X_train.shape)\n",
        "y_train = labels_file_read(\"/content/drive/MyDrive/SML/mnist/train-labels-idx1-ubyte.gz\")\n",
        "X_test = images_file_read(\"/content/drive/MyDrive/SML/mnist/t10k-images-idx3-ubyte.gz\")\n",
        "# X_test = (X_test/255)-0.5\n",
        "print(X_test.shape)\n",
        "y_test = labels_file_read(\"/content/drive/MyDrive/SML/mnist/t10k-labels-idx1-ubyte.gz\")"
      ],
      "metadata": {
        "colab": {
          "base_uri": "https://localhost:8080/"
        },
        "outputId": "0c6e5b33-5bc1-4790-e29c-f77224ff6617",
        "id": "9t0pASqAUHtH"
      },
      "execution_count": 113,
      "outputs": [
        {
          "output_type": "stream",
          "name": "stdout",
          "text": [
            "(60000, 28, 28)\n",
            "(10000, 28, 28)\n"
          ]
        }
      ]
    },
    {
      "cell_type": "code",
      "source": [
        "X_train = X_train.reshape(60000,28*28)\n",
        "X_test = X_test.reshape(10000,28*28)"
      ],
      "metadata": {
        "id": "ZjlL56vmUHtN"
      },
      "execution_count": 114,
      "outputs": []
    },
    {
      "cell_type": "code",
      "source": [
        "model = Sequential()\n",
        "\n",
        "model.add(Dense(512, input_dim=784, activation='relu', trainable=True, use_bias=True)) #trainable=true #use_bias=true\n",
        "\n",
        "model.add(Dense(128, input_dim=512, activation='relu', trainable=True, use_bias=True))\n",
        "\n",
        "model.add(Dense(64, input_dim=128, activation='relu', trainable=True, use_bias=True))\n",
        "\n",
        "model.add(Dense(128, input_dim=64, activation='relu', trainable=True, use_bias=True))\n",
        "\n",
        "model.add(Dense(512, input_dim=128, activation='relu', trainable=True, use_bias=True))\n",
        "\n",
        "model.add(Dense(784, input_dim=512, activation='relu', trainable=True, use_bias=True))\n",
        "\n",
        "adam = tf.keras.optimizers.Adam(learning_rate=0.001) #learning_rate=0.001\n",
        "\n",
        "model.compile(\n",
        "  optimizer=adam,\n",
        "  loss='mean_squared_error',\n",
        "  metrics=['accuracy']\n",
        ")\n",
        "\n",
        "model.summary()"
      ],
      "metadata": {
        "colab": {
          "base_uri": "https://localhost:8080/"
        },
        "id": "2WLuIcP9JxiP",
        "outputId": "8ce4adf8-26b5-4d61-8b59-f6285a370bec"
      },
      "execution_count": 115,
      "outputs": [
        {
          "output_type": "stream",
          "name": "stdout",
          "text": [
            "Model: \"sequential_18\"\n",
            "_________________________________________________________________\n",
            " Layer (type)                Output Shape              Param #   \n",
            "=================================================================\n",
            " dense_91 (Dense)            (None, 512)               401920    \n",
            "                                                                 \n",
            " dense_92 (Dense)            (None, 128)               65664     \n",
            "                                                                 \n",
            " dense_93 (Dense)            (None, 64)                8256      \n",
            "                                                                 \n",
            " dense_94 (Dense)            (None, 128)               8320      \n",
            "                                                                 \n",
            " dense_95 (Dense)            (None, 512)               66048     \n",
            "                                                                 \n",
            " dense_96 (Dense)            (None, 784)               402192    \n",
            "                                                                 \n",
            "=================================================================\n",
            "Total params: 952,400\n",
            "Trainable params: 952,400\n",
            "Non-trainable params: 0\n",
            "_________________________________________________________________\n"
          ]
        }
      ]
    },
    {
      "cell_type": "code",
      "source": [
        "history = model.fit(X_train, X_train, batch_size=512, epochs=30)"
      ],
      "metadata": {
        "colab": {
          "base_uri": "https://localhost:8080/"
        },
        "id": "lYwuwQQDUR6S",
        "outputId": "69cabdd6-df53-4b44-e521-d79690366c94"
      },
      "execution_count": 116,
      "outputs": [
        {
          "output_type": "stream",
          "name": "stdout",
          "text": [
            "Epoch 1/30\n",
            "118/118 [==============================] - 8s 62ms/step - loss: 2421.3669 - accuracy: 0.0094\n",
            "Epoch 2/30\n",
            "118/118 [==============================] - 7s 62ms/step - loss: 1185.0566 - accuracy: 0.0114\n",
            "Epoch 3/30\n",
            "118/118 [==============================] - 7s 62ms/step - loss: 1004.8395 - accuracy: 0.0120\n",
            "Epoch 4/30\n",
            "118/118 [==============================] - 8s 65ms/step - loss: 915.5562 - accuracy: 0.0121\n",
            "Epoch 5/30\n",
            "118/118 [==============================] - 7s 62ms/step - loss: 861.1129 - accuracy: 0.0129\n",
            "Epoch 6/30\n",
            "118/118 [==============================] - 7s 61ms/step - loss: 821.9891 - accuracy: 0.0142\n",
            "Epoch 7/30\n",
            "118/118 [==============================] - 7s 61ms/step - loss: 790.2311 - accuracy: 0.0141\n",
            "Epoch 8/30\n",
            "118/118 [==============================] - 7s 61ms/step - loss: 766.1562 - accuracy: 0.0143\n",
            "Epoch 9/30\n",
            "118/118 [==============================] - 7s 62ms/step - loss: 746.1924 - accuracy: 0.0139\n",
            "Epoch 10/30\n",
            "118/118 [==============================] - 7s 62ms/step - loss: 727.0672 - accuracy: 0.0139\n",
            "Epoch 11/30\n",
            "118/118 [==============================] - 8s 69ms/step - loss: 713.7990 - accuracy: 0.0151\n",
            "Epoch 12/30\n",
            "118/118 [==============================] - 8s 69ms/step - loss: 700.8166 - accuracy: 0.0144\n",
            "Epoch 13/30\n",
            "118/118 [==============================] - 7s 62ms/step - loss: 687.3521 - accuracy: 0.0148\n",
            "Epoch 14/30\n",
            "118/118 [==============================] - 7s 61ms/step - loss: 679.4843 - accuracy: 0.0146\n",
            "Epoch 15/30\n",
            "118/118 [==============================] - 7s 61ms/step - loss: 670.0702 - accuracy: 0.0147\n",
            "Epoch 16/30\n",
            "118/118 [==============================] - 7s 61ms/step - loss: 662.5451 - accuracy: 0.0143\n",
            "Epoch 17/30\n",
            "118/118 [==============================] - 7s 61ms/step - loss: 656.0013 - accuracy: 0.0152\n",
            "Epoch 18/30\n",
            "118/118 [==============================] - 7s 61ms/step - loss: 648.6379 - accuracy: 0.0154\n",
            "Epoch 19/30\n",
            "118/118 [==============================] - 7s 61ms/step - loss: 642.9500 - accuracy: 0.0146\n",
            "Epoch 20/30\n",
            "118/118 [==============================] - 7s 61ms/step - loss: 635.7905 - accuracy: 0.0156\n",
            "Epoch 21/30\n",
            "118/118 [==============================] - 7s 62ms/step - loss: 632.1743 - accuracy: 0.0152\n",
            "Epoch 22/30\n",
            "118/118 [==============================] - 7s 61ms/step - loss: 627.6014 - accuracy: 0.0150\n",
            "Epoch 23/30\n",
            "118/118 [==============================] - 7s 62ms/step - loss: 624.0430 - accuracy: 0.0156\n",
            "Epoch 24/30\n",
            "118/118 [==============================] - 7s 62ms/step - loss: 619.1890 - accuracy: 0.0154\n",
            "Epoch 25/30\n",
            "118/118 [==============================] - 7s 62ms/step - loss: 616.1329 - accuracy: 0.0157\n",
            "Epoch 26/30\n",
            "118/118 [==============================] - 7s 61ms/step - loss: 611.7285 - accuracy: 0.0152\n",
            "Epoch 27/30\n",
            "118/118 [==============================] - 7s 62ms/step - loss: 607.8206 - accuracy: 0.0154\n",
            "Epoch 28/30\n",
            "118/118 [==============================] - 7s 62ms/step - loss: 606.4117 - accuracy: 0.0151\n",
            "Epoch 29/30\n",
            "118/118 [==============================] - 7s 61ms/step - loss: 602.3373 - accuracy: 0.0156\n",
            "Epoch 30/30\n",
            "118/118 [==============================] - 7s 60ms/step - loss: 600.8039 - accuracy: 0.0162\n"
          ]
        }
      ]
    },
    {
      "cell_type": "code",
      "source": [
        "model.save('Autoencoder.h5')"
      ],
      "metadata": {
        "id": "lPzAvfu8coJu"
      },
      "execution_count": 117,
      "outputs": []
    },
    {
      "cell_type": "code",
      "source": [
        "x_axis = []\n",
        "y_axis = []\n",
        "\n",
        "for i in range(len(history.history['loss'])):\n",
        "  x_axis.append(i)\n",
        "  y_axis.append(history.history['loss'][i])\n",
        "\n",
        "plt.plot(x_axis, y_axis)\n",
        "plt.title('Epoch wise training loss')\n",
        "plt.xlabel('Number of Epoch')\n",
        "plt.ylabel('Training Loss')\n",
        "plt.show()"
      ],
      "metadata": {
        "colab": {
          "base_uri": "https://localhost:8080/",
          "height": 295
        },
        "id": "4r_UHe09aohk",
        "outputId": "6bc263ca-3a92-43e6-ecfc-e5fb2d37e436"
      },
      "execution_count": 118,
      "outputs": [
        {
          "output_type": "display_data",
          "data": {
            "text/plain": [
              "<Figure size 432x288 with 1 Axes>"
            ],
            "image/png": "[encoded data removed]"
          },
          "metadata": {
            "needs_background": "light"
          }
        }
      ]
    },
    {
      "cell_type": "code",
      "source": [
        "model = Sequential()\n",
        "\n",
        "model.add(Dense(512, input_dim=784, activation='relu', trainable=False, use_bias=True)) #trainable=true #use_bias=true\n",
        "\n",
        "model.add(Dense(128, input_dim=512, activation='relu', trainable=False, use_bias=True))\n",
        "\n",
        "model.add(Dense(64, input_dim=128, activation='relu', trainable=False, use_bias=True))\n",
        "\n",
        "model.add(Dense(32, input_dim=64, activation='relu', trainable=True, use_bias=True))\n",
        "\n",
        "model.add(Dense(10, input_dim=32, activation='softmax', trainable=True, use_bias=True))\n",
        "\n",
        "adam = tf.keras.optimizers.Adam(learning_rate=0.001) #learning_rate=0.001\n",
        "\n",
        "model.compile(\n",
        "  optimizer=adam,\n",
        "  loss='categorical_crossentropy',\n",
        "  metrics=['accuracy']\n",
        ")\n",
        "\n",
        "model.summary()"
      ],
      "metadata": {
        "colab": {
          "base_uri": "https://localhost:8080/"
        },
        "id": "xhwmbK05fDoa",
        "outputId": "943bf141-6bcf-48cb-8cd8-f16592736326"
      },
      "execution_count": 119,
      "outputs": [
        {
          "output_type": "stream",
          "name": "stdout",
          "text": [
            "Model: \"sequential_19\"\n",
            "_________________________________________________________________\n",
            " Layer (type)                Output Shape              Param #   \n",
            "=================================================================\n",
            " dense_97 (Dense)            (None, 512)               401920    \n",
            "                                                                 \n",
            " dense_98 (Dense)            (None, 128)               65664     \n",
            "                                                                 \n",
            " dense_99 (Dense)            (None, 64)                8256      \n",
            "                                                                 \n",
            " dense_100 (Dense)           (None, 32)                2080      \n",
            "                                                                 \n",
            " dense_101 (Dense)           (None, 10)                330       \n",
            "                                                                 \n",
            "=================================================================\n",
            "Total params: 478,250\n",
            "Trainable params: 2,410\n",
            "Non-trainable params: 475,840\n",
            "_________________________________________________________________\n"
          ]
        }
      ]
    },
    {
      "cell_type": "code",
      "source": [
        "history = model.fit(X_train, to_categorical(y_train), batch_size=100, epochs=30)"
      ],
      "metadata": {
        "colab": {
          "base_uri": "https://localhost:8080/"
        },
        "id": "WjHC6iZ_hLag",
        "outputId": "ab5348e3-2673-4387-cd6d-c0dda7ab1998"
      },
      "execution_count": 120,
      "outputs": [
        {
          "output_type": "stream",
          "name": "stdout",
          "text": [
            "Epoch 1/30\n",
            "600/600 [==============================] - 3s 5ms/step - loss: 9.4047 - accuracy: 0.3988\n",
            "Epoch 2/30\n",
            "600/600 [==============================] - 3s 5ms/step - loss: 1.7047 - accuracy: 0.4699\n",
            "Epoch 3/30\n",
            "600/600 [==============================] - 3s 5ms/step - loss: 1.3873 - accuracy: 0.5542\n",
            "Epoch 4/30\n",
            "600/600 [==============================] - 3s 5ms/step - loss: 1.1509 - accuracy: 0.6270\n",
            "Epoch 5/30\n",
            "600/600 [==============================] - 3s 5ms/step - loss: 0.9940 - accuracy: 0.6741\n",
            "Epoch 6/30\n",
            "600/600 [==============================] - 3s 5ms/step - loss: 0.9013 - accuracy: 0.7032\n",
            "Epoch 7/30\n",
            "600/600 [==============================] - 3s 5ms/step - loss: 0.8470 - accuracy: 0.7199\n",
            "Epoch 8/30\n",
            "600/600 [==============================] - 3s 5ms/step - loss: 0.8088 - accuracy: 0.7332\n",
            "Epoch 9/30\n",
            "600/600 [==============================] - 3s 5ms/step - loss: 0.7768 - accuracy: 0.7452\n",
            "Epoch 10/30\n",
            "600/600 [==============================] - 3s 5ms/step - loss: 0.7484 - accuracy: 0.7552\n",
            "Epoch 11/30\n",
            "600/600 [==============================] - 4s 6ms/step - loss: 0.7234 - accuracy: 0.7645\n",
            "Epoch 12/30\n",
            "600/600 [==============================] - 4s 7ms/step - loss: 0.7047 - accuracy: 0.7700\n",
            "Epoch 13/30\n",
            "600/600 [==============================] - 3s 6ms/step - loss: 0.6906 - accuracy: 0.7749\n",
            "Epoch 14/30\n",
            "600/600 [==============================] - 3s 5ms/step - loss: 0.6799 - accuracy: 0.7794\n",
            "Epoch 15/30\n",
            "600/600 [==============================] - 3s 5ms/step - loss: 0.6714 - accuracy: 0.7826\n",
            "Epoch 16/30\n",
            "600/600 [==============================] - 3s 5ms/step - loss: 0.6618 - accuracy: 0.7857\n",
            "Epoch 17/30\n",
            "600/600 [==============================] - 3s 5ms/step - loss: 0.6559 - accuracy: 0.7873\n",
            "Epoch 18/30\n",
            "600/600 [==============================] - 5s 9ms/step - loss: 0.6496 - accuracy: 0.7893\n",
            "Epoch 19/30\n",
            "600/600 [==============================] - 6s 10ms/step - loss: 0.6366 - accuracy: 0.7933\n",
            "Epoch 20/30\n",
            "600/600 [==============================] - 6s 10ms/step - loss: 0.6311 - accuracy: 0.7965\n",
            "Epoch 21/30\n",
            "600/600 [==============================] - 6s 9ms/step - loss: 0.6207 - accuracy: 0.7979\n",
            "Epoch 22/30\n",
            "600/600 [==============================] - 5s 9ms/step - loss: 0.6129 - accuracy: 0.8017\n",
            "Epoch 23/30\n",
            "600/600 [==============================] - 5s 8ms/step - loss: 0.6035 - accuracy: 0.8044\n",
            "Epoch 24/30\n",
            "600/600 [==============================] - 5s 9ms/step - loss: 0.5970 - accuracy: 0.8062\n",
            "Epoch 25/30\n",
            "600/600 [==============================] - 6s 9ms/step - loss: 0.5891 - accuracy: 0.8102\n",
            "Epoch 26/30\n",
            "600/600 [==============================] - 5s 8ms/step - loss: 0.5885 - accuracy: 0.8093\n",
            "Epoch 27/30\n",
            "600/600 [==============================] - 6s 10ms/step - loss: 0.5839 - accuracy: 0.8109\n",
            "Epoch 28/30\n",
            "600/600 [==============================] - 6s 10ms/step - loss: 0.5794 - accuracy: 0.8121\n",
            "Epoch 29/30\n",
            "600/600 [==============================] - 5s 8ms/step - loss: 0.5763 - accuracy: 0.8121\n",
            "Epoch 30/30\n",
            "600/600 [==============================] - 5s 9ms/step - loss: 0.5735 - accuracy: 0.8129\n"
          ]
        }
      ]
    },
    {
      "cell_type": "code",
      "source": [
        "model.save('MNISTClassificationModel.h5')"
      ],
      "metadata": {
        "id": "Psa6hqY075RL"
      },
      "execution_count": 121,
      "outputs": []
    },
    {
      "cell_type": "code",
      "source": [
        "x_axis = []\n",
        "y_axis = []\n",
        "\n",
        "for i in range(len(history.history['loss'])):\n",
        "  x_axis.append(i)\n",
        "  y_axis.append(history.history['loss'][i])\n",
        "\n",
        "plt.plot(x_axis, y_axis)\n",
        "plt.title('Epoch wise training loss')\n",
        "plt.xlabel('Number of Epoch')\n",
        "plt.ylabel('Training Loss')\n",
        "plt.show()"
      ],
      "metadata": {
        "colab": {
          "base_uri": "https://localhost:8080/",
          "height": 295
        },
        "id": "Nc1gO8UTjLBp",
        "outputId": "d99fe7ba-dd6f-4a88-b657-f4c19c9dfa15"
      },
      "execution_count": 122,
      "outputs": [
        {
          "output_type": "display_data",
          "data": {
            "text/plain": [
              "<Figure size 432x288 with 1 Axes>"
            ],
            "image/png": "[encoded data removed]"
          },
          "metadata": {
            "needs_background": "light"
          }
        }
      ]
    },
    {
      "cell_type": "code",
      "source": [
        "predictions = model.predict(X_test)\n",
        "y_pred = np.argmax(predictions, axis=1)\n",
        "y_pred = list(y_pred)\n",
        "y_test = y_test.reshape(10000,)\n",
        "y_test = list(y_test)"
      ],
      "metadata": {
        "id": "1Lb4QiwkkOxJ"
      },
      "execution_count": 123,
      "outputs": []
    },
    {
      "cell_type": "code",
      "source": [
        "print('Accuracy:', accuracy(y_pred, y_test))"
      ],
      "metadata": {
        "colab": {
          "base_uri": "https://localhost:8080/"
        },
        "id": "amvGGvy3kZqU",
        "outputId": "0d4a1641-6457-4fc5-f0f6-31d07f1512cf"
      },
      "execution_count": 124,
      "outputs": [
        {
          "output_type": "stream",
          "name": "stdout",
          "text": [
            "Accuracy: 0.8163\n"
          ]
        }
      ]
    },
    {
      "cell_type": "code",
      "source": [
        "classWiseAccuracy(y_test, y_pred)"
      ],
      "metadata": {
        "colab": {
          "base_uri": "https://localhost:8080/"
        },
        "id": "QUF4oZKh7nCq",
        "outputId": "6721ec0b-8d21-4ecc-bb32-5ecaf1f19bd5"
      },
      "execution_count": 125,
      "outputs": [
        {
          "output_type": "stream",
          "name": "stdout",
          "text": [
            "Class0 0.9193877551020408\n",
            "Class1 0.9409691629955947\n",
            "Class2 0.8081395348837209\n",
            "Class3 0.7653465346534654\n",
            "Class4 0.7505091649694501\n",
            "Class5 0.7769058295964125\n",
            "Class6 0.8496868475991649\n",
            "Class7 0.8219844357976653\n",
            "Class8 0.7782340862422998\n",
            "Class9 0.7333994053518335\n"
          ]
        }
      ]
    },
    {
      "cell_type": "markdown",
      "source": [
        "#Question 4"
      ],
      "metadata": {
        "id": "WovTQ2ndwFYh"
      }
    },
    {
      "cell_type": "code",
      "source": [
        "X_train = images_file_read(\"/content/drive/MyDrive/SML/mnist/train-images-idx3-ubyte.gz\")\n",
        "print(X_train.shape)\n",
        "y_train = labels_file_read(\"/content/drive/MyDrive/SML/mnist/train-labels-idx1-ubyte.gz\")\n",
        "X_test = images_file_read(\"/content/drive/MyDrive/SML/mnist/t10k-images-idx3-ubyte.gz\")\n",
        "print(X_test.shape)\n",
        "y_test = labels_file_read(\"/content/drive/MyDrive/SML/mnist/t10k-labels-idx1-ubyte.gz\")"
      ],
      "metadata": {
        "colab": {
          "base_uri": "https://localhost:8080/"
        },
        "id": "Ee_KiSKtsOI2",
        "outputId": "065d44f7-4211-402c-8b2a-6d2c73e4eb3b"
      },
      "execution_count": 137,
      "outputs": [
        {
          "output_type": "stream",
          "name": "stdout",
          "text": [
            "(60000, 28, 28)\n",
            "(10000, 28, 28)\n"
          ]
        }
      ]
    },
    {
      "cell_type": "code",
      "source": [
        "X_train = X_train.reshape(60000,28*28)\n",
        "X_test = X_test.reshape(10000,28*28)"
      ],
      "metadata": {
        "id": "KAjUs0cGvfAo"
      },
      "execution_count": 138,
      "outputs": []
    },
    {
      "cell_type": "code",
      "source": [
        "dataset1 = np.zeros((60000,28*28))\n",
        "y1 = []\n",
        "\n",
        "dataset2 = np.zeros((60000,28*28))\n",
        "y2 = []\n",
        "\n",
        "dataset3 = np.zeros((60000,28*28))\n",
        "y3 = []\n",
        "\n",
        "notVal1 = []\n",
        "notVal2 = []\n",
        "notVal3 = []"
      ],
      "metadata": {
        "id": "gzDmG81dzPkp"
      },
      "execution_count": 139,
      "outputs": []
    },
    {
      "cell_type": "code",
      "source": [
        "for i in range(60000):\n",
        "\n",
        "  index1 = random.randint(0,59999)\n",
        "  if index1 not in notVal1:\n",
        "    notVal1.append(index1)\n",
        "\n",
        "  index2 = random.randint(0,59999)\n",
        "  if index2 not in notVal2:\n",
        "    notVal2.append(index2)\n",
        "\n",
        "  index3 = random.randint(0,59999)\n",
        "  if index3 not in notVal3:\n",
        "    notVal3.append(index3)\n",
        "\n",
        "  dataset1[i] = X_train[index1]\n",
        "  y1.append(y_train[index1])\n",
        "\n",
        "  dataset2[i] = X_train[index2]\n",
        "  y2.append(y_train[index2])\n",
        "\n",
        "  dataset3[i] = X_train[index3]\n",
        "  y3.append(y_train[index3])\n",
        "\n",
        "val1 = np.zeros((60000-len(notVal1),28*28))\n",
        "y_val1 = []\n",
        "\n",
        "val2 = np.zeros((60000-len(notVal2),28*28))\n",
        "y_val2 = []\n",
        "\n",
        "val3 = np.zeros((60000-len(notVal3),28*28))\n",
        "y_val3 = []\n",
        "\n",
        "j1 = 0\n",
        "j2 = 0\n",
        "j3 = 0\n",
        "\n",
        "for i in range(60000):\n",
        "\n",
        "  if i not in notVal1 and j1<60000-len(notVal1):\n",
        "    val1[j1] = X_train[i]\n",
        "    y_val1.append(y_train[i])\n",
        "    j1 += 1\n",
        "\n",
        "  if i not in notVal2 and j2<60000-len(notVal2):\n",
        "    val2[j2] = X_train[i]\n",
        "    y_val2.append(y_train[i])\n",
        "    j2 += 1\n",
        "\n",
        "  if i not in notVal3 and j3<60000-len(notVal3):\n",
        "    val3[j3] = X_train[i]\n",
        "    y_val3.append(y_train[i])\n",
        "    j3 += 1"
      ],
      "metadata": {
        "id": "SpQONpqLzbIo"
      },
      "execution_count": 140,
      "outputs": []
    },
    {
      "cell_type": "code",
      "source": [
        "print(val1.shape)\n",
        "print(val2.shape)\n",
        "print(val3.shape)\n",
        "print(len(notVal1))\n",
        "print(len(notVal2))\n",
        "print(len(notVal3))"
      ],
      "metadata": {
        "colab": {
          "base_uri": "https://localhost:8080/"
        },
        "id": "bIwQD8ZmFrFw",
        "outputId": "3b0427c9-9e8f-4234-c24d-d575925fcc61"
      },
      "execution_count": 141,
      "outputs": [
        {
          "output_type": "stream",
          "name": "stdout",
          "text": [
            "(22028, 784)\n",
            "(22044, 784)\n",
            "(21981, 784)\n",
            "37972\n",
            "37956\n",
            "38019\n"
          ]
        }
      ]
    },
    {
      "cell_type": "markdown",
      "source": [
        "3 Decision Trees have to be made."
      ],
      "metadata": {
        "id": "VNXxTQNjx9Bv"
      }
    },
    {
      "cell_type": "code",
      "source": [
        "clf1 = DecisionTreeClassifier()\n",
        "clf1 = clf1.fit(dataset1,y1)\n",
        "\n",
        "clf2 = DecisionTreeClassifier()\n",
        "clf2 = clf2.fit(dataset2,y2)\n",
        "\n",
        "clf3 = DecisionTreeClassifier()\n",
        "clf3 = clf3.fit(dataset3,y3)"
      ],
      "metadata": {
        "id": "v6eAtHRSyx38"
      },
      "execution_count": 142,
      "outputs": []
    },
    {
      "cell_type": "code",
      "source": [
        "y_pred1 = clf1.predict(X_test)\n",
        "y_pred2 = clf2.predict(X_test)\n",
        "y_pred3 = clf3.predict(X_test)"
      ],
      "metadata": {
        "id": "Ke5VfNcoNSUs"
      },
      "execution_count": 143,
      "outputs": []
    },
    {
      "cell_type": "code",
      "source": [
        "num = 0\n",
        "final_pred = []\n",
        "\n",
        "for i in range(len(y_test)):\n",
        "\n",
        "  a = y_pred1[i]\n",
        "  b = y_pred2[i]\n",
        "  c = y_pred3[i]\n",
        "\n",
        "  ans = y_test[i]\n",
        "\n",
        "  if a==b and b==c:\n",
        "    if a==ans:\n",
        "      final_pred.append(a)\n",
        "      num += 1\n",
        "  elif a==b and b!=c:\n",
        "    if a==ans:\n",
        "      final_pred.append(a)\n",
        "      num += 1\n",
        "  elif b==c and c!=a:\n",
        "    if b==ans:\n",
        "      final_pred.append(b)\n",
        "      num += 1\n",
        "  elif c==a and a!=b:\n",
        "    if c==ans:\n",
        "      final_pred.append(c)\n",
        "      num += 1\n",
        "  else:\n",
        "    if a==ans:\n",
        "      final_pred.append(a)\n",
        "      num += 1\n",
        "\n",
        "num = num*1.0\n",
        "\n",
        "print('Accuracy:', num/len(y_test))"
      ],
      "metadata": {
        "colab": {
          "base_uri": "https://localhost:8080/"
        },
        "id": "8weYTKZF8w9X",
        "outputId": "17ee531c-6077-41a5-dc3e-a93e49deba5c"
      },
      "execution_count": 144,
      "outputs": [
        {
          "output_type": "stream",
          "name": "stdout",
          "text": [
            "Accuracy: 0.9099\n"
          ]
        }
      ]
    },
    {
      "cell_type": "code",
      "source": [
        "classWiseAccuracy(list(y_test), final_pred)"
      ],
      "metadata": {
        "colab": {
          "base_uri": "https://localhost:8080/"
        },
        "id": "DGSYiYpZ9TdO",
        "outputId": "5082f805-f30d-421e-9d38-6d33e7af84b6"
      },
      "execution_count": 153,
      "outputs": [
        {
          "output_type": "stream",
          "name": "stdout",
          "text": [
            "Class0 0.12401352874859076\n",
            "Class1 0.12524271844660195\n",
            "Class2 0.11016949152542373\n",
            "Class3 0.10032715376226826\n",
            "Class4 0.09899888765294772\n",
            "Class5 0.08620689655172414\n",
            "Class6 0.09666283084004602\n",
            "Class7 0.12864864864864864\n",
            "Class8 0.0992108229988726\n",
            "Class9 0.09364908503767493\n"
          ]
        }
      ]
    }
  ]
}