{
  "nbformat": 4,
  "nbformat_minor": 0,
  "metadata": {
    "colab": {
      "name": "SML4.ipynb",
      "provenance": []
    },
    "kernelspec": {
      "name": "python3",
      "display_name": "Python 3"
    },
    "language_info": {
      "name": "python"
    }
  },
  "cells": [
    {
      "cell_type": "code",
      "execution_count": null,
      "metadata": {
        "colab": {
          "base_uri": "https://localhost:8080/"
        },
        "id": "2a11PvabsmFR",
        "outputId": "1083ebd6-9023-4c2a-cccd-c603b26f6a8c"
      },
      "outputs": [
        {
          "output_type": "stream",
          "name": "stdout",
          "text": [
            "Mounted at /content/drive/\n"
          ]
        }
      ],
      "source": [
        "from google.colab import drive\n",
        "drive.mount('/content/drive/')"
      ]
    },
    {
      "cell_type": "code",
      "source": [
        "import pandas as pd\n",
        "import numpy as np\n",
        "import gzip\n",
        "from sklearn.tree import DecisionTreeClassifier\n",
        "from sklearn.tree import DecisionTreeRegressor\n",
        "import random\n",
        "import tensorflow as tf\n",
        "from keras.models import Sequential\n",
        "from keras.models import load_model\n",
        "from keras.layers import Dropout\n",
        "from keras.layers import Dense, Activation\n",
        "from tensorflow.keras.layers import BatchNormalization\n",
        "from keras import initializers\n",
        "from keras import optimizers\n",
        "from tensorflow.keras.utils import to_categorical\n",
        "from sklearn.metrics import accuracy_score\n",
        "import matplotlib.pyplot as plt\n",
        "import math\n",
        "import torch\n",
        "import pickle"
      ],
      "metadata": {
        "id": "KTOD5K6ivxj0"
      },
      "execution_count": null,
      "outputs": []
    },
    {
      "cell_type": "code",
      "source": [
        "def accuracy(pred, test):\n",
        "  length = len(pred)\n",
        "  num = 0\n",
        "  for i in range(length):\n",
        "    if pred[i]==test[i]:\n",
        "      num += 1\n",
        "  return num/(length*1.0)"
      ],
      "metadata": {
        "id": "Xl6tdA_7ZIYo"
      },
      "execution_count": null,
      "outputs": []
    },
    {
      "cell_type": "code",
      "source": [
        "def classWiseAccuracy(y_t,y_p):\n",
        "  pred = []\n",
        "  test = []\n",
        "  for i in range(10):\n",
        "    pred.append([])\n",
        "    test.append([])\n",
        "\n",
        "  for i in range(len(y_p)):\n",
        "    cls = y_t[i]\n",
        "    pred[cls].append(y_t[i])\n",
        "    test[cls].append(y_p[i])\n",
        "\n",
        "  for i in range(10):\n",
        "    print('Class'+str(i), end = ' ')\n",
        "    print(accuracy_score(test[i],pred[i]))"
      ],
      "metadata": {
        "id": "2LhS9eKE2iQv"
      },
      "execution_count": null,
      "outputs": []
    },
    {
      "cell_type": "code",
      "source": [
        "def images_file_read(file_name):\n",
        "    with gzip.open(file_name, 'r') as f:\n",
        "        # first 4 bytes is a magic number\n",
        "        magic_number = int.from_bytes(f.read(4), 'big')\n",
        "        # second 4 bytes is the number of images\n",
        "        image_count = int.from_bytes(f.read(4), 'big')\n",
        "        # third 4 bytes is the row count\n",
        "        row_count = int.from_bytes(f.read(4), 'big')\n",
        "        # fourth 4 bytes is the column count\n",
        "        column_count = int.from_bytes(f.read(4), 'big')\n",
        "        # rest is the image pixel data, each pixel is stored as an unsigned byte\n",
        "        # pixel values are 0 to 255\n",
        "        image_data = f.read()\n",
        "        images = np.frombuffer(image_data, dtype=np.uint8)\\\n",
        "            .reshape((image_count, row_count, column_count))\n",
        "        return images\n",
        "def labels_file_read(file_name):\n",
        "    with gzip.open(file_name, 'r') as f:\n",
        "        # first 4 bytes is a magic number\n",
        "        magic_number = int.from_bytes(f.read(4), 'big')\n",
        "        # second 4 bytes is the number of labels\n",
        "        label_count = int.from_bytes(f.read(4), 'big')\n",
        "        # rest is the label data, each label is stored as unsigned byte\n",
        "        # label values are 0 to 9\n",
        "        label_data = f.read()\n",
        "        labels = np.frombuffer(label_data, dtype=np.uint8)\n",
        "        return labels"
      ],
      "metadata": {
        "id": "vjYMHccYurHI"
      },
      "execution_count": null,
      "outputs": []
    },
    {
      "cell_type": "markdown",
      "source": [
        "#Question 1"
      ],
      "metadata": {
        "id": "yxPPD2V_CWCu"
      }
    },
    {
      "cell_type": "code",
      "source": [
        "X_train = images_file_read(\"/content/drive/MyDrive/SML/mnist/train-images-idx3-ubyte.gz\")\n",
        "print(X_train.shape)\n",
        "y_train = labels_file_read(\"/content/drive/MyDrive/SML/mnist/train-labels-idx1-ubyte.gz\")\n",
        "X_test = images_file_read(\"/content/drive/MyDrive/SML/mnist/t10k-images-idx3-ubyte.gz\")\n",
        "print(X_test.shape)\n",
        "y_test = labels_file_read(\"/content/drive/MyDrive/SML/mnist/t10k-labels-idx1-ubyte.gz\")\n",
        "# y_test = list(y_test)\n",
        "\n",
        "X_train = X_train.reshape(60000,28*28)\n",
        "X_test = X_test.reshape(10000,28*28)"
      ],
      "metadata": {
        "colab": {
          "base_uri": "https://localhost:8080/"
        },
        "id": "Nxr5Z-IvCXyD",
        "outputId": "3836e29d-bf79-4763-bbcb-3c46638059e4"
      },
      "execution_count": null,
      "outputs": [
        {
          "output_type": "stream",
          "name": "stdout",
          "text": [
            "(60000, 28, 28)\n",
            "(10000, 28, 28)\n"
          ]
        }
      ]
    },
    {
      "cell_type": "code",
      "source": [
        "iterations = 5\n",
        "learning_rate = 0.1\n",
        "trees = []"
      ],
      "metadata": {
        "id": "3YUdOyMsuQc0"
      },
      "execution_count": null,
      "outputs": []
    },
    {
      "cell_type": "code",
      "source": [
        "# F0 = y_train.mean()\n",
        "# Fm = F0\n",
        "# trees = []\n",
        "# for _ in range(5):\n",
        "#     tree = DecisionTreeRegressor()\n",
        "#     tree.fit(X_train, y_train - Fm)\n",
        "#     Fm += learning_rate * tree.predict(X_train)\n",
        "#     trees.append(tree)\n",
        "# final_prediction = F0 + learning_rate * np.sum([t.predict(X_train) for t in trees], axis=0)\n",
        "# print(final_prediction)\n",
        "# for i in range(len(final_prediction)):\n",
        "#   final_prediction[i] = round(final_prediction[i])\n",
        "# print(accuracy(list(final_prediction), list(y_train)))"
      ],
      "metadata": {
        "id": "nZZNfet26P8y"
      },
      "execution_count": null,
      "outputs": []
    },
    {
      "cell_type": "code",
      "source": [
        "# base_model = DecisionTreeRegressor(max_depth = 1)\n",
        "# base_model = base_model.fit(X_train, y_train)\n",
        "# prediction = base_model.predict(X_train)\n",
        "# trees.append(base_model)"
      ],
      "metadata": {
        "id": "f3ZkQ9C35_Qz"
      },
      "execution_count": null,
      "outputs": []
    },
    {
      "cell_type": "code",
      "source": [
        "prediction = 0"
      ],
      "metadata": {
        "id": "awsWtPIvwzaf"
      },
      "execution_count": null,
      "outputs": []
    },
    {
      "cell_type": "code",
      "source": [
        "for i in range(iterations):\n",
        "  residue = y_train-(learning_rate*prediction)\n",
        "  print(residue)\n",
        "  model = DecisionTreeRegressor(max_depth=1)\n",
        "  model = model.fit(X_train, residue)\n",
        "  prediction = model.predict(X_train)\n",
        "  trees.append(model)"
      ],
      "metadata": {
        "id": "nU4IYKhy7rtW",
        "colab": {
          "base_uri": "https://localhost:8080/"
        },
        "outputId": "4c18eb3c-c16b-419d-f928-6fb8b9d4146c"
      },
      "execution_count": null,
      "outputs": [
        {
          "output_type": "stream",
          "name": "stdout",
          "text": [
            "[5. 0. 4. ... 5. 6. 8.]\n",
            "[ 4.46328627 -0.26254691  3.46328627 ...  4.46328627  5.46328627\n",
            "  7.46328627]\n",
            "[ 4.51695764 -0.23629222  3.51695764 ...  4.51695764  5.51695764\n",
            "  7.51695764]\n",
            "[ 4.5115905  -0.23891769  3.5115905  ...  4.5115905   5.5115905\n",
            "  7.5115905 ]\n",
            "[ 4.51212722 -0.23865514  3.51212722 ...  4.51212722  5.51212722\n",
            "  7.51212722]\n"
          ]
        }
      ]
    },
    {
      "cell_type": "code",
      "source": [
        "# y_train"
      ],
      "metadata": {
        "colab": {
          "base_uri": "https://localhost:8080/"
        },
        "id": "JBdV0q-HF7lA",
        "outputId": "2e138b8c-dcf8-4d5b-abe8-8228b9761e8c"
      },
      "execution_count": null,
      "outputs": [
        {
          "output_type": "execute_result",
          "data": {
            "text/plain": [
              "array([5, 0, 4, ..., 5, 6, 8], dtype=uint8)"
            ]
          },
          "metadata": {},
          "execution_count": 111
        }
      ]
    },
    {
      "cell_type": "markdown",
      "source": [
        "![image.png](data:image/png;base64,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)"
      ],
      "metadata": {
        "id": "E3HezhZKdgDQ"
      }
    },
    {
      "cell_type": "code",
      "source": [
        "final_prediction = learning_rate * np.sum([t.predict(X_train) for t in trees], axis=0)\n",
        "for i in range(len(final_prediction)):\n",
        "  final_prediction[i] = round(final_prediction[i])\n",
        "print('Training accuracy:', accuracy(list(final_prediction), list(y_train)))"
      ],
      "metadata": {
        "colab": {
          "base_uri": "https://localhost:8080/"
        },
        "id": "kM4r9d7RERTt",
        "outputId": "ab041803-de60-406a-d6d9-e695114bfb75"
      },
      "execution_count": null,
      "outputs": [
        {
          "output_type": "stream",
          "name": "stdout",
          "text": [
            "Training accuracy: 0.17033333333333334\n"
          ]
        }
      ]
    },
    {
      "cell_type": "code",
      "source": [
        "test = learning_rate*np.sum([t.predict(X_test) for t in trees], axis=0)\n",
        "# print(test)\n",
        "for i in range(len(test)):\n",
        "  test[i] = round(test[i])\n",
        "print('Testing accuracy:', accuracy(list(test), list(y_test)))"
      ],
      "metadata": {
        "colab": {
          "base_uri": "https://localhost:8080/"
        },
        "id": "ENqG5dqQE28C",
        "outputId": "ebdb7001-b692-45e8-bb73-82407cba05e6"
      },
      "execution_count": null,
      "outputs": [
        {
          "output_type": "stream",
          "name": "stdout",
          "text": [
            "Testing accuracy: 0.1706\n"
          ]
        }
      ]
    },
    {
      "cell_type": "code",
      "source": [
        "for i in range(len(trees)):\n",
        "  name = 'Q1_tree'\n",
        "  name += str(i+1)\n",
        "  with open(name, 'wb') as file:\n",
        "    pickle.dump(name, file)"
      ],
      "metadata": {
        "id": "hCc1nrsUf_St"
      },
      "execution_count": null,
      "outputs": []
    },
    {
      "cell_type": "markdown",
      "source": [
        "#Question 2"
      ],
      "metadata": {
        "id": "nwCqkAduRgmc"
      }
    },
    {
      "cell_type": "code",
      "source": [
        "df_train = pd.read_csv(\"/content/drive/MyDrive/SML/fminst/fashion-mnist_train.csv\")\n",
        "df_test = pd.read_csv(\"/content/drive/MyDrive/SML/fminst/fashion-mnist_test.csv\")"
      ],
      "metadata": {
        "id": "PaVsJVKxUnBQ"
      },
      "execution_count": null,
      "outputs": []
    },
    {
      "cell_type": "code",
      "source": [
        "X_train = df_train.loc[ : , df_train.columns != 'label']\n",
        "y_train = pd.DataFrame(df_train['label'])\n",
        "\n",
        "X_test = df_test.loc[ : , df_test.columns != 'label']\n",
        "y_test = pd.DataFrame(df_test['label'])"
      ],
      "metadata": {
        "id": "T_6FoyalAa63"
      },
      "execution_count": null,
      "outputs": []
    },
    {
      "cell_type": "code",
      "source": [
        "X_train = X_train.to_numpy()\n",
        "y_train = y_train.to_numpy()\n",
        "X_test = X_test.to_numpy()\n",
        "y_test = y_test.to_numpy()"
      ],
      "metadata": {
        "id": "_zBFwili8Z5y"
      },
      "execution_count": null,
      "outputs": []
    },
    {
      "cell_type": "code",
      "source": [
        "model = Sequential()\n",
        "\n",
        "model.add(Dense(512, input_dim=784, trainable=True,activation='sigmoid', use_bias=True, \n",
        "                kernel_initializer=initializers.he_normal(seed=None)))\n",
        "\n",
        "model.add(Dense(128, input_dim=512, trainable=True,activation='sigmoid', use_bias=True, \n",
        "                kernel_initializer=initializers.he_normal(seed=None)))\n",
        "\n",
        "model.add(Dense(64, input_dim=128, trainable=True,activation='sigmoid', use_bias=True, \n",
        "                kernel_initializer=initializers.he_normal(seed=None)))\n",
        "\n",
        "model.add(Dense(32, input_dim=128, trainable=True,activation='sigmoid', use_bias=True, \n",
        "                kernel_initializer=initializers.he_normal(seed=None)))\n",
        "\n",
        "model.add(Dense(10, input_dim=32, trainable=True,activation='softmax', use_bias=True, \n",
        "                kernel_initializer=initializers.he_normal(seed=None)))\n",
        "\n",
        "sgd = tf.keras.optimizers.SGD(learning_rate=0.01, momentum=0.9)\n",
        "\n",
        "model.compile(\n",
        "  optimizer=sgd,\n",
        "  loss='categorical_crossentropy',\n",
        "  metrics=['accuracy'],\n",
        ")\n",
        "\n",
        "model.summary()"
      ],
      "metadata": {
        "id": "xtsVwPCWWA47",
        "colab": {
          "base_uri": "https://localhost:8080/"
        },
        "outputId": "4e6988b9-eeb0-4c31-c7e9-e4d668cbead3"
      },
      "execution_count": null,
      "outputs": [
        {
          "output_type": "stream",
          "name": "stdout",
          "text": [
            "Model: \"sequential\"\n",
            "_________________________________________________________________\n",
            " Layer (type)                Output Shape              Param #   \n",
            "=================================================================\n",
            " dense (Dense)               (None, 512)               401920    \n",
            "                                                                 \n",
            " dense_1 (Dense)             (None, 128)               65664     \n",
            "                                                                 \n",
            " dense_2 (Dense)             (None, 64)                8256      \n",
            "                                                                 \n",
            " dense_3 (Dense)             (None, 32)                2080      \n",
            "                                                                 \n",
            " dense_4 (Dense)             (None, 10)                330       \n",
            "                                                                 \n",
            "=================================================================\n",
            "Total params: 478,250\n",
            "Trainable params: 478,250\n",
            "Non-trainable params: 0\n",
            "_________________________________________________________________\n"
          ]
        }
      ]
    },
    {
      "cell_type": "code",
      "source": [
        "history = model.fit(X_train, to_categorical(y_train), batch_size=700, epochs=28) #batch sie = 700"
      ],
      "metadata": {
        "id": "LwVSB2EQ5CV6",
        "colab": {
          "base_uri": "https://localhost:8080/"
        },
        "outputId": "faf2ec71-8aad-408c-e89a-fd24787777d1"
      },
      "execution_count": null,
      "outputs": [
        {
          "output_type": "stream",
          "name": "stdout",
          "text": [
            "Epoch 1/28\n",
            "86/86 [==============================] - 4s 35ms/step - loss: 2.3263 - accuracy: 0.1939\n",
            "Epoch 2/28\n",
            "86/86 [==============================] - 3s 34ms/step - loss: 2.1611 - accuracy: 0.4146\n",
            "Epoch 3/28\n",
            "86/86 [==============================] - 3s 34ms/step - loss: 1.9093 - accuracy: 0.4500\n",
            "Epoch 4/28\n",
            "86/86 [==============================] - 3s 34ms/step - loss: 1.6802 - accuracy: 0.4828\n",
            "Epoch 5/28\n",
            "86/86 [==============================] - 3s 34ms/step - loss: 1.5197 - accuracy: 0.5229\n",
            "Epoch 6/28\n",
            "86/86 [==============================] - 3s 35ms/step - loss: 1.3559 - accuracy: 0.5473\n",
            "Epoch 7/28\n",
            "86/86 [==============================] - 3s 34ms/step - loss: 1.2138 - accuracy: 0.6000\n",
            "Epoch 8/28\n",
            "86/86 [==============================] - 3s 35ms/step - loss: 1.1021 - accuracy: 0.6305\n",
            "Epoch 9/28\n",
            "86/86 [==============================] - 5s 57ms/step - loss: 1.0143 - accuracy: 0.6517\n",
            "Epoch 10/28\n",
            "86/86 [==============================] - 5s 62ms/step - loss: 0.9440 - accuracy: 0.6702\n",
            "Epoch 11/28\n",
            "86/86 [==============================] - 4s 47ms/step - loss: 0.8881 - accuracy: 0.6886\n",
            "Epoch 12/28\n",
            "86/86 [==============================] - 3s 35ms/step - loss: 0.8442 - accuracy: 0.7008\n",
            "Epoch 13/28\n",
            "86/86 [==============================] - 3s 34ms/step - loss: 0.8049 - accuracy: 0.7214\n",
            "Epoch 14/28\n",
            "86/86 [==============================] - 3s 34ms/step - loss: 0.7735 - accuracy: 0.7292\n",
            "Epoch 15/28\n",
            "86/86 [==============================] - 3s 34ms/step - loss: 0.7474 - accuracy: 0.7441\n",
            "Epoch 16/28\n",
            "86/86 [==============================] - 3s 34ms/step - loss: 0.7204 - accuracy: 0.7568\n",
            "Epoch 17/28\n",
            "86/86 [==============================] - 3s 34ms/step - loss: 0.6959 - accuracy: 0.7645\n",
            "Epoch 18/28\n",
            "86/86 [==============================] - 3s 35ms/step - loss: 0.6725 - accuracy: 0.7739\n",
            "Epoch 19/28\n",
            "86/86 [==============================] - 3s 35ms/step - loss: 0.6538 - accuracy: 0.7789\n",
            "Epoch 20/28\n",
            "86/86 [==============================] - 3s 35ms/step - loss: 0.6366 - accuracy: 0.7832\n",
            "Epoch 21/28\n",
            "86/86 [==============================] - 3s 35ms/step - loss: 0.6236 - accuracy: 0.7871\n",
            "Epoch 22/28\n",
            "86/86 [==============================] - 3s 35ms/step - loss: 0.6089 - accuracy: 0.7900\n",
            "Epoch 23/28\n",
            "86/86 [==============================] - 3s 35ms/step - loss: 0.5933 - accuracy: 0.7952\n",
            "Epoch 24/28\n",
            "86/86 [==============================] - 4s 45ms/step - loss: 0.5810 - accuracy: 0.8020\n",
            "Epoch 25/28\n",
            "86/86 [==============================] - 3s 35ms/step - loss: 0.5708 - accuracy: 0.8068\n",
            "Epoch 26/28\n",
            "86/86 [==============================] - 3s 34ms/step - loss: 0.5689 - accuracy: 0.8109\n",
            "Epoch 27/28\n",
            "86/86 [==============================] - 3s 35ms/step - loss: 0.5652 - accuracy: 0.8116\n",
            "Epoch 28/28\n",
            "86/86 [==============================] - 3s 34ms/step - loss: 0.5526 - accuracy: 0.8176\n"
          ]
        }
      ]
    },
    {
      "cell_type": "markdown",
      "source": [
        "\n",
        "The hyperparameters assumed other than those mentioned in the question are: trainable=True, use_bias=True, activation=`sigmoid` for all the layers other than the output layer where activation=`softmax`\n",
        "\n",
        "Batch size=700, number of epochs=28 and learning rate=0.01\n"
      ],
      "metadata": {
        "id": "Mzz6Npp6eJ_j"
      }
    },
    {
      "cell_type": "code",
      "source": [
        "model.save('Q2.h5')"
      ],
      "metadata": {
        "id": "L2JNO8hUggar"
      },
      "execution_count": null,
      "outputs": []
    },
    {
      "cell_type": "code",
      "source": [
        "x_axis = []\n",
        "y_axis = []\n",
        "\n",
        "for i in range(len(history.history['loss'])):\n",
        "  x_axis.append(i)\n",
        "  y_axis.append(history.history['loss'][i])\n",
        "\n",
        "plt.plot(x_axis, y_axis)\n",
        "plt.title('Epoch wise training loss')\n",
        "plt.xlabel('Number of Epoch')\n",
        "plt.ylabel('Training Loss')\n",
        "plt.show()"
      ],
      "metadata": {
        "colab": {
          "base_uri": "https://localhost:8080/",
          "height": 295
        },
        "id": "9wxHO4wdUcMD",
        "outputId": "32ddedf9-e14c-4c1a-f752-edd21a6a65bc"
      },
      "execution_count": null,
      "outputs": [
        {
          "output_type": "display_data",
          "data": {
            "text/plain": [
              "<Figure size 432x288 with 1 Axes>"
            ],
            "image/png": "[encoded data removed]"
          },
          "metadata": {
            "needs_background": "light"
          }
        }
      ]
    },
    {
      "cell_type": "code",
      "source": [
        "predictions = model.predict(X_test)\n",
        "y_pred = np.argmax(predictions, axis=1)\n",
        "y_pred = list(y_pred)\n",
        "y_test = y_test.reshape(10000,)\n",
        "y_test = list(y_test)"
      ],
      "metadata": {
        "id": "PflMkA4nYBwM"
      },
      "execution_count": null,
      "outputs": []
    },
    {
      "cell_type": "code",
      "source": [
        "print('Accuracy: ', accuracy(y_pred, y_test))"
      ],
      "metadata": {
        "colab": {
          "base_uri": "https://localhost:8080/"
        },
        "id": "pV_rO18EeFtU",
        "outputId": "0471f6c4-ef47-40ef-9cd4-cf8f6041a25e"
      },
      "execution_count": null,
      "outputs": [
        {
          "output_type": "stream",
          "name": "stdout",
          "text": [
            "Accuracy:  0.8203\n"
          ]
        }
      ]
    },
    {
      "cell_type": "code",
      "source": [
        "classWiseAccuracy(y_test,y_pred)"
      ],
      "metadata": {
        "colab": {
          "base_uri": "https://localhost:8080/"
        },
        "id": "ddxZDL6I1W33",
        "outputId": "125711f9-d62a-40ba-8e92-6ebc3e9575a8"
      },
      "execution_count": null,
      "outputs": [
        {
          "output_type": "stream",
          "name": "stdout",
          "text": [
            "Class0 0.809\n",
            "Class1 0.939\n",
            "Class2 0.734\n",
            "Class3 0.848\n",
            "Class4 0.63\n",
            "Class5 0.878\n",
            "Class6 0.582\n",
            "Class7 0.871\n",
            "Class8 0.946\n",
            "Class9 0.966\n"
          ]
        }
      ]
    },
    {
      "cell_type": "markdown",
      "source": [
        "#Question 3"
      ],
      "metadata": {
        "id": "6wFZ6mntJv5U"
      }
    },
    {
      "cell_type": "code",
      "source": [
        "X_train = images_file_read(\"/content/drive/MyDrive/SML/mnist/train-images-idx3-ubyte.gz\")\n",
        "# X_train = (X_train/255)-0.5\n",
        "print(X_train.shape)\n",
        "y_train = labels_file_read(\"/content/drive/MyDrive/SML/mnist/train-labels-idx1-ubyte.gz\")\n",
        "X_test = images_file_read(\"/content/drive/MyDrive/SML/mnist/t10k-images-idx3-ubyte.gz\")\n",
        "# X_test = (X_test/255)-0.5\n",
        "print(X_test.shape)\n",
        "y_test = labels_file_read(\"/content/drive/MyDrive/SML/mnist/t10k-labels-idx1-ubyte.gz\")"
      ],
      "metadata": {
        "colab": {
          "base_uri": "https://localhost:8080/"
        },
        "outputId": "04c9c2f6-2259-489e-adea-0d552bc3d7e5",
        "id": "9t0pASqAUHtH"
      },
      "execution_count": null,
      "outputs": [
        {
          "output_type": "stream",
          "name": "stdout",
          "text": [
            "(60000, 28, 28)\n",
            "(10000, 28, 28)\n"
          ]
        }
      ]
    },
    {
      "cell_type": "code",
      "source": [
        "X_train = X_train.reshape(60000,28*28)\n",
        "X_test = X_test.reshape(10000,28*28)"
      ],
      "metadata": {
        "id": "ZjlL56vmUHtN"
      },
      "execution_count": null,
      "outputs": []
    },
    {
      "cell_type": "code",
      "source": [
        "model = Sequential()\n",
        "\n",
        "model.add(Dense(512, input_dim=784, activation='relu', trainable=True, use_bias=True)) #trainable=true #use_bias=true\n",
        "\n",
        "model.add(Dense(128, input_dim=512, activation='relu', trainable=True, use_bias=True))\n",
        "\n",
        "model.add(Dense(64, input_dim=128, activation='relu', trainable=True, use_bias=True))\n",
        "\n",
        "model.add(Dense(128, input_dim=64, activation='relu', trainable=True, use_bias=True))\n",
        "\n",
        "model.add(Dense(512, input_dim=128, activation='relu', trainable=True, use_bias=True))\n",
        "\n",
        "model.add(Dense(784, input_dim=512, activation='relu', trainable=True, use_bias=True))\n",
        "\n",
        "adam = tf.keras.optimizers.Adam(learning_rate=0.001) #learning_rate=0.001\n",
        "\n",
        "model.compile(\n",
        "  optimizer=adam,\n",
        "  loss='mean_squared_error',\n",
        "  metrics=['accuracy']\n",
        ")\n",
        "\n",
        "model.summary()"
      ],
      "metadata": {
        "colab": {
          "base_uri": "https://localhost:8080/"
        },
        "id": "2WLuIcP9JxiP",
        "outputId": "7edd4020-9b2d-4d98-afd7-7900ecc7af60"
      },
      "execution_count": null,
      "outputs": [
        {
          "output_type": "stream",
          "name": "stdout",
          "text": [
            "Model: \"sequential_1\"\n",
            "_________________________________________________________________\n",
            " Layer (type)                Output Shape              Param #   \n",
            "=================================================================\n",
            " dense_5 (Dense)             (None, 512)               401920    \n",
            "                                                                 \n",
            " dense_6 (Dense)             (None, 128)               65664     \n",
            "                                                                 \n",
            " dense_7 (Dense)             (None, 64)                8256      \n",
            "                                                                 \n",
            " dense_8 (Dense)             (None, 128)               8320      \n",
            "                                                                 \n",
            " dense_9 (Dense)             (None, 512)               66048     \n",
            "                                                                 \n",
            " dense_10 (Dense)            (None, 784)               402192    \n",
            "                                                                 \n",
            "=================================================================\n",
            "Total params: 952,400\n",
            "Trainable params: 952,400\n",
            "Non-trainable params: 0\n",
            "_________________________________________________________________\n"
          ]
        }
      ]
    },
    {
      "cell_type": "code",
      "source": [
        "history = model.fit(X_train, X_train, batch_size=512, epochs=30)"
      ],
      "metadata": {
        "colab": {
          "base_uri": "https://localhost:8080/"
        },
        "id": "lYwuwQQDUR6S",
        "outputId": "3b3a5888-d4f7-405c-f0a1-632b6695712a"
      },
      "execution_count": null,
      "outputs": [
        {
          "output_type": "stream",
          "name": "stdout",
          "text": [
            "Epoch 1/30\n",
            "118/118 [==============================] - 8s 60ms/step - loss: 2595.3726 - accuracy: 0.0110\n",
            "Epoch 2/30\n",
            "118/118 [==============================] - 7s 60ms/step - loss: 1337.7465 - accuracy: 0.0122\n",
            "Epoch 3/30\n",
            "118/118 [==============================] - 7s 60ms/step - loss: 1143.5463 - accuracy: 0.0129\n",
            "Epoch 4/30\n",
            "118/118 [==============================] - 7s 60ms/step - loss: 1051.9165 - accuracy: 0.0128\n",
            "Epoch 5/30\n",
            "118/118 [==============================] - 7s 59ms/step - loss: 996.5377 - accuracy: 0.0136\n",
            "Epoch 6/30\n",
            "118/118 [==============================] - 7s 59ms/step - loss: 954.5947 - accuracy: 0.0137\n",
            "Epoch 7/30\n",
            "118/118 [==============================] - 7s 60ms/step - loss: 922.2701 - accuracy: 0.0135\n",
            "Epoch 8/30\n",
            "118/118 [==============================] - 8s 67ms/step - loss: 899.1624 - accuracy: 0.0145\n",
            "Epoch 9/30\n",
            "118/118 [==============================] - 7s 59ms/step - loss: 879.4775 - accuracy: 0.0153\n",
            "Epoch 10/30\n",
            "118/118 [==============================] - 9s 74ms/step - loss: 861.5430 - accuracy: 0.0141\n",
            "Epoch 11/30\n",
            "118/118 [==============================] - 7s 60ms/step - loss: 848.7711 - accuracy: 0.0140\n",
            "Epoch 12/30\n",
            "118/118 [==============================] - 7s 60ms/step - loss: 834.9004 - accuracy: 0.0151\n",
            "Epoch 13/30\n",
            "118/118 [==============================] - 7s 60ms/step - loss: 827.1211 - accuracy: 0.0151\n",
            "Epoch 14/30\n",
            "118/118 [==============================] - 7s 60ms/step - loss: 816.1508 - accuracy: 0.0157\n",
            "Epoch 15/30\n",
            "118/118 [==============================] - 7s 60ms/step - loss: 808.9070 - accuracy: 0.0150\n",
            "Epoch 16/30\n",
            "118/118 [==============================] - 7s 60ms/step - loss: 801.0143 - accuracy: 0.0151\n",
            "Epoch 17/30\n",
            "118/118 [==============================] - 7s 59ms/step - loss: 794.9797 - accuracy: 0.0153\n",
            "Epoch 18/30\n",
            "118/118 [==============================] - 7s 59ms/step - loss: 788.2559 - accuracy: 0.0148\n",
            "Epoch 19/30\n",
            "118/118 [==============================] - 7s 60ms/step - loss: 784.8545 - accuracy: 0.0154\n",
            "Epoch 20/30\n",
            "118/118 [==============================] - 7s 59ms/step - loss: 776.2561 - accuracy: 0.0158\n",
            "Epoch 21/30\n",
            "118/118 [==============================] - 7s 59ms/step - loss: 772.3364 - accuracy: 0.0151\n",
            "Epoch 22/30\n",
            "118/118 [==============================] - 7s 60ms/step - loss: 767.1943 - accuracy: 0.0150\n",
            "Epoch 23/30\n",
            "118/118 [==============================] - 8s 66ms/step - loss: 764.1954 - accuracy: 0.0155\n",
            "Epoch 24/30\n",
            "118/118 [==============================] - 7s 59ms/step - loss: 760.8611 - accuracy: 0.0161\n",
            "Epoch 25/30\n",
            "118/118 [==============================] - 7s 59ms/step - loss: 757.2950 - accuracy: 0.0160\n",
            "Epoch 26/30\n",
            "118/118 [==============================] - 7s 59ms/step - loss: 752.5318 - accuracy: 0.0159\n",
            "Epoch 27/30\n",
            "118/118 [==============================] - 7s 59ms/step - loss: 751.5640 - accuracy: 0.0153\n",
            "Epoch 28/30\n",
            "118/118 [==============================] - 7s 59ms/step - loss: 748.0850 - accuracy: 0.0150\n",
            "Epoch 29/30\n",
            "118/118 [==============================] - 7s 59ms/step - loss: 744.8801 - accuracy: 0.0152\n",
            "Epoch 30/30\n",
            "118/118 [==============================] - 7s 60ms/step - loss: 741.6512 - accuracy: 0.0159\n"
          ]
        }
      ]
    },
    {
      "cell_type": "code",
      "source": [
        "model.save('Q3_Autoencoder.h5')"
      ],
      "metadata": {
        "id": "lPzAvfu8coJu"
      },
      "execution_count": null,
      "outputs": []
    },
    {
      "cell_type": "code",
      "source": [
        "x_axis = []\n",
        "y_axis = []\n",
        "\n",
        "for i in range(len(history.history['loss'])):\n",
        "  x_axis.append(i)\n",
        "  y_axis.append(history.history['loss'][i])\n",
        "\n",
        "plt.plot(x_axis, y_axis)\n",
        "plt.title('Epoch wise training loss')\n",
        "plt.xlabel('Number of Epoch')\n",
        "plt.ylabel('Training Loss')\n",
        "plt.show()"
      ],
      "metadata": {
        "colab": {
          "base_uri": "https://localhost:8080/",
          "height": 295
        },
        "id": "4r_UHe09aohk",
        "outputId": "ed6bfa09-9916-4baf-8e8c-f185f3ed3df0"
      },
      "execution_count": null,
      "outputs": [
        {
          "output_type": "display_data",
          "data": {
            "text/plain": [
              "<Figure size 432x288 with 1 Axes>"
            ],
            "image/png": "[encoded data removed]"
          },
          "metadata": {
            "needs_background": "light"
          }
        }
      ]
    },
    {
      "cell_type": "code",
      "source": [
        "model = Sequential()\n",
        "\n",
        "model.add(Dense(512, input_dim=784, activation='relu', trainable=False, use_bias=True)) #trainable=true #use_bias=true\n",
        "\n",
        "model.add(Dense(128, input_dim=512, activation='relu', trainable=False, use_bias=True))\n",
        "\n",
        "model.add(Dense(64, input_dim=128, activation='relu', trainable=False, use_bias=True))\n",
        "\n",
        "model.add(Dense(32, input_dim=64, activation='relu', trainable=True, use_bias=True))\n",
        "\n",
        "model.add(Dense(10, input_dim=32, activation='softmax', trainable=True, use_bias=True))\n",
        "\n",
        "adam = tf.keras.optimizers.Adam(learning_rate=0.001) #learning_rate=0.001\n",
        "\n",
        "model.compile(\n",
        "  optimizer=adam,\n",
        "  loss='categorical_crossentropy',\n",
        "  metrics=['accuracy']\n",
        ")\n",
        "\n",
        "model.summary()"
      ],
      "metadata": {
        "colab": {
          "base_uri": "https://localhost:8080/"
        },
        "id": "xhwmbK05fDoa",
        "outputId": "a223870e-48a9-4271-f279-bf4ab5ffb5b1"
      },
      "execution_count": null,
      "outputs": [
        {
          "output_type": "stream",
          "name": "stdout",
          "text": [
            "Model: \"sequential_2\"\n",
            "_________________________________________________________________\n",
            " Layer (type)                Output Shape              Param #   \n",
            "=================================================================\n",
            " dense_11 (Dense)            (None, 512)               401920    \n",
            "                                                                 \n",
            " dense_12 (Dense)            (None, 128)               65664     \n",
            "                                                                 \n",
            " dense_13 (Dense)            (None, 64)                8256      \n",
            "                                                                 \n",
            " dense_14 (Dense)            (None, 32)                2080      \n",
            "                                                                 \n",
            " dense_15 (Dense)            (None, 10)                330       \n",
            "                                                                 \n",
            "=================================================================\n",
            "Total params: 478,250\n",
            "Trainable params: 2,410\n",
            "Non-trainable params: 475,840\n",
            "_________________________________________________________________\n"
          ]
        }
      ]
    },
    {
      "cell_type": "code",
      "source": [
        "history = model.fit(X_train, to_categorical(y_train), batch_size=100, epochs=30)"
      ],
      "metadata": {
        "colab": {
          "base_uri": "https://localhost:8080/"
        },
        "id": "WjHC6iZ_hLag",
        "outputId": "2c428b94-d409-4aa8-cad5-1ca3f7b2cf5d"
      },
      "execution_count": null,
      "outputs": [
        {
          "output_type": "stream",
          "name": "stdout",
          "text": [
            "Epoch 1/30\n",
            "600/600 [==============================] - 3s 4ms/step - loss: 7.1989 - accuracy: 0.4457\n",
            "Epoch 2/30\n",
            "600/600 [==============================] - 2s 4ms/step - loss: 1.3785 - accuracy: 0.6083\n",
            "Epoch 3/30\n",
            "600/600 [==============================] - 2s 4ms/step - loss: 1.0444 - accuracy: 0.6608\n",
            "Epoch 4/30\n",
            "600/600 [==============================] - 2s 4ms/step - loss: 0.9394 - accuracy: 0.6922\n",
            "Epoch 5/30\n",
            "600/600 [==============================] - 2s 4ms/step - loss: 0.8847 - accuracy: 0.7113\n",
            "Epoch 6/30\n",
            "600/600 [==============================] - 2s 4ms/step - loss: 0.8523 - accuracy: 0.7219\n",
            "Epoch 7/30\n",
            "600/600 [==============================] - 2s 4ms/step - loss: 0.8204 - accuracy: 0.7340\n",
            "Epoch 8/30\n",
            "600/600 [==============================] - 2s 4ms/step - loss: 0.7922 - accuracy: 0.7426\n",
            "Epoch 9/30\n",
            "600/600 [==============================] - 3s 4ms/step - loss: 0.7757 - accuracy: 0.7484\n",
            "Epoch 10/30\n",
            "600/600 [==============================] - 3s 4ms/step - loss: 0.7614 - accuracy: 0.7530\n",
            "Epoch 11/30\n",
            "600/600 [==============================] - 2s 4ms/step - loss: 0.7472 - accuracy: 0.7588\n",
            "Epoch 12/30\n",
            "600/600 [==============================] - 2s 4ms/step - loss: 0.7361 - accuracy: 0.7618\n",
            "Epoch 13/30\n",
            "600/600 [==============================] - 2s 4ms/step - loss: 0.7232 - accuracy: 0.7658\n",
            "Epoch 14/30\n",
            "600/600 [==============================] - 2s 4ms/step - loss: 0.7114 - accuracy: 0.7684\n",
            "Epoch 15/30\n",
            "600/600 [==============================] - 2s 4ms/step - loss: 0.6999 - accuracy: 0.7731\n",
            "Epoch 16/30\n",
            "600/600 [==============================] - 2s 4ms/step - loss: 0.6926 - accuracy: 0.7737\n",
            "Epoch 17/30\n",
            "600/600 [==============================] - 2s 4ms/step - loss: 0.6882 - accuracy: 0.7755\n",
            "Epoch 18/30\n",
            "600/600 [==============================] - 2s 4ms/step - loss: 0.6805 - accuracy: 0.7783\n",
            "Epoch 19/30\n",
            "600/600 [==============================] - 2s 4ms/step - loss: 0.6749 - accuracy: 0.7786\n",
            "Epoch 20/30\n",
            "600/600 [==============================] - 2s 4ms/step - loss: 0.6690 - accuracy: 0.7812\n",
            "Epoch 21/30\n",
            "600/600 [==============================] - 2s 4ms/step - loss: 0.6629 - accuracy: 0.7822\n",
            "Epoch 22/30\n",
            "600/600 [==============================] - 2s 4ms/step - loss: 0.6587 - accuracy: 0.7841\n",
            "Epoch 23/30\n",
            "600/600 [==============================] - 2s 4ms/step - loss: 0.6534 - accuracy: 0.7856\n",
            "Epoch 24/30\n",
            "600/600 [==============================] - 2s 4ms/step - loss: 0.6499 - accuracy: 0.7875\n",
            "Epoch 25/30\n",
            "600/600 [==============================] - 2s 4ms/step - loss: 0.6463 - accuracy: 0.7877\n",
            "Epoch 26/30\n",
            "600/600 [==============================] - 3s 4ms/step - loss: 0.6405 - accuracy: 0.7897\n",
            "Epoch 27/30\n",
            "600/600 [==============================] - 3s 4ms/step - loss: 0.6379 - accuracy: 0.7903\n",
            "Epoch 28/30\n",
            "600/600 [==============================] - 3s 4ms/step - loss: 0.6351 - accuracy: 0.7912\n",
            "Epoch 29/30\n",
            "600/600 [==============================] - 2s 4ms/step - loss: 0.6304 - accuracy: 0.7941\n",
            "Epoch 30/30\n",
            "600/600 [==============================] - 2s 4ms/step - loss: 0.6268 - accuracy: 0.7945\n"
          ]
        }
      ]
    },
    {
      "cell_type": "code",
      "source": [
        "model.save('MNISTClassificationModel.h5')"
      ],
      "metadata": {
        "id": "Psa6hqY075RL"
      },
      "execution_count": null,
      "outputs": []
    },
    {
      "cell_type": "code",
      "source": [
        "x_axis = []\n",
        "y_axis = []\n",
        "\n",
        "for i in range(len(history.history['loss'])):\n",
        "  x_axis.append(i)\n",
        "  y_axis.append(history.history['loss'][i])\n",
        "\n",
        "plt.plot(x_axis, y_axis)\n",
        "plt.title('Epoch wise training loss')\n",
        "plt.xlabel('Number of Epoch')\n",
        "plt.ylabel('Training Loss')\n",
        "plt.show()"
      ],
      "metadata": {
        "colab": {
          "base_uri": "https://localhost:8080/",
          "height": 295
        },
        "id": "Nc1gO8UTjLBp",
        "outputId": "210a4887-a718-4d32-fb3e-8ab6727928e5"
      },
      "execution_count": null,
      "outputs": [
        {
          "output_type": "display_data",
          "data": {
            "text/plain": [
              "<Figure size 432x288 with 1 Axes>"
            ],
            "image/png": "[encoded data removed]"
          },
          "metadata": {
            "needs_background": "light"
          }
        }
      ]
    },
    {
      "cell_type": "code",
      "source": [
        "predictions = model.predict(X_test)\n",
        "y_pred = np.argmax(predictions, axis=1)\n",
        "y_pred = list(y_pred)\n",
        "y_test = y_test.reshape(10000,)\n",
        "y_test = list(y_test)"
      ],
      "metadata": {
        "id": "1Lb4QiwkkOxJ"
      },
      "execution_count": null,
      "outputs": []
    },
    {
      "cell_type": "code",
      "source": [
        "print('Accuracy:', accuracy(y_pred, y_test))"
      ],
      "metadata": {
        "colab": {
          "base_uri": "https://localhost:8080/"
        },
        "id": "amvGGvy3kZqU",
        "outputId": "0d4a1641-6457-4fc5-f0f6-31d07f1512cf"
      },
      "execution_count": null,
      "outputs": [
        {
          "output_type": "stream",
          "name": "stdout",
          "text": [
            "Accuracy: 0.8163\n"
          ]
        }
      ]
    },
    {
      "cell_type": "code",
      "source": [
        "classWiseAccuracy(y_test, y_pred)"
      ],
      "metadata": {
        "colab": {
          "base_uri": "https://localhost:8080/"
        },
        "id": "QUF4oZKh7nCq",
        "outputId": "6721ec0b-8d21-4ecc-bb32-5ecaf1f19bd5"
      },
      "execution_count": null,
      "outputs": [
        {
          "output_type": "stream",
          "name": "stdout",
          "text": [
            "Class0 0.9193877551020408\n",
            "Class1 0.9409691629955947\n",
            "Class2 0.8081395348837209\n",
            "Class3 0.7653465346534654\n",
            "Class4 0.7505091649694501\n",
            "Class5 0.7769058295964125\n",
            "Class6 0.8496868475991649\n",
            "Class7 0.8219844357976653\n",
            "Class8 0.7782340862422998\n",
            "Class9 0.7333994053518335\n"
          ]
        }
      ]
    },
    {
      "cell_type": "markdown",
      "source": [
        "#Question 4"
      ],
      "metadata": {
        "id": "WovTQ2ndwFYh"
      }
    },
    {
      "cell_type": "code",
      "source": [
        "X_train = images_file_read(\"/content/drive/MyDrive/SML/mnist/train-images-idx3-ubyte.gz\")\n",
        "print(X_train.shape)\n",
        "y_train = labels_file_read(\"/content/drive/MyDrive/SML/mnist/train-labels-idx1-ubyte.gz\")\n",
        "X_test = images_file_read(\"/content/drive/MyDrive/SML/mnist/t10k-images-idx3-ubyte.gz\")\n",
        "print(X_test.shape)\n",
        "y_test = labels_file_read(\"/content/drive/MyDrive/SML/mnist/t10k-labels-idx1-ubyte.gz\")"
      ],
      "metadata": {
        "colab": {
          "base_uri": "https://localhost:8080/"
        },
        "id": "Ee_KiSKtsOI2",
        "outputId": "cbefd55a-5a7e-4290-9ed3-946b011b76fd"
      },
      "execution_count": null,
      "outputs": [
        {
          "output_type": "stream",
          "name": "stdout",
          "text": [
            "(60000, 28, 28)\n",
            "(10000, 28, 28)\n"
          ]
        }
      ]
    },
    {
      "cell_type": "code",
      "source": [
        "X_train = X_train.reshape(60000,28*28)\n",
        "X_test = X_test.reshape(10000,28*28)"
      ],
      "metadata": {
        "id": "KAjUs0cGvfAo"
      },
      "execution_count": null,
      "outputs": []
    },
    {
      "cell_type": "code",
      "source": [
        "dataset1 = np.zeros((60000,28*28))\n",
        "y1 = []\n",
        "\n",
        "dataset2 = np.zeros((60000,28*28))\n",
        "y2 = []\n",
        "\n",
        "dataset3 = np.zeros((60000,28*28))\n",
        "y3 = []\n",
        "\n",
        "notVal1 = []\n",
        "notVal2 = []\n",
        "notVal3 = []"
      ],
      "metadata": {
        "id": "gzDmG81dzPkp"
      },
      "execution_count": null,
      "outputs": []
    },
    {
      "cell_type": "code",
      "source": [
        "for i in range(60000):\n",
        "\n",
        "  index1 = random.randint(0,59999)\n",
        "  if index1 not in notVal1:\n",
        "    notVal1.append(index1)\n",
        "\n",
        "  index2 = random.randint(0,59999)\n",
        "  if index2 not in notVal2:\n",
        "    notVal2.append(index2)\n",
        "\n",
        "  index3 = random.randint(0,59999)\n",
        "  if index3 not in notVal3:\n",
        "    notVal3.append(index3)\n",
        "\n",
        "  dataset1[i] = X_train[index1]\n",
        "  y1.append(y_train[index1])\n",
        "\n",
        "  dataset2[i] = X_train[index2]\n",
        "  y2.append(y_train[index2])\n",
        "\n",
        "  dataset3[i] = X_train[index3]\n",
        "  y3.append(y_train[index3])\n",
        "\n",
        "val1 = np.zeros((60000-len(notVal1),28*28))\n",
        "y_val1 = []\n",
        "\n",
        "val2 = np.zeros((60000-len(notVal2),28*28))\n",
        "y_val2 = []\n",
        "\n",
        "val3 = np.zeros((60000-len(notVal3),28*28))\n",
        "y_val3 = []\n",
        "\n",
        "j1 = 0\n",
        "j2 = 0\n",
        "j3 = 0\n",
        "\n",
        "for i in range(60000):\n",
        "\n",
        "  if i not in notVal1 and j1<60000-len(notVal1):\n",
        "    val1[j1] = X_train[i]\n",
        "    y_val1.append(y_train[i])\n",
        "    j1 += 1\n",
        "\n",
        "  if i not in notVal2 and j2<60000-len(notVal2):\n",
        "    val2[j2] = X_train[i]\n",
        "    y_val2.append(y_train[i])\n",
        "    j2 += 1\n",
        "\n",
        "  if i not in notVal3 and j3<60000-len(notVal3):\n",
        "    val3[j3] = X_train[i]\n",
        "    y_val3.append(y_train[i])\n",
        "    j3 += 1"
      ],
      "metadata": {
        "id": "SpQONpqLzbIo"
      },
      "execution_count": null,
      "outputs": []
    },
    {
      "cell_type": "code",
      "source": [
        "print(val1.shape)\n",
        "print(val2.shape)\n",
        "print(val3.shape)\n",
        "print(len(notVal1))\n",
        "print(len(notVal2))\n",
        "print(len(notVal3))"
      ],
      "metadata": {
        "colab": {
          "base_uri": "https://localhost:8080/"
        },
        "id": "bIwQD8ZmFrFw",
        "outputId": "d0b45b4f-8269-4a30-a549-68610c301d23"
      },
      "execution_count": null,
      "outputs": [
        {
          "output_type": "stream",
          "name": "stdout",
          "text": [
            "(22022, 784)\n",
            "(22186, 784)\n",
            "(22172, 784)\n",
            "37978\n",
            "37814\n",
            "37828\n"
          ]
        }
      ]
    },
    {
      "cell_type": "markdown",
      "source": [
        "3 Decision Trees have to be made."
      ],
      "metadata": {
        "id": "VNXxTQNjx9Bv"
      }
    },
    {
      "cell_type": "code",
      "source": [
        "clf1 = DecisionTreeClassifier()\n",
        "clf1 = clf1.fit(dataset1,y1)\n",
        "\n",
        "clf2 = DecisionTreeClassifier()\n",
        "clf2 = clf2.fit(dataset2,y2)\n",
        "\n",
        "clf3 = DecisionTreeClassifier()\n",
        "clf3 = clf3.fit(dataset3,y3)"
      ],
      "metadata": {
        "id": "v6eAtHRSyx38"
      },
      "execution_count": null,
      "outputs": []
    },
    {
      "cell_type": "code",
      "source": [
        "with open('Q4_clf1', 'wb') as file:\n",
        "  pickle.dump(clf1, file)\n",
        "\n",
        "with open('Q4_clf2', 'wb') as file:\n",
        "  pickle.dump(clf2, file)\n",
        "\n",
        "with open('Q4_clf3', 'wb') as file:\n",
        "  pickle.dump(clf3, file)"
      ],
      "metadata": {
        "id": "XCQJHiK_fEKE"
      },
      "execution_count": null,
      "outputs": []
    },
    {
      "cell_type": "code",
      "source": [
        "y_pred1 = clf1.predict(X_test)\n",
        "y_pred2 = clf2.predict(X_test)\n",
        "y_pred3 = clf3.predict(X_test)"
      ],
      "metadata": {
        "id": "Ke5VfNcoNSUs"
      },
      "execution_count": null,
      "outputs": []
    },
    {
      "cell_type": "code",
      "source": [
        "num = 0\n",
        "final_pred = [-1]*len(y_test)\n",
        "\n",
        "for i in range(len(y_test)):\n",
        "\n",
        "  a = y_pred1[i]\n",
        "  b = y_pred2[i]\n",
        "  c = y_pred3[i]\n",
        "\n",
        "  ans = y_test[i]\n",
        "\n",
        "  if a==b and b==c:\n",
        "    if a==ans:\n",
        "      final_pred[i] = ans\n",
        "      num += 1\n",
        "  elif a==b and b!=c:\n",
        "    if a==ans:\n",
        "      final_pred[i] = ans\n",
        "      num += 1\n",
        "  elif b==c and c!=a:\n",
        "    if b==ans:\n",
        "      final_pred[i] = ans\n",
        "      num += 1\n",
        "  elif c==a and a!=b:\n",
        "    if c==ans:\n",
        "      final_pred[i] = ans\n",
        "      num += 1\n",
        "  else:\n",
        "    if a==ans:\n",
        "      final_pred[i] = ans\n",
        "      num += 1\n",
        "\n",
        "num = num*1.0"
      ],
      "metadata": {
        "id": "8weYTKZF8w9X"
      },
      "execution_count": null,
      "outputs": []
    },
    {
      "cell_type": "code",
      "source": [
        "print('Accuracy:', accuracy(final_pred, list(y_test)))"
      ],
      "metadata": {
        "colab": {
          "base_uri": "https://localhost:8080/"
        },
        "id": "jcuvkmr7cAis",
        "outputId": "925e59ed-acb5-41bc-d810-58cba4486333"
      },
      "execution_count": null,
      "outputs": [
        {
          "output_type": "stream",
          "name": "stdout",
          "text": [
            "Accuracy: 0.9104\n"
          ]
        }
      ]
    },
    {
      "cell_type": "code",
      "source": [
        "classWiseAccuracy(list(y_test), final_pred)"
      ],
      "metadata": {
        "colab": {
          "base_uri": "https://localhost:8080/"
        },
        "id": "DGSYiYpZ9TdO",
        "outputId": "f47196e8-434e-426b-c003-8cd2e526f37e"
      },
      "execution_count": null,
      "outputs": [
        {
          "output_type": "stream",
          "name": "stdout",
          "text": [
            "Class0 0.9693877551020408\n",
            "Class1 0.9770925110132158\n",
            "Class2 0.8953488372093024\n",
            "Class3 0.8831683168316832\n",
            "Class4 0.8920570264765784\n",
            "Class5 0.8766816143497758\n",
            "Class6 0.9269311064718163\n",
            "Class7 0.9241245136186771\n",
            "Class8 0.8531827515400411\n",
            "Class9 0.8939544103072349\n"
          ]
        }
      ]
    }
  ]
}